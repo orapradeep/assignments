{
 "cells": [
  {
   "cell_type": "code",
   "execution_count": 1,
   "metadata": {
    "collapsed": false
   },
   "outputs": [
    {
     "name": "stderr",
     "output_type": "stream",
     "text": [
      "C:\\Python27\\lib\\site-packages\\matplotlib\\__init__.py:872: UserWarning: axes.color_cycle is deprecated and replaced with axes.prop_cycle; please use the latter.\n",
      "  warnings.warn(self.msg_depr % (key, alt_key))\n"
     ]
    }
   ],
   "source": [
    "%matplotlib inline\n",
    "import matplotlib\n",
    "import seaborn as sns\n",
    "matplotlib.rcParams['savefig.dpi'] = 2 * matplotlib.rcParams['savefig.dpi']"
   ]
  },
  {
   "cell_type": "markdown",
   "metadata": {},
   "source": [
    "# Decision Trees and Random Forests\n",
    "*&copy; The Data Incubator*"
   ]
  },
  {
   "cell_type": "markdown",
   "metadata": {},
   "source": [
    "## Decision Trees\n",
    "\n",
    "A decision tree is a binary tree.  At each of the internal nodes, it chooses a feature $i$ and a threshold $t$.  Each leaf has a value.  Evaluation of the model is just traversal of the tree from the root.  At each node, for example $j$, we go down the left branch if $X_{ji} \\le t$ and the right branch otherwise.  The value of the model $f(X_{ji})$ is the value at the value at the terminating leaf of this traveral.  Below, we show a picture of this on small decision tree trained on the iris data set.  Notice that each internal node has a decision criterion and each leaf has the breakdown of label classes left at this leaf of the tree.  For a geometric picture of a decision tree, take a look at this [blog post](https://shapeofdata.wordpress.com/2013/07/02/decision-trees/)."
   ]
  },
  {
   "cell_type": "code",
   "execution_count": 1,
   "metadata": {
    "collapsed": false
   },
   "outputs": [
    {
     "ename": "InvocationException",
     "evalue": "GraphViz's executables not found",
     "output_type": "error",
     "traceback": [
      "\u001b[1;31m---------------------------------------------------------------------------\u001b[0m",
      "\u001b[1;31mInvocationException\u001b[0m                       Traceback (most recent call last)",
      "\u001b[1;32m<ipython-input-1-3452aa5e9794>\u001b[0m in \u001b[0;36m<module>\u001b[1;34m()\u001b[0m\n\u001b[0;32m     15\u001b[0m \u001b[0mtree\u001b[0m\u001b[1;33m.\u001b[0m\u001b[0mexport_graphviz\u001b[0m\u001b[1;33m(\u001b[0m\u001b[0mtree_clf\u001b[0m\u001b[1;33m,\u001b[0m \u001b[0mout_file\u001b[0m\u001b[1;33m=\u001b[0m\u001b[0mdot_data\u001b[0m\u001b[1;33m)\u001b[0m\u001b[1;33m\u001b[0m\u001b[0m\n\u001b[0;32m     16\u001b[0m \u001b[0mgraph\u001b[0m \u001b[1;33m=\u001b[0m \u001b[0mpydot\u001b[0m\u001b[1;33m.\u001b[0m\u001b[0mgraph_from_dot_data\u001b[0m\u001b[1;33m(\u001b[0m\u001b[0mdot_data\u001b[0m\u001b[1;33m.\u001b[0m\u001b[0mgetvalue\u001b[0m\u001b[1;33m(\u001b[0m\u001b[1;33m)\u001b[0m\u001b[1;33m)\u001b[0m\u001b[1;33m\u001b[0m\u001b[0m\n\u001b[1;32m---> 17\u001b[1;33m \u001b[0mdisplay\u001b[0m\u001b[1;33m.\u001b[0m\u001b[0mImage\u001b[0m\u001b[1;33m(\u001b[0m\u001b[0mgraph\u001b[0m\u001b[1;33m.\u001b[0m\u001b[0mcreate_png\u001b[0m\u001b[1;33m(\u001b[0m\u001b[1;33m)\u001b[0m\u001b[1;33m)\u001b[0m\u001b[1;33m\u001b[0m\u001b[0m\n\u001b[0m",
      "\u001b[1;32mC:\\Python27\\lib\\site-packages\\pydot.pyc\u001b[0m in \u001b[0;36m<lambda>\u001b[1;34m(f, prog)\u001b[0m\n\u001b[0;32m   1593\u001b[0m             self.__setattr__(\n\u001b[0;32m   1594\u001b[0m                 \u001b[1;34m'create_'\u001b[0m\u001b[1;33m+\u001b[0m\u001b[0mfrmt\u001b[0m\u001b[1;33m,\u001b[0m\u001b[1;33m\u001b[0m\u001b[0m\n\u001b[1;32m-> 1595\u001b[1;33m                 lambda f=frmt, prog=self.prog : self.create(format=f, prog=prog))\n\u001b[0m\u001b[0;32m   1596\u001b[0m             \u001b[0mf\u001b[0m \u001b[1;33m=\u001b[0m \u001b[0mself\u001b[0m\u001b[1;33m.\u001b[0m\u001b[0m__dict__\u001b[0m\u001b[1;33m[\u001b[0m\u001b[1;34m'create_'\u001b[0m\u001b[1;33m+\u001b[0m\u001b[0mfrmt\u001b[0m\u001b[1;33m]\u001b[0m\u001b[1;33m\u001b[0m\u001b[0m\n\u001b[0;32m   1597\u001b[0m             \u001b[0mf\u001b[0m\u001b[1;33m.\u001b[0m\u001b[0m__doc__\u001b[0m \u001b[1;33m=\u001b[0m \u001b[1;34m'''Refer to the docstring accompanying the 'create' method for more information.'''\u001b[0m\u001b[1;33m\u001b[0m\u001b[0m\n",
      "\u001b[1;32mC:\\Python27\\lib\\site-packages\\pydot.pyc\u001b[0m in \u001b[0;36mcreate\u001b[1;34m(self, prog, format)\u001b[0m\n\u001b[0;32m   1725\u001b[0m             \u001b[1;32mif\u001b[0m \u001b[0mself\u001b[0m\u001b[1;33m.\u001b[0m\u001b[0mprogs\u001b[0m \u001b[1;32mis\u001b[0m \u001b[0mNone\u001b[0m\u001b[1;33m:\u001b[0m\u001b[1;33m\u001b[0m\u001b[0m\n\u001b[0;32m   1726\u001b[0m                 raise InvocationException(\n\u001b[1;32m-> 1727\u001b[1;33m                     'GraphViz\\'s executables not found' )\n\u001b[0m\u001b[0;32m   1728\u001b[0m \u001b[1;33m\u001b[0m\u001b[0m\n\u001b[0;32m   1729\u001b[0m         \u001b[1;32mif\u001b[0m \u001b[1;32mnot\u001b[0m \u001b[0mself\u001b[0m\u001b[1;33m.\u001b[0m\u001b[0mprogs\u001b[0m\u001b[1;33m.\u001b[0m\u001b[0mhas_key\u001b[0m\u001b[1;33m(\u001b[0m\u001b[0mprog\u001b[0m\u001b[1;33m)\u001b[0m\u001b[1;33m:\u001b[0m\u001b[1;33m\u001b[0m\u001b[0m\n",
      "\u001b[1;31mInvocationException\u001b[0m: GraphViz's executables not found"
     ]
    }
   ],
   "source": [
    "# Train and draw out a decision tree\n",
    "\n",
    "from IPython import display\n",
    "from sklearn import datasets, tree, utils\n",
    "from sklearn.externals.six import StringIO  \n",
    "import pydot \n",
    "\n",
    "# Train a small decision tree on the iris dataset\n",
    "dataset = datasets.load_iris()\n",
    "X_iris, y_iris = utils.shuffle(dataset.data, dataset.target, random_state=42)\n",
    "tree_clf = tree.DecisionTreeClassifier(max_depth=3).fit(X_iris, y_iris)\n",
    "\n",
    "# Generate a plot of the decision tree\n",
    "dot_data = StringIO() \n",
    "tree.export_graphviz(tree_clf, out_file=dot_data) \n",
    "graph = pydot.graph_from_dot_data(dot_data.getvalue()) \n",
    "display.Image(graph.create_png())"
   ]
  },
  {
   "cell_type": "markdown",
   "metadata": {},
   "source": [
    "### Decision Tree Training Algorithm and Tuning Parameters\n",
    "\n",
    "The algorithm to construct a Decision Tree recursively builds a tree structure.  At each node, it finds the split (the feature and threshold level) that maximize the improvement in a criteria (in this case, the decrease in the gini index.  This algorithm is controlled by four major parameters:\n",
    "\n",
    "<table>\n",
    "\t<tr>\n",
    "    <th>Feature</th>\n",
    "    <th>Value</th>\n",
    "\t</tr>\n",
    "\n",
    "\t<tr>\n",
    "    <td>`max_features`</td>\n",
    "    <td>The number of features to consider when choosing a split for an internal node</td>\n",
    "\t</tr>\n",
    "\n",
    "\t<tr>\n",
    "    <td>`max_depth`</td>\n",
    "    <td>The maximum depth of tree from the root</td>\n",
    "\t</tr>\n",
    "\n",
    "\t<tr>\n",
    "    <td>`min_samples_split`</td>\n",
    "    <td>Minimum number of samples required for a split to be considered</td>\n",
    "\t</tr>\n",
    "\n",
    "\t<tr>\n",
    "    <td>`min_samples_leaf`</td>\n",
    "    <td>Minimum number of samples required for each leaf</td>\n",
    "\t</tr>\n",
    "</table>\n",
    "\n",
    "**Question**: \n",
    "\n",
    "1. How do each of these features affect the Variance Bias Decomposition?\n",
    "1. The following snippet trains a very basic Decision Tree on the Boston housing price dataset with default parameters.  Adjust the above parameters to tune a better decision tree.  How much better is it's performance?  Hint: use `sklearn.grid_search.GridSearchCV`"
   ]
  },
  {
   "cell_type": "code",
   "execution_count": 2,
   "metadata": {
    "collapsed": false
   },
   "outputs": [
    {
     "ename": "ValueError",
     "evalue": "Unknown label type: array([[ 12. ],\n       [ 19.9],\n       [ 19.4],\n       [ 13.4],\n       [ 18.2],\n       [ 24.6],\n       [ 21.1],\n       [ 24.7],\n       [  8.7],\n       [ 27.5],\n       [ 20.7],\n       [ 36.2],\n       [ 31.6],\n       [ 11.7],\n       [ 39.8],\n       [ 13.9],\n       [ 21.8],\n       [ 23.7],\n       [ 17.6],\n       [ 24.4],\n       [  8.8],\n       [ 19.2],\n       [ 25.3],\n       [ 20.4],\n       [ 23.1],\n       [ 37.9],\n       [ 15.6],\n       [ 45.4],\n       [ 15.7],\n       [ 22.6],\n       [ 14.5],\n       [ 18.7],\n       [ 17.8],\n       [ 16.1],\n       [ 20.6],\n       [ 31.6],\n       [ 29.1],\n       [ 15.6],\n       [ 17.5],\n       [ 22.5],\n       [ 19.4],\n       [ 19.3],\n       [  8.5],\n       [ 20.6],\n       [ 17. ],\n       [ 17.1],\n       [ 14.5],\n       [ 50. ],\n       [ 14.3],\n       [ 12.6],\n       [ 28.7],\n       [ 21.2],\n       [ 19.3],\n       [ 23.1],\n       [ 19.1],\n       [ 25. ],\n       [ 33.4],\n       [  5. ],\n       [ 29.6],\n       [ 18.7],\n       [ 21.7],\n       [ 23.1],\n       [ 22.8],\n       [ 21. ],\n       [ 48.8],\n       [ 14.6],\n       [ 16.6],\n       [ 27.1],\n       [ 20.1],\n       [ 19.8],\n       [ 21. ],\n       [ 41.3],\n       [ 23.2],\n       [ 20.4],\n       [ 18.5],\n       [ 29.4],\n       [ 36.4],\n       [ 24.4],\n       [ 11.8],\n       [ 13.8],\n       [ 12.3],\n       [ 17.8],\n       [ 33.1],\n       [ 26.7],\n       [ 13.4],\n       [ 14.4],\n       [ 50. ],\n       [ 22. ],\n       [ 19.9],\n       [ 23.8],\n       [ 17.5],\n       [ 12.7],\n       [  5.6],\n       [ 31.1],\n       [ 26.2],\n       [ 19.4],\n       [ 16.7],\n       [ 13.8],\n       [ 22.9],\n       [ 15.3],\n       [ 27.5],\n       [ 36.1],\n       [ 22.9],\n       [ 24.5],\n       [ 25. ],\n       [ 50. ],\n       [ 34.9],\n       [ 31.7],\n       [ 24.1],\n       [ 22.1],\n       [ 14.1],\n       [ 42.8],\n       [ 19.3],\n       [ 32.2],\n       [ 26.4],\n       [ 21.8],\n       [ 21.7],\n       [  8.3],\n       [ 46.7],\n       [ 43.1],\n       [ 31.5],\n       [ 10.5],\n       [ 16.7],\n       [ 20. ],\n       [ 33.3],\n       [ 17.8],\n       [ 50. ],\n       [ 20.5],\n       [ 23.2],\n       [ 13.1],\n       [ 19.6],\n       [ 22.8],\n       [ 28.7],\n       [ 30.7],\n       [ 22.9],\n       [ 21.9],\n       [ 23.9],\n       [ 32.7],\n       [ 24.3],\n       [ 21.5],\n       [ 24.6],\n       [  8.5],\n       [ 26.4],\n       [ 23.1],\n       [ 15. ],\n       [  8.8],\n       [ 19.3],\n       [ 23.9],\n       [ 24.7],\n       [ 19.8],\n       [ 23.8],\n       [ 13.3],\n       [ 29. ],\n       [ 27.1],\n       [ 34.6],\n       [ 13.3],\n       [ 15.6],\n       [ 12.5],\n       [ 14.6],\n       [ 11. ],\n       [ 24.8],\n       [ 17.3],\n       [  8.1],\n       [ 21.4],\n       [ 15.6],\n       [ 23.3],\n       [ 32. ],\n       [ 38.7],\n       [ 30.1],\n       [ 20.5],\n       [ 32.5],\n       [ 42.3],\n       [ 24.3],\n       [ 20.6],\n       [ 22. ],\n       [ 18.2],\n       [ 15. ],\n       [  6.3],\n       [ 20.1],\n       [ 21.4],\n       [ 28.4],\n       [ 30.1],\n       [ 20.8],\n       [ 23. ],\n       [ 14.3],\n       [ 11.7],\n       [ 37.3],\n       [ 17.1],\n       [ 10.4],\n       [ 23. ],\n       [ 22.7],\n       [ 20.3],\n       [ 21.7],\n       [ 50. ],\n       [  8.4],\n       [ 18.8],\n       [ 37.2],\n       [ 16.1],\n       [ 16.5],\n       [ 22.2],\n       [ 20.6],\n       [ 13.5],\n       [ 48.3],\n       [ 23.8],\n       [ 22.7],\n       [ 17.4],\n       [ 30.3],\n       [ 36. ],\n       [ 41.7],\n       [ 18.3],\n       [ 22. ],\n       [ 18.6],\n       [ 44.8],\n       [ 11.9],\n       [ 18.7],\n       [ 16.2],\n       [ 22. ],\n       [  7.2],\n       [ 20.4],\n       [ 13.8],\n       [ 13. ],\n       [ 18.4],\n       [ 23.1],\n       [ 21.2],\n       [ 23.1],\n       [ 23.5],\n       [ 50. ],\n       [ 26.6],\n       [ 22.2],\n       [ 50. ],\n       [  8.3],\n       [ 23.3],\n       [ 21.7],\n       [ 18.9],\n       [ 18.4],\n       [ 17.4],\n       [ 13.4],\n       [ 12.1],\n       [ 26.6],\n       [ 21.7],\n       [ 28.4],\n       [ 20.5],\n       [ 22. ],\n       [ 13.9],\n       [ 11.3],\n       [ 29.9],\n       [ 26.6],\n       [ 10.5],\n       [ 23.2],\n       [ 24.4],\n       [ 46. ],\n       [ 21.9],\n       [  7.5],\n       [ 36.2],\n       [ 44. ],\n       [ 17.8],\n       [ 27.5],\n       [ 37.6],\n       [ 14.1],\n       [ 28.1],\n       [ 10.2],\n       [ 19.1],\n       [ 43.8],\n       [ 27.9],\n       [ 25. ],\n       [ 16. ],\n       [ 16.6],\n       [ 13.2],\n       [ 50. ],\n       [ 22.2],\n       [ 32.9],\n       [ 15.2],\n       [ 14.8],\n       [ 13.8],\n       [ 24.3],\n       [ 33.8],\n       [ 22.3],\n       [ 50. ],\n       [  9.5],\n       [ 13.3],\n       [ 22.2],\n       [ 18.1],\n       [ 18. ],\n       [ 25. ],\n       [ 16.5],\n       [ 23. ],\n       [ 20.1],\n       [ 33. ],\n       [ 24.8],\n       [ 18.2],\n       [ 13.1],\n       [ 34.9],\n       [ 10.2],\n       [ 19.9],\n       [ 27.9],\n       [ 23.3],\n       [ 35.1],\n       [ 12.8],\n       [ 22. ],\n       [ 18.5],\n       [ 25.1],\n       [ 22.5],\n       [ 22.4],\n       [ 28.6],\n       [ 19.5],\n       [ 24.8],\n       [ 24.5],\n       [ 21.4],\n       [ 33.1],\n       [ 22.9],\n       [ 20.7],\n       [ 24.1],\n       [ 50. ],\n       [ 24.7],\n       [ 28.7],\n       [  7.2],\n       [ 37. ],\n       [ 20.3],\n       [ 30.1],\n       [ 19.5],\n       [ 23.4],\n       [ 11.5],\n       [ 21.6],\n       [ 14.9],\n       [ 15.2],\n       [ 19.4],\n       [  8.4],\n       [ 28. ],\n       [ 22.6],\n       [ 13.5],\n       [ 14.5],\n       [ 31. ],\n       [ 10.9],\n       [ 21.9],\n       [ 22. ],\n       [ 19. ],\n       [ 21.4],\n       [ 25. ],\n       [ 17.5],\n       [ 36.5],\n       [ 20.1],\n       [ 20.4],\n       [ 16.2],\n       [ 23.6],\n       [  7.4],\n       [ 35.2],\n       [ 50. ],\n       [ 19.3],\n       [ 21.2],\n       [ 15.6],\n       [ 33.4],\n       [ 19.1],\n       [ 21. ],\n       [ 23.7],\n       [ 18.9],\n       [ 16.8],\n       [ 19.7],\n       [ 17.7],\n       [ 22.6],\n       [ 11.8],\n       [ 34.9],\n       [ 20.6],\n       [ 20.2],\n       [ 32. ],\n       [ 22.3],\n       [ 23.3],\n       [ 14.4],\n       [ 31.2],\n       [ 24. ],\n       [ 29.6],\n       [ 19.6],\n       [ 21.6],\n       [ 20. ],\n       [ 27. ],\n       [ 33.2],\n       [ 15.4],\n       [ 30.5],\n       [  7.2],\n       [ 23.9],\n       [ 16.3],\n       [ 23.9],\n       [ 50. ],\n       [ 22.8],\n       [ 15.4],\n       [ 19.2],\n       [ 19.6],\n       [ 22.6],\n       [ 33.2],\n       [ 50. ],\n       [ 22.2],\n       [ 14.9],\n       [ 19.8],\n       [ 23.7],\n       [ 19. ],\n       [ 20.3],\n       [ 11.9],\n       [ 13.6],\n       [ 29.8],\n       [ 21.7],\n       [ 19.5],\n       [ 21.1],\n       [ 24.5],\n       [ 13.4],\n       [ 18.6]])",
     "output_type": "error",
     "traceback": [
      "\u001b[1;31m---------------------------------------------------------------------------\u001b[0m",
      "\u001b[1;31mValueError\u001b[0m                                Traceback (most recent call last)",
      "\u001b[1;32m<ipython-input-2-20f415cc1dc5>\u001b[0m in \u001b[0;36m<module>\u001b[1;34m()\u001b[0m\n\u001b[0;32m     16\u001b[0m pd.DataFrame([\n\u001b[0;32m     17\u001b[0m     \u001b[1;33m(\u001b[0m\u001b[1;34m\"Mean Model\"\u001b[0m\u001b[1;33m,\u001b[0m \u001b[0my\u001b[0m\u001b[1;33m.\u001b[0m\u001b[0mvar\u001b[0m\u001b[1;33m(\u001b[0m\u001b[1;33m)\u001b[0m\u001b[1;33m)\u001b[0m\u001b[1;33m,\u001b[0m\u001b[1;33m\u001b[0m\u001b[0m\n\u001b[1;32m---> 18\u001b[1;33m     \u001b[1;33m(\u001b[0m\u001b[1;34m\"Decision Tree\"\u001b[0m\u001b[1;33m,\u001b[0m \u001b[0mcompute_error\u001b[0m\u001b[1;33m(\u001b[0m\u001b[0mtree_clf\u001b[0m\u001b[1;33m,\u001b[0m \u001b[0mX\u001b[0m\u001b[1;33m,\u001b[0m \u001b[0my\u001b[0m\u001b[1;33m)\u001b[0m\u001b[1;33m)\u001b[0m\u001b[1;33m\u001b[0m\u001b[0m\n\u001b[0m\u001b[0;32m     19\u001b[0m ], columns=[\"Model\", \"MSE\"]).plot(x=\"Model\", y=\"MSE\", kind=\"Bar\")\n",
      "\u001b[1;32m<ipython-input-2-20f415cc1dc5>\u001b[0m in \u001b[0;36mcompute_error\u001b[1;34m(clf, X, y)\u001b[0m\n\u001b[0;32m     11\u001b[0m \u001b[0mcv\u001b[0m \u001b[1;33m=\u001b[0m \u001b[0mcross_validation\u001b[0m\u001b[1;33m.\u001b[0m\u001b[0mShuffleSplit\u001b[0m\u001b[1;33m(\u001b[0m\u001b[0mlen\u001b[0m\u001b[1;33m(\u001b[0m\u001b[0my\u001b[0m\u001b[1;33m)\u001b[0m\u001b[1;33m,\u001b[0m \u001b[0mn_iter\u001b[0m\u001b[1;33m=\u001b[0m\u001b[1;36m20\u001b[0m\u001b[1;33m,\u001b[0m \u001b[0mtest_size\u001b[0m\u001b[1;33m=\u001b[0m\u001b[1;36m0.2\u001b[0m\u001b[1;33m,\u001b[0m \u001b[0mrandom_state\u001b[0m\u001b[1;33m=\u001b[0m\u001b[1;36m42\u001b[0m\u001b[1;33m)\u001b[0m\u001b[1;33m\u001b[0m\u001b[0m\n\u001b[0;32m     12\u001b[0m \u001b[1;32mdef\u001b[0m \u001b[0mcompute_error\u001b[0m\u001b[1;33m(\u001b[0m\u001b[0mclf\u001b[0m\u001b[1;33m,\u001b[0m \u001b[0mX\u001b[0m\u001b[1;33m,\u001b[0m \u001b[0my\u001b[0m\u001b[1;33m)\u001b[0m\u001b[1;33m:\u001b[0m\u001b[1;33m\u001b[0m\u001b[0m\n\u001b[1;32m---> 13\u001b[1;33m     \u001b[1;32mreturn\u001b[0m \u001b[1;33m-\u001b[0m \u001b[0mcross_validation\u001b[0m\u001b[1;33m.\u001b[0m\u001b[0mcross_val_score\u001b[0m\u001b[1;33m(\u001b[0m\u001b[0mclf\u001b[0m\u001b[1;33m,\u001b[0m \u001b[0mX\u001b[0m\u001b[1;33m,\u001b[0m \u001b[0my\u001b[0m\u001b[1;33m,\u001b[0m \u001b[0mcv\u001b[0m\u001b[1;33m=\u001b[0m\u001b[0mcv\u001b[0m\u001b[1;33m,\u001b[0m \u001b[0mscoring\u001b[0m\u001b[1;33m=\u001b[0m\u001b[1;34m'mean_squared_error'\u001b[0m\u001b[1;33m)\u001b[0m\u001b[1;33m.\u001b[0m\u001b[0mmean\u001b[0m\u001b[1;33m(\u001b[0m\u001b[1;33m)\u001b[0m\u001b[1;33m\u001b[0m\u001b[0m\n\u001b[0m\u001b[0;32m     14\u001b[0m \u001b[1;33m\u001b[0m\u001b[0m\n\u001b[0;32m     15\u001b[0m \u001b[0mtree_reg\u001b[0m \u001b[1;33m=\u001b[0m \u001b[0mtree\u001b[0m\u001b[1;33m.\u001b[0m\u001b[0mDecisionTreeRegressor\u001b[0m\u001b[1;33m(\u001b[0m\u001b[1;33m)\u001b[0m\u001b[1;33m\u001b[0m\u001b[0m\n",
      "\u001b[1;32mC:\\Python27\\lib\\site-packages\\sklearn\\cross_validation.pyc\u001b[0m in \u001b[0;36mcross_val_score\u001b[1;34m(estimator, X, y, scoring, cv, n_jobs, verbose, fit_params, pre_dispatch)\u001b[0m\n\u001b[0;32m   1431\u001b[0m                                               \u001b[0mtrain\u001b[0m\u001b[1;33m,\u001b[0m \u001b[0mtest\u001b[0m\u001b[1;33m,\u001b[0m \u001b[0mverbose\u001b[0m\u001b[1;33m,\u001b[0m \u001b[0mNone\u001b[0m\u001b[1;33m,\u001b[0m\u001b[1;33m\u001b[0m\u001b[0m\n\u001b[0;32m   1432\u001b[0m                                               fit_params)\n\u001b[1;32m-> 1433\u001b[1;33m                       for train, test in cv)\n\u001b[0m\u001b[0;32m   1434\u001b[0m     \u001b[1;32mreturn\u001b[0m \u001b[0mnp\u001b[0m\u001b[1;33m.\u001b[0m\u001b[0marray\u001b[0m\u001b[1;33m(\u001b[0m\u001b[0mscores\u001b[0m\u001b[1;33m)\u001b[0m\u001b[1;33m[\u001b[0m\u001b[1;33m:\u001b[0m\u001b[1;33m,\u001b[0m \u001b[1;36m0\u001b[0m\u001b[1;33m]\u001b[0m\u001b[1;33m\u001b[0m\u001b[0m\n\u001b[0;32m   1435\u001b[0m \u001b[1;33m\u001b[0m\u001b[0m\n",
      "\u001b[1;32mC:\\Python27\\lib\\site-packages\\sklearn\\externals\\joblib\\parallel.pyc\u001b[0m in \u001b[0;36m__call__\u001b[1;34m(self, iterable)\u001b[0m\n\u001b[0;32m    802\u001b[0m             \u001b[0mself\u001b[0m\u001b[1;33m.\u001b[0m\u001b[0m_iterating\u001b[0m \u001b[1;33m=\u001b[0m \u001b[0mTrue\u001b[0m\u001b[1;33m\u001b[0m\u001b[0m\n\u001b[0;32m    803\u001b[0m \u001b[1;33m\u001b[0m\u001b[0m\n\u001b[1;32m--> 804\u001b[1;33m             \u001b[1;32mwhile\u001b[0m \u001b[0mself\u001b[0m\u001b[1;33m.\u001b[0m\u001b[0mdispatch_one_batch\u001b[0m\u001b[1;33m(\u001b[0m\u001b[0miterator\u001b[0m\u001b[1;33m)\u001b[0m\u001b[1;33m:\u001b[0m\u001b[1;33m\u001b[0m\u001b[0m\n\u001b[0m\u001b[0;32m    805\u001b[0m                 \u001b[1;32mpass\u001b[0m\u001b[1;33m\u001b[0m\u001b[0m\n\u001b[0;32m    806\u001b[0m \u001b[1;33m\u001b[0m\u001b[0m\n",
      "\u001b[1;32mC:\\Python27\\lib\\site-packages\\sklearn\\externals\\joblib\\parallel.pyc\u001b[0m in \u001b[0;36mdispatch_one_batch\u001b[1;34m(self, iterator)\u001b[0m\n\u001b[0;32m    660\u001b[0m                 \u001b[1;32mreturn\u001b[0m \u001b[0mFalse\u001b[0m\u001b[1;33m\u001b[0m\u001b[0m\n\u001b[0;32m    661\u001b[0m             \u001b[1;32melse\u001b[0m\u001b[1;33m:\u001b[0m\u001b[1;33m\u001b[0m\u001b[0m\n\u001b[1;32m--> 662\u001b[1;33m                 \u001b[0mself\u001b[0m\u001b[1;33m.\u001b[0m\u001b[0m_dispatch\u001b[0m\u001b[1;33m(\u001b[0m\u001b[0mtasks\u001b[0m\u001b[1;33m)\u001b[0m\u001b[1;33m\u001b[0m\u001b[0m\n\u001b[0m\u001b[0;32m    663\u001b[0m                 \u001b[1;32mreturn\u001b[0m \u001b[0mTrue\u001b[0m\u001b[1;33m\u001b[0m\u001b[0m\n\u001b[0;32m    664\u001b[0m \u001b[1;33m\u001b[0m\u001b[0m\n",
      "\u001b[1;32mC:\\Python27\\lib\\site-packages\\sklearn\\externals\\joblib\\parallel.pyc\u001b[0m in \u001b[0;36m_dispatch\u001b[1;34m(self, batch)\u001b[0m\n\u001b[0;32m    568\u001b[0m \u001b[1;33m\u001b[0m\u001b[0m\n\u001b[0;32m    569\u001b[0m         \u001b[1;32mif\u001b[0m \u001b[0mself\u001b[0m\u001b[1;33m.\u001b[0m\u001b[0m_pool\u001b[0m \u001b[1;32mis\u001b[0m \u001b[0mNone\u001b[0m\u001b[1;33m:\u001b[0m\u001b[1;33m\u001b[0m\u001b[0m\n\u001b[1;32m--> 570\u001b[1;33m             \u001b[0mjob\u001b[0m \u001b[1;33m=\u001b[0m \u001b[0mImmediateComputeBatch\u001b[0m\u001b[1;33m(\u001b[0m\u001b[0mbatch\u001b[0m\u001b[1;33m)\u001b[0m\u001b[1;33m\u001b[0m\u001b[0m\n\u001b[0m\u001b[0;32m    571\u001b[0m             \u001b[0mself\u001b[0m\u001b[1;33m.\u001b[0m\u001b[0m_jobs\u001b[0m\u001b[1;33m.\u001b[0m\u001b[0mappend\u001b[0m\u001b[1;33m(\u001b[0m\u001b[0mjob\u001b[0m\u001b[1;33m)\u001b[0m\u001b[1;33m\u001b[0m\u001b[0m\n\u001b[0;32m    572\u001b[0m             \u001b[0mself\u001b[0m\u001b[1;33m.\u001b[0m\u001b[0mn_dispatched_batches\u001b[0m \u001b[1;33m+=\u001b[0m \u001b[1;36m1\u001b[0m\u001b[1;33m\u001b[0m\u001b[0m\n",
      "\u001b[1;32mC:\\Python27\\lib\\site-packages\\sklearn\\externals\\joblib\\parallel.pyc\u001b[0m in \u001b[0;36m__init__\u001b[1;34m(self, batch)\u001b[0m\n\u001b[0;32m    181\u001b[0m         \u001b[1;31m# Don't delay the application, to avoid keeping the input\u001b[0m\u001b[1;33m\u001b[0m\u001b[1;33m\u001b[0m\u001b[0m\n\u001b[0;32m    182\u001b[0m         \u001b[1;31m# arguments in memory\u001b[0m\u001b[1;33m\u001b[0m\u001b[1;33m\u001b[0m\u001b[0m\n\u001b[1;32m--> 183\u001b[1;33m         \u001b[0mself\u001b[0m\u001b[1;33m.\u001b[0m\u001b[0mresults\u001b[0m \u001b[1;33m=\u001b[0m \u001b[0mbatch\u001b[0m\u001b[1;33m(\u001b[0m\u001b[1;33m)\u001b[0m\u001b[1;33m\u001b[0m\u001b[0m\n\u001b[0m\u001b[0;32m    184\u001b[0m \u001b[1;33m\u001b[0m\u001b[0m\n\u001b[0;32m    185\u001b[0m     \u001b[1;32mdef\u001b[0m \u001b[0mget\u001b[0m\u001b[1;33m(\u001b[0m\u001b[0mself\u001b[0m\u001b[1;33m)\u001b[0m\u001b[1;33m:\u001b[0m\u001b[1;33m\u001b[0m\u001b[0m\n",
      "\u001b[1;32mC:\\Python27\\lib\\site-packages\\sklearn\\externals\\joblib\\parallel.pyc\u001b[0m in \u001b[0;36m__call__\u001b[1;34m(self)\u001b[0m\n\u001b[0;32m     70\u001b[0m \u001b[1;33m\u001b[0m\u001b[0m\n\u001b[0;32m     71\u001b[0m     \u001b[1;32mdef\u001b[0m \u001b[0m__call__\u001b[0m\u001b[1;33m(\u001b[0m\u001b[0mself\u001b[0m\u001b[1;33m)\u001b[0m\u001b[1;33m:\u001b[0m\u001b[1;33m\u001b[0m\u001b[0m\n\u001b[1;32m---> 72\u001b[1;33m         \u001b[1;32mreturn\u001b[0m \u001b[1;33m[\u001b[0m\u001b[0mfunc\u001b[0m\u001b[1;33m(\u001b[0m\u001b[1;33m*\u001b[0m\u001b[0margs\u001b[0m\u001b[1;33m,\u001b[0m \u001b[1;33m**\u001b[0m\u001b[0mkwargs\u001b[0m\u001b[1;33m)\u001b[0m \u001b[1;32mfor\u001b[0m \u001b[0mfunc\u001b[0m\u001b[1;33m,\u001b[0m \u001b[0margs\u001b[0m\u001b[1;33m,\u001b[0m \u001b[0mkwargs\u001b[0m \u001b[1;32min\u001b[0m \u001b[0mself\u001b[0m\u001b[1;33m.\u001b[0m\u001b[0mitems\u001b[0m\u001b[1;33m]\u001b[0m\u001b[1;33m\u001b[0m\u001b[0m\n\u001b[0m\u001b[0;32m     73\u001b[0m \u001b[1;33m\u001b[0m\u001b[0m\n\u001b[0;32m     74\u001b[0m     \u001b[1;32mdef\u001b[0m \u001b[0m__len__\u001b[0m\u001b[1;33m(\u001b[0m\u001b[0mself\u001b[0m\u001b[1;33m)\u001b[0m\u001b[1;33m:\u001b[0m\u001b[1;33m\u001b[0m\u001b[0m\n",
      "\u001b[1;32mC:\\Python27\\lib\\site-packages\\sklearn\\cross_validation.pyc\u001b[0m in \u001b[0;36m_fit_and_score\u001b[1;34m(estimator, X, y, scorer, train, test, verbose, parameters, fit_params, return_train_score, return_parameters, error_score)\u001b[0m\n\u001b[0;32m   1529\u001b[0m             \u001b[0mestimator\u001b[0m\u001b[1;33m.\u001b[0m\u001b[0mfit\u001b[0m\u001b[1;33m(\u001b[0m\u001b[0mX_train\u001b[0m\u001b[1;33m,\u001b[0m \u001b[1;33m**\u001b[0m\u001b[0mfit_params\u001b[0m\u001b[1;33m)\u001b[0m\u001b[1;33m\u001b[0m\u001b[0m\n\u001b[0;32m   1530\u001b[0m         \u001b[1;32melse\u001b[0m\u001b[1;33m:\u001b[0m\u001b[1;33m\u001b[0m\u001b[0m\n\u001b[1;32m-> 1531\u001b[1;33m             \u001b[0mestimator\u001b[0m\u001b[1;33m.\u001b[0m\u001b[0mfit\u001b[0m\u001b[1;33m(\u001b[0m\u001b[0mX_train\u001b[0m\u001b[1;33m,\u001b[0m \u001b[0my_train\u001b[0m\u001b[1;33m,\u001b[0m \u001b[1;33m**\u001b[0m\u001b[0mfit_params\u001b[0m\u001b[1;33m)\u001b[0m\u001b[1;33m\u001b[0m\u001b[0m\n\u001b[0m\u001b[0;32m   1532\u001b[0m \u001b[1;33m\u001b[0m\u001b[0m\n\u001b[0;32m   1533\u001b[0m     \u001b[1;32mexcept\u001b[0m \u001b[0mException\u001b[0m \u001b[1;32mas\u001b[0m \u001b[0me\u001b[0m\u001b[1;33m:\u001b[0m\u001b[1;33m\u001b[0m\u001b[0m\n",
      "\u001b[1;32mC:\\Python27\\lib\\site-packages\\sklearn\\tree\\tree.pyc\u001b[0m in \u001b[0;36mfit\u001b[1;34m(self, X, y, sample_weight, check_input, X_idx_sorted)\u001b[0m\n\u001b[0;32m    175\u001b[0m \u001b[1;33m\u001b[0m\u001b[0m\n\u001b[0;32m    176\u001b[0m         \u001b[1;32mif\u001b[0m \u001b[0mis_classification\u001b[0m\u001b[1;33m:\u001b[0m\u001b[1;33m\u001b[0m\u001b[0m\n\u001b[1;32m--> 177\u001b[1;33m             \u001b[0mcheck_classification_targets\u001b[0m\u001b[1;33m(\u001b[0m\u001b[0my\u001b[0m\u001b[1;33m)\u001b[0m\u001b[1;33m\u001b[0m\u001b[0m\n\u001b[0m\u001b[0;32m    178\u001b[0m             \u001b[0my\u001b[0m \u001b[1;33m=\u001b[0m \u001b[0mnp\u001b[0m\u001b[1;33m.\u001b[0m\u001b[0mcopy\u001b[0m\u001b[1;33m(\u001b[0m\u001b[0my\u001b[0m\u001b[1;33m)\u001b[0m\u001b[1;33m\u001b[0m\u001b[0m\n\u001b[0;32m    179\u001b[0m \u001b[1;33m\u001b[0m\u001b[0m\n",
      "\u001b[1;32mC:\\Python27\\lib\\site-packages\\sklearn\\utils\\multiclass.pyc\u001b[0m in \u001b[0;36mcheck_classification_targets\u001b[1;34m(y)\u001b[0m\n\u001b[0;32m    171\u001b[0m     if y_type not in ['binary', 'multiclass', 'multiclass-multioutput', \n\u001b[0;32m    172\u001b[0m             'multilabel-indicator', 'multilabel-sequences']:\n\u001b[1;32m--> 173\u001b[1;33m         \u001b[1;32mraise\u001b[0m \u001b[0mValueError\u001b[0m\u001b[1;33m(\u001b[0m\u001b[1;34m\"Unknown label type: %r\"\u001b[0m \u001b[1;33m%\u001b[0m \u001b[0my\u001b[0m\u001b[1;33m)\u001b[0m\u001b[1;33m\u001b[0m\u001b[0m\n\u001b[0m\u001b[0;32m    174\u001b[0m \u001b[1;33m\u001b[0m\u001b[0m\n\u001b[0;32m    175\u001b[0m \u001b[1;33m\u001b[0m\u001b[0m\n",
      "\u001b[1;31mValueError\u001b[0m: Unknown label type: array([[ 12. ],\n       [ 19.9],\n       [ 19.4],\n       [ 13.4],\n       [ 18.2],\n       [ 24.6],\n       [ 21.1],\n       [ 24.7],\n       [  8.7],\n       [ 27.5],\n       [ 20.7],\n       [ 36.2],\n       [ 31.6],\n       [ 11.7],\n       [ 39.8],\n       [ 13.9],\n       [ 21.8],\n       [ 23.7],\n       [ 17.6],\n       [ 24.4],\n       [  8.8],\n       [ 19.2],\n       [ 25.3],\n       [ 20.4],\n       [ 23.1],\n       [ 37.9],\n       [ 15.6],\n       [ 45.4],\n       [ 15.7],\n       [ 22.6],\n       [ 14.5],\n       [ 18.7],\n       [ 17.8],\n       [ 16.1],\n       [ 20.6],\n       [ 31.6],\n       [ 29.1],\n       [ 15.6],\n       [ 17.5],\n       [ 22.5],\n       [ 19.4],\n       [ 19.3],\n       [  8.5],\n       [ 20.6],\n       [ 17. ],\n       [ 17.1],\n       [ 14.5],\n       [ 50. ],\n       [ 14.3],\n       [ 12.6],\n       [ 28.7],\n       [ 21.2],\n       [ 19.3],\n       [ 23.1],\n       [ 19.1],\n       [ 25. ],\n       [ 33.4],\n       [  5. ],\n       [ 29.6],\n       [ 18.7],\n       [ 21.7],\n       [ 23.1],\n       [ 22.8],\n       [ 21. ],\n       [ 48.8],\n       [ 14.6],\n       [ 16.6],\n       [ 27.1],\n       [ 20.1],\n       [ 19.8],\n       [ 21. ],\n       [ 41.3],\n       [ 23.2],\n       [ 20.4],\n       [ 18.5],\n       [ 29.4],\n       [ 36.4],\n       [ 24.4],\n       [ 11.8],\n       [ 13.8],\n       [ 12.3],\n       [ 17.8],\n       [ 33.1],\n       [ 26.7],\n       [ 13.4],\n       [ 14.4],\n       [ 50. ],\n       [ 22. ],\n       [ 19.9],\n       [ 23.8],\n       [ 17.5],\n       [ 12.7],\n       [  5.6],\n       [ 31.1],\n       [ 26.2],\n       [ 19.4],\n       [ 16.7],\n       [ 13.8],\n       [ 22.9],\n       [ 15.3],\n       [ 27.5],\n       [ 36.1],\n       [ 22.9],\n       [ 24.5],\n       [ 25. ],\n       [ 50. ],\n       [ 34.9],\n       [ 31.7],\n       [ 24.1],\n       [ 22.1],\n       [ 14.1],\n       [ 42.8],\n       [ 19.3],\n       [ 32.2],\n       [ 26.4],\n       [ 21.8],\n       [ 21.7],\n       [  8.3],\n       [ 46.7],\n       [ 43.1],\n       [ 31.5],\n       [ 10.5],\n       [ 16.7],\n       [ 20. ],\n       [ 33.3],\n       [ 17.8],\n       [ 50. ],\n       [ 20.5],\n       [ 23.2],\n       [ 13.1],\n       [ 19.6],\n       [ 22.8],\n       [ 28.7],\n       [ 30.7],\n       [ 22.9],\n       [ 21.9],\n       [ 23.9],\n       [ 32.7],\n       [ 24.3],\n       [ 21.5],\n       [ 24.6],\n       [  8.5],\n       [ 26.4],\n       [ 23.1],\n       [ 15. ],\n       [  8.8],\n       [ 19.3],\n       [ 23.9],\n       [ 24.7],\n       [ 19.8],\n       [ 23.8],\n       [ 13.3],\n       [ 29. ],\n       [ 27.1],\n       [ 34.6],\n       [ 13.3],\n       [ 15.6],\n       [ 12.5],\n       [ 14.6],\n       [ 11. ],\n       [ 24.8],\n       [ 17.3],\n       [  8.1],\n       [ 21.4],\n       [ 15.6],\n       [ 23.3],\n       [ 32. ],\n       [ 38.7],\n       [ 30.1],\n       [ 20.5],\n       [ 32.5],\n       [ 42.3],\n       [ 24.3],\n       [ 20.6],\n       [ 22. ],\n       [ 18.2],\n       [ 15. ],\n       [  6.3],\n       [ 20.1],\n       [ 21.4],\n       [ 28.4],\n       [ 30.1],\n       [ 20.8],\n       [ 23. ],\n       [ 14.3],\n       [ 11.7],\n       [ 37.3],\n       [ 17.1],\n       [ 10.4],\n       [ 23. ],\n       [ 22.7],\n       [ 20.3],\n       [ 21.7],\n       [ 50. ],\n       [  8.4],\n       [ 18.8],\n       [ 37.2],\n       [ 16.1],\n       [ 16.5],\n       [ 22.2],\n       [ 20.6],\n       [ 13.5],\n       [ 48.3],\n       [ 23.8],\n       [ 22.7],\n       [ 17.4],\n       [ 30.3],\n       [ 36. ],\n       [ 41.7],\n       [ 18.3],\n       [ 22. ],\n       [ 18.6],\n       [ 44.8],\n       [ 11.9],\n       [ 18.7],\n       [ 16.2],\n       [ 22. ],\n       [  7.2],\n       [ 20.4],\n       [ 13.8],\n       [ 13. ],\n       [ 18.4],\n       [ 23.1],\n       [ 21.2],\n       [ 23.1],\n       [ 23.5],\n       [ 50. ],\n       [ 26.6],\n       [ 22.2],\n       [ 50. ],\n       [  8.3],\n       [ 23.3],\n       [ 21.7],\n       [ 18.9],\n       [ 18.4],\n       [ 17.4],\n       [ 13.4],\n       [ 12.1],\n       [ 26.6],\n       [ 21.7],\n       [ 28.4],\n       [ 20.5],\n       [ 22. ],\n       [ 13.9],\n       [ 11.3],\n       [ 29.9],\n       [ 26.6],\n       [ 10.5],\n       [ 23.2],\n       [ 24.4],\n       [ 46. ],\n       [ 21.9],\n       [  7.5],\n       [ 36.2],\n       [ 44. ],\n       [ 17.8],\n       [ 27.5],\n       [ 37.6],\n       [ 14.1],\n       [ 28.1],\n       [ 10.2],\n       [ 19.1],\n       [ 43.8],\n       [ 27.9],\n       [ 25. ],\n       [ 16. ],\n       [ 16.6],\n       [ 13.2],\n       [ 50. ],\n       [ 22.2],\n       [ 32.9],\n       [ 15.2],\n       [ 14.8],\n       [ 13.8],\n       [ 24.3],\n       [ 33.8],\n       [ 22.3],\n       [ 50. ],\n       [  9.5],\n       [ 13.3],\n       [ 22.2],\n       [ 18.1],\n       [ 18. ],\n       [ 25. ],\n       [ 16.5],\n       [ 23. ],\n       [ 20.1],\n       [ 33. ],\n       [ 24.8],\n       [ 18.2],\n       [ 13.1],\n       [ 34.9],\n       [ 10.2],\n       [ 19.9],\n       [ 27.9],\n       [ 23.3],\n       [ 35.1],\n       [ 12.8],\n       [ 22. ],\n       [ 18.5],\n       [ 25.1],\n       [ 22.5],\n       [ 22.4],\n       [ 28.6],\n       [ 19.5],\n       [ 24.8],\n       [ 24.5],\n       [ 21.4],\n       [ 33.1],\n       [ 22.9],\n       [ 20.7],\n       [ 24.1],\n       [ 50. ],\n       [ 24.7],\n       [ 28.7],\n       [  7.2],\n       [ 37. ],\n       [ 20.3],\n       [ 30.1],\n       [ 19.5],\n       [ 23.4],\n       [ 11.5],\n       [ 21.6],\n       [ 14.9],\n       [ 15.2],\n       [ 19.4],\n       [  8.4],\n       [ 28. ],\n       [ 22.6],\n       [ 13.5],\n       [ 14.5],\n       [ 31. ],\n       [ 10.9],\n       [ 21.9],\n       [ 22. ],\n       [ 19. ],\n       [ 21.4],\n       [ 25. ],\n       [ 17.5],\n       [ 36.5],\n       [ 20.1],\n       [ 20.4],\n       [ 16.2],\n       [ 23.6],\n       [  7.4],\n       [ 35.2],\n       [ 50. ],\n       [ 19.3],\n       [ 21.2],\n       [ 15.6],\n       [ 33.4],\n       [ 19.1],\n       [ 21. ],\n       [ 23.7],\n       [ 18.9],\n       [ 16.8],\n       [ 19.7],\n       [ 17.7],\n       [ 22.6],\n       [ 11.8],\n       [ 34.9],\n       [ 20.6],\n       [ 20.2],\n       [ 32. ],\n       [ 22.3],\n       [ 23.3],\n       [ 14.4],\n       [ 31.2],\n       [ 24. ],\n       [ 29.6],\n       [ 19.6],\n       [ 21.6],\n       [ 20. ],\n       [ 27. ],\n       [ 33.2],\n       [ 15.4],\n       [ 30.5],\n       [  7.2],\n       [ 23.9],\n       [ 16.3],\n       [ 23.9],\n       [ 50. ],\n       [ 22.8],\n       [ 15.4],\n       [ 19.2],\n       [ 19.6],\n       [ 22.6],\n       [ 33.2],\n       [ 50. ],\n       [ 22.2],\n       [ 14.9],\n       [ 19.8],\n       [ 23.7],\n       [ 19. ],\n       [ 20.3],\n       [ 11.9],\n       [ 13.6],\n       [ 29.8],\n       [ 21.7],\n       [ 19.5],\n       [ 21.1],\n       [ 24.5],\n       [ 13.4],\n       [ 18.6]])"
     ]
    }
   ],
   "source": [
    "# Train a basic decision tree.  Can you do better?\n",
    "from sklearn import cross_validation\n",
    "import pandas as pd\n",
    "\n",
    "boston = datasets.load_boston()\n",
    "\n",
    "columns = [\"CRIM\",\"ZN\",\"INDUS\",\"CHAS\",\"NOX\",\"RM\",\"AGE\",\"DIS\",\"RAD\",\"TAX\",\"PTRATIO\",\"B\",\"LSAT\"]\n",
    "X = pd.DataFrame(boston.data, columns=columns)\n",
    "y = pd.Series(boston.target)\n",
    "\n",
    "cv = cross_validation.ShuffleSplit(len(y), n_iter=20, test_size=0.2, random_state=42)\n",
    "def compute_error(clf, X, y):\n",
    "    return - cross_validation.cross_val_score(clf, X, y, cv=cv, scoring='mean_squared_error').mean()\n",
    "\n",
    "tree_reg = tree.DecisionTreeRegressor()\n",
    "pd.DataFrame([\n",
    "    (\"Mean Model\", y.var()),\n",
    "    (\"Decision Tree\", compute_error(tree_clf, X, y))\n",
    "], columns=[\"Model\", \"MSE\"]).plot(x=\"Model\", y=\"MSE\", kind=\"Bar\")"
   ]
  },
  {
   "cell_type": "markdown",
   "metadata": {},
   "source": [
    "## Random Forests\n",
    "\n",
    "A random forest is just an ensemble of decision trees.  The predicted value is just the average of the trees (for both regression and classification problems - for classification problems, it is the probabilities that are averaged).  You can adjust `n_estimators` to change the number of trees in the forest.  If each tree is trained on the same subset of data, why aren't they identical?  Two reasons:\n",
    "1. **Subsampling**: each tree is actually trained on a random selected (with replacement) subset (i.e. bootstrap)\n",
    "1. **Maximum Features**: the optimal split comes from a randomly selected subset of the features.  In scikit-learn, this feature is controlled by `max_features`.\n",
    "\n",
    "\n",
    "## Extremely Random Forests\n",
    "Instead of choosing the optimal split amongst a (randomly selected) subset of features, we choose random values we choose amongst randomly generated thresholds.  While the first two are options in scikit, this is implemented in `ExtraTreesClassifier`.\n",
    "\n",
    "**Question**: What happens to bias and variance of the individual trees in the averaging process of Random Forests and Extremely Random Forests.  How would you change your parameters to compensate?\n",
    "\n",
    "You can read more about these [here](http://scikit-learn.org/stable/modules/ensemble.html).\n",
    "\n",
    "## Random Forest Training Algorithm and Tuning Parameters\n",
    "\n",
    "A Random Forest and Extremely Random Forest are pretty straightforward to train once you know how a Decision Tree works.  In fact, their construction can even be parallelized.  They have an extra parameter `n_estimators` and their construction can be parallelized by setting the parameter `n_jobs`.\n",
    "\n",
    "**Exercise**: the following code trains a random forest and an extra random forest with default parameters.  Can you do better?"
   ]
  },
  {
   "cell_type": "code",
   "execution_count": null,
   "metadata": {
    "collapsed": false
   },
   "outputs": [],
   "source": [
    "# Train random forests with default parameters.  Can you do better?\n",
    "from sklearn import cross_validation, ensemble\n",
    "import pandas as pd\n",
    "\n",
    "tree_reg = tree.DecisionTreeRegressor()\n",
    "extra_reg = ensemble.ExtraTreesRegressor()\n",
    "forest_reg = ensemble.RandomForestRegressor()\n",
    "\n",
    "model_performance = pd.DataFrame([\n",
    "    (\"Mean Model\", y.var()),\n",
    "    (\"Decision Tree\", compute_error(tree_reg, X, y)),\n",
    "    (\"Random Forest\", compute_error(forest_reg, X, y)),\n",
    "    (\"Extra Random Forest\", compute_error(extra_reg, X, y)),\n",
    "], columns=[\"Model\", \"MSE\"])\n",
    "model_performance.plot(x=\"Model\", y=\"MSE\", kind=\"Bar\")"
   ]
  },
  {
   "cell_type": "markdown",
   "metadata": {},
   "source": [
    "## Gradient Boosting Trees\n",
    "\n",
    "### Summary:\n",
    "Gradient Boosting algorithms train on the residual error.  It does this by iteratively training a sequence of models $f_m$ which are based on the residual error from the previous model.  Each one is reducing the residual error left from the previous prediction.  If we have a model prediction $f_{m-1}(X_{j \\cdot})$ meant to predictvalue $y_j$, then the next model $f_m$ should train on\n",
    "\n",
    "$$ y'_j = y_j - f_{m-1}(X_{j \\cdot})\\,.$$\n",
    "\n",
    "### Details:\n",
    "The basic model can be written as\n",
    "\n",
    "$$ f(X) = f_m(X) = \\sum_{k=1}^m \\gamma_m h_m(x) $$\n",
    "\n",
    "where $h_m$ are called **weak learners**.  For Gradient Boosting Trees, the $h_m$ are a collection of stump trees (very short trees, often of height 1).  At each iteration, we estimate everything in two steps:\n",
    "\n",
    "$$ h_m = \\mbox{argmin}_{\\gamma, h} \\sum_{i=1}^n \\left[ - \\partial_f L(y_i, f_{m-1}(X_{i \\cdot})) - \\gamma h(X_{i \\cdot}) \\right]^2 $$\n",
    "\n",
    "where $L(y, f(X))$ is the loss function we are trying to minimize.  In words, we compute the negative gradient $- \\partial_f L(y_i, f_{m-1}(X_{i \\cdot}))$ and then find the values of $\\gamma$ and $h$ such that $\\gamma h(X_{i \\cdot})$ best approximates it (approximate in the sense of $L^2$ norm).  We throw away $\\gamma$ and keep $h$ as $h_m$.  Remember that there are a finite collection of $h_m$ and once $h_m$ is set, the solution to $\\gamma$ is closed-form becasue of the quadratic form of the potential.\n",
    "\n",
    "We then set $\\gamma_m$ by a one-dimensional linear search of the true loss function with our new $h_m$\n",
    "\n",
    "$$ \\gamma_m = \\mbox{argmin}_{\\gamma} \\sum_{i=1}^n L(y_i, f_{m-1}(X_{i \\cdot} + \\gamma h_m(X_{i \\cdot})) $$\n",
    "\n",
    "We can then set\n",
    "\n",
    "$$ f_m(x) = f_{m-1}(x) + \\gamma_m h_m(x) $$\n",
    "\n",
    "as our new predictor and iterate on the residuals.  There are a few basic variants that are usually applied\n",
    "\n",
    "1.  **Learning Rate**: we usually reduce the learning rate $\\alpha$ by choosing a value $0 < \\alpha < 1$ such that\n",
    "\n",
    "    $$ f_m(x) = f_{m-1}(x) + \\alpha \\gamma_m h_m(x) $$\n",
    "\n",
    "    Setting $\\alpha = 1$ would yield the model present above.  This slows down the rate at which we learn.\n",
    "1.  **Subsampling**: we can learn on a fraction of the data which is a subsample of the full dataset.\n",
    "1.  **Max Features**: we can learn from only a subset of the features (i.e. trees only select a subset of the features).\n",
    "1.  **Trying out different loss fucntions**: We can choose different functional forms $L$.\n",
    "\n",
    "You can learn more about gradient boosting [here](http://scikit-learn.org/stable/modules/ensemble.html).\n",
    "\n",
    "**Question**: \n",
    "\n",
    "1. How do these techniques affect the bias and variance of the learned models?\n",
    "2. The following code trains a random forest and an extra random forest with default parameters.  Can you do better?"
   ]
  },
  {
   "cell_type": "code",
   "execution_count": null,
   "metadata": {
    "collapsed": false
   },
   "outputs": [],
   "source": [
    "# GradientBoostingRegressor\n",
    "# Fit regression model\n",
    "params = {'n_estimators': 1000, 'max_depth': 4, 'min_samples_split': 1,\n",
    "          'learning_rate': 0.02, 'loss': 'ls'}\n",
    "\n",
    "gradient_reg = ensemble.GradientBoostingRegressor(**params)\n",
    "\n",
    "gradient_performance = pd.DataFrame([\n",
    "    (\"Gradient Boosted Regressor\", compute_error(gradient_reg, X, y))\n",
    "], columns=[\"Model\", \"MSE\"])"
   ]
  },
  {
   "cell_type": "code",
   "execution_count": null,
   "metadata": {
    "collapsed": false
   },
   "outputs": [],
   "source": [
    "model_performance.append(gradient_performance).plot(x=\"Model\", y=\"MSE\", kind=\"Bar\")"
   ]
  },
  {
   "cell_type": "markdown",
   "metadata": {},
   "source": [
    "## Feature Importance\n",
    "\n",
    "With a linear regression, we could inspect to coefficients to tell which terms were the most important.  With decision trees and random forests, the model structure is much more opaque.  Fortunately, all of these models (once trained) have an array called `feature_importances_` which gives the imporances of all the features.  How do they compute feature importance?  According to the [scikit documentation](http://scikit-learn.org/stable/modules/ensemble.html#feature-importance-evaluation):\n",
    "\n",
    "> The relative rank (i.e. depth) of a feature used as a decision node in a tree can be used to assess the relative importance of that feature with respect to the predictability of the target variable. Features used at the top of the tree are used contribute to the final prediction decision of a larger fraction of the input samples. The expected fraction of the samples they contribute to can thus be used as an estimate of the relative importance of the features.\n",
    "\n",
    "Let's show this in action.  For scikit, larger values are more important and the values of `feature_importances_` sum to 1:"
   ]
  },
  {
   "cell_type": "code",
   "execution_count": 10,
   "metadata": {
    "collapsed": false
   },
   "outputs": [
    {
     "ename": "NameError",
     "evalue": "name 'pd' is not defined",
     "output_type": "error",
     "traceback": [
      "\u001b[1;31m---------------------------------------------------------------------------\u001b[0m",
      "\u001b[1;31mNameError\u001b[0m                                 Traceback (most recent call last)",
      "\u001b[1;32m<ipython-input-10-c2e57479425d>\u001b[0m in \u001b[0;36m<module>\u001b[1;34m()\u001b[0m\n\u001b[1;32m----> 1\u001b[1;33m pd.DataFrame([\n\u001b[0m\u001b[0;32m      2\u001b[0m     \u001b[0mtree_reg\u001b[0m\u001b[1;33m.\u001b[0m\u001b[0mfit\u001b[0m\u001b[1;33m(\u001b[0m\u001b[0mX\u001b[0m\u001b[1;33m,\u001b[0m \u001b[0my\u001b[0m\u001b[1;33m)\u001b[0m\u001b[1;33m.\u001b[0m\u001b[0mfeature_importances_\u001b[0m\u001b[1;33m,\u001b[0m\u001b[1;33m\u001b[0m\u001b[0m\n\u001b[0;32m      3\u001b[0m     \u001b[0mforest_reg\u001b[0m\u001b[1;33m.\u001b[0m\u001b[0mfit\u001b[0m\u001b[1;33m(\u001b[0m\u001b[0mX\u001b[0m\u001b[1;33m,\u001b[0m \u001b[0my\u001b[0m\u001b[1;33m)\u001b[0m\u001b[1;33m.\u001b[0m\u001b[0mfeature_importances_\u001b[0m\u001b[1;33m,\u001b[0m\u001b[1;33m\u001b[0m\u001b[0m\n\u001b[0;32m      4\u001b[0m     \u001b[0mextra_reg\u001b[0m\u001b[1;33m.\u001b[0m\u001b[0mfit\u001b[0m\u001b[1;33m(\u001b[0m\u001b[0mX\u001b[0m\u001b[1;33m,\u001b[0m \u001b[0my\u001b[0m\u001b[1;33m)\u001b[0m\u001b[1;33m.\u001b[0m\u001b[0mfeature_importances_\u001b[0m\u001b[1;33m,\u001b[0m\u001b[1;33m\u001b[0m\u001b[0m\n\u001b[0;32m      5\u001b[0m     \u001b[0mgradient_reg\u001b[0m\u001b[1;33m.\u001b[0m\u001b[0mfit\u001b[0m\u001b[1;33m(\u001b[0m\u001b[0mX\u001b[0m\u001b[1;33m,\u001b[0m \u001b[0my\u001b[0m\u001b[1;33m)\u001b[0m\u001b[1;33m.\u001b[0m\u001b[0mfeature_importances_\u001b[0m\u001b[1;33m\u001b[0m\u001b[0m\n",
      "\u001b[1;31mNameError\u001b[0m: name 'pd' is not defined"
     ]
    }
   ],
   "source": [
    "pd.DataFrame([\n",
    "    tree_reg.fit(X, y).feature_importances_,\n",
    "    forest_reg.fit(X, y).feature_importances_,\n",
    "    extra_reg.fit(X, y).feature_importances_,\n",
    "    gradient_reg.fit(X, y).feature_importances_\n",
    "], columns=columns, index=[\"Tree\", \"Forest\", \"Extra Random\", \"Gradient\"]).T.plot(kind=\"bar\").legend(loc=\"upper left\")"
   ]
  },
  {
   "cell_type": "markdown",
   "metadata": {},
   "source": [
    "**Questions**:\n",
    "What is the tradeoff between Decision Trees, Random Forests, and Gradient Boosting Trees, in terms of explicability, computational time, memory, and accuracy?"
   ]
  },
  {
   "cell_type": "code",
   "execution_count": null,
   "metadata": {
    "collapsed": false
   },
   "outputs": [],
   "source": []
  },
  {
   "cell_type": "code",
   "execution_count": null,
   "metadata": {
    "collapsed": false
   },
   "outputs": [],
   "source": []
  },
  {
   "cell_type": "markdown",
   "metadata": {},
   "source": [
    "# Spoilers"
   ]
  },
  {
   "cell_type": "code",
   "execution_count": null,
   "metadata": {
    "collapsed": false
   },
   "outputs": [],
   "source": []
  },
  {
   "cell_type": "code",
   "execution_count": null,
   "metadata": {
    "collapsed": false
   },
   "outputs": [],
   "source": []
  },
  {
   "cell_type": "markdown",
   "metadata": {},
   "source": [
    "# Answers\n",
    "\n",
    "### Decision Trees\n",
    "1. Increasing `max_features` and `max_depth` and decreasing `min_samples_split` and `min_samples_leaf` tend to build more complex models (increase Variance and reduce Bias).\n",
    "1. Straightfoward.\n",
    "\n",
    "### Random Forests\n",
    "The variance between different trees tends to cancel each other while the biases reinforce each other.  That is, becasue the trees are different, they tend to overfit in different ways but when they underfit, they underfit the same way.  So you want to use higher variance, lower bias parameters than you would with a decision tree.\n",
    "\n",
    "### Gradient Boosting Trees\n",
    "Increasing the learning rate increases variance.  Decreasing the fraction subsampled and the max features will decrease the variance.le\n",
    "\n",
    "### Final Question\n",
    "Decision Trees are clearly the least accurate although possibly the most explicable and they train quickly.  (Extra) Random Forests are more expensive to train but can be trained in parallel -- both across processors on the same data in one machine and across machines by splitting up the sample data.  Gradient Boosting Trees are not as naturally parallelizable and (empirically) seem to be the slowest. [Algorithm comparison notebook](Comparing_ML_Algorithms.ipynb)"
   ]
  },
  {
   "cell_type": "markdown",
   "metadata": {},
   "source": [
    "*Copyright &copy; 2015 The Data Incubator.  All rights reserved.*"
   ]
  }
 ],
 "metadata": {
  "kernelspec": {
   "display_name": "Python 2",
   "language": "python",
   "name": "python2"
  },
  "language_info": {
   "codemirror_mode": {
    "name": "ipython",
    "version": 2
   },
   "file_extension": ".py",
   "mimetype": "text/x-python",
   "name": "python",
   "nbconvert_exporter": "python",
   "pygments_lexer": "ipython2",
   "version": "2.7.10"
  }
 },
 "nbformat": 4,
 "nbformat_minor": 0
}
