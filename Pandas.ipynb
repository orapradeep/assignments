{
 "cells": [
  {
   "cell_type": "code",
   "execution_count": 6,
   "metadata": {
    "collapsed": false
   },
   "outputs": [],
   "source": [
    "%matplotlib inline\n",
    "import matplotlib\n",
    "import seaborn as sns\n",
    "matplotlib.rcParams['savefig.dpi'] = 2 * matplotlib.rcParams['savefig.dpi']"
   ]
  },
  {
   "cell_type": "markdown",
   "metadata": {},
   "source": [
    "# Pandas"
   ]
  },
  {
   "cell_type": "markdown",
   "metadata": {},
   "source": [
    "Pandas is Python's answer to R.  It's a good tool for small(ish) data analysis -- i.e., when everything fits into memory.\n",
    "\n",
    "The basic new \"noun\" in pandas is the **data frame**."
   ]
  },
  {
   "cell_type": "markdown",
   "metadata": {},
   "source": [
    "## Noun: \n",
    "\n",
    "### Data frames\n",
    "\n",
    "Like a table, with rows and columns (e.g., as in SQL).  Except:\n",
    "  - The rows can be indexed by something interesting (there is special support for labels like categorical and timeseries data).  This is especially useful when you have timeseries data with potentially missing data points.\n",
    "  - Cells can store Python objects. Like in SQL, columns are type homogeneous.\n",
    "  - Instead of \"NULL\", the name for a non-existent value is \"NA\".  Unlike R, Python's data frames only support NAs in columns of some data types (basically: floating point numbers and 'objects') -- but this is mostly a non-issue (because it will \"up-cast\" integers to float64, etc.)\n",
    "  \n",
    "### Data Series:\n",
    "These are named columns of a DataFrame (more correctly, a dataframe is a dictionary of Series).  The entires of the series are have homogenous type."
   ]
  },
  {
   "cell_type": "code",
   "execution_count": 13,
   "metadata": {
    "collapsed": false
   },
   "outputs": [
    {
     "name": "stdout",
     "output_type": "stream",
     "text": [
      "0      cat\n",
      "1      dog\n",
      "2    mouse\n",
      "Name: animal, dtype: object\n"
     ]
    }
   ],
   "source": [
    "import pandas as pd\n",
    "import numpy as np\n",
    "import matplotlib.pyplot as plt\n",
    "import seaborn as sns\n",
    "import re\n",
    "\n",
    "# a data frame\n",
    "df1 = pd.DataFrame({\n",
    "    'number': [1, 2, 3],\n",
    "    'animal': ['cat', 'dog', 'mouse']\n",
    "})\n",
    "\n",
    "# the same data frame\n",
    "df2 = pd.DataFrame([\n",
    "    ('cat', 1),\n",
    "    ('dog', 2),\n",
    "    ('mouse', 3),\n",
    "], columns=['animal', 'number'])\n",
    "\n",
    "assert((df1 == df2).all().all())\n",
    "\n",
    "# a series\n",
    "print df1['animal']"
   ]
  },
  {
   "cell_type": "markdown",
   "metadata": {},
   "source": [
    "## Verbs: Operations\n",
    "  \n",
    "Pandas provides a \"batteries-included\" basic data analysis:\n",
    "  - **Loading data:** `read_csv`, `read_table`, `read_sql`, and `read_html`\n",
    "  - **Selection, filtering, and aggregation** (i.e., SQL-type operations): There's a special syntax for `SELECT`ing.  There's the `merge` method for `JOIN`ing.  There's also an easy syntax for what in SQL is a mouthful: Creating a new column whose value is computed from other column -- with the bonus that now the computations can use the full power of Python (though it might be faster if it didn't).\n",
    "  - **\"Pivot table\" style aggregation**: If you're an Excel cognosceti, you may appreciate this.\n",
    "  - **NA handling**: Like R's data frames, there is good support for transforming NA values with default values / averaging tricks / etc.\n",
    "  - **Basic statistics:** e.g. `mean`, `median`, `max`, `min`, and the convenient `describe`.\n",
    "  - **Plugging into more advanced analytics:** Okay, this isn't batteries included.  But still, it plays reasonably with `sklearn`.\n",
    "  - **Visualization:** For instance `plot` and `hist`.\n",
    "  \n",
    "We'll go through a little on all of these in the context of an example.  To go through it, you must have the (output) data files from the HMDA \"Project structure\" example.  We're going to explore a dataset of mortgage insurance issued by the Federal Housing Authority (FHA).  The data is broken down by census tract and tells us how big of a player the FHA is in each tract (how many homes etc ...)."
   ]
  },
  {
   "cell_type": "markdown",
   "metadata": {},
   "source": [
    "##Loading data (and basic statistics / visualization)\n"
   ]
  },
  {
   "cell_type": "code",
   "execution_count": 17,
   "metadata": {
    "collapsed": false,
    "scrolled": false
   },
   "outputs": [
    {
     "name": "stderr",
     "output_type": "stream",
     "text": [
      "C:\\Python27\\lib\\site-packages\\ipykernel\\__main__.py:6: FutureWarning: sort(columns=....) is deprecated, use sort_values(by=.....)\n"
     ]
    },
    {
     "data": {
      "text/html": [
       "<div>\n",
       "<table border=\"1\" class=\"dataframe\">\n",
       "  <thead>\n",
       "    <tr style=\"text-align: right;\">\n",
       "      <th></th>\n",
       "      <th>State_Code</th>\n",
       "      <th>County_Code</th>\n",
       "      <th>Census_Tract_Number</th>\n",
       "      <th>NUM_ALL</th>\n",
       "      <th>NUM_FHA</th>\n",
       "      <th>PCT_NUM_FHA</th>\n",
       "      <th>AMT_ALL</th>\n",
       "      <th>AMT_FHA</th>\n",
       "      <th>PCT_AMT_FHA</th>\n",
       "      <th>GEOID</th>\n",
       "    </tr>\n",
       "  </thead>\n",
       "  <tbody>\n",
       "    <tr>\n",
       "      <th>23999</th>\n",
       "      <td>1</td>\n",
       "      <td>49</td>\n",
       "      <td>9613</td>\n",
       "      <td>16</td>\n",
       "      <td>4</td>\n",
       "      <td>25.0000</td>\n",
       "      <td>2184</td>\n",
       "      <td>799</td>\n",
       "      <td>36.58420</td>\n",
       "      <td>1049961300</td>\n",
       "    </tr>\n",
       "    <tr>\n",
       "      <th>55215</th>\n",
       "      <td>1</td>\n",
       "      <td>3</td>\n",
       "      <td>102</td>\n",
       "      <td>8</td>\n",
       "      <td>1</td>\n",
       "      <td>12.5000</td>\n",
       "      <td>774</td>\n",
       "      <td>76</td>\n",
       "      <td>9.81912</td>\n",
       "      <td>1003010200</td>\n",
       "    </tr>\n",
       "    <tr>\n",
       "      <th>65492</th>\n",
       "      <td>1</td>\n",
       "      <td>27</td>\n",
       "      <td>NaN</td>\n",
       "      <td>1</td>\n",
       "      <td>0</td>\n",
       "      <td>0.0000</td>\n",
       "      <td>82</td>\n",
       "      <td>0</td>\n",
       "      <td>0.00000</td>\n",
       "      <td>NaN</td>\n",
       "    </tr>\n",
       "    <tr>\n",
       "      <th>45193</th>\n",
       "      <td>1</td>\n",
       "      <td>95</td>\n",
       "      <td>311</td>\n",
       "      <td>20</td>\n",
       "      <td>3</td>\n",
       "      <td>15.0000</td>\n",
       "      <td>1495</td>\n",
       "      <td>263</td>\n",
       "      <td>17.59200</td>\n",
       "      <td>1095031100</td>\n",
       "    </tr>\n",
       "    <tr>\n",
       "      <th>33750</th>\n",
       "      <td>1</td>\n",
       "      <td>39</td>\n",
       "      <td>9618</td>\n",
       "      <td>14</td>\n",
       "      <td>3</td>\n",
       "      <td>21.4286</td>\n",
       "      <td>1243</td>\n",
       "      <td>333</td>\n",
       "      <td>26.79000</td>\n",
       "      <td>1039961800</td>\n",
       "    </tr>\n",
       "  </tbody>\n",
       "</table>\n",
       "</div>"
      ],
      "text/plain": [
       "       State_Code  County_Code  Census_Tract_Number  NUM_ALL  NUM_FHA  \\\n",
       "23999           1           49                 9613       16        4   \n",
       "55215           1            3                  102        8        1   \n",
       "65492           1           27                  NaN        1        0   \n",
       "45193           1           95                  311       20        3   \n",
       "33750           1           39                 9618       14        3   \n",
       "\n",
       "       PCT_NUM_FHA  AMT_ALL  AMT_FHA  PCT_AMT_FHA       GEOID  \n",
       "23999      25.0000     2184      799     36.58420  1049961300  \n",
       "55215      12.5000      774       76      9.81912  1003010200  \n",
       "65492       0.0000       82        0      0.00000         NaN  \n",
       "45193      15.0000     1495      263     17.59200  1095031100  \n",
       "33750      21.4286     1243      333     26.79000  1039961800  "
      ]
     },
     "execution_count": 17,
     "metadata": {},
     "output_type": "execute_result"
    }
   ],
   "source": [
    "names =[\"State_Code\", \"County_Code\", \"Census_Tract_Number\", \"NUM_ALL\", \"NUM_FHA\", \"PCT_NUM_FHA\", \"AMT_ALL\", \"AMT_FHA\", \"PCT_AMT_FHA\"]\n",
    "df = pd.read_csv('C:/Users/NAULIA/Desktop/data incubator/day2/fha_by_tract.csv', names=names)  ## Loading a CSV file, without a header (so we have to provide field names)\n",
    "\n",
    "df['GEOID'] = df['Census_Tract_Number']*100 + 10**6 * df['County_Code'] \\\n",
    "    + 10**9 * df['State_Code']   ## A computed field!\n",
    "    \n",
    "df = df.sort('State_Code')  # sorting data to make it easier to read\n",
    "df.head()"
   ]
  },
  {
   "cell_type": "code",
   "execution_count": 18,
   "metadata": {
    "collapsed": false
   },
   "outputs": [
    {
     "name": "stdout",
     "output_type": "stream",
     "text": [
      "Basic statistics and a histogram of the percentage of mortages\n",
      "in each census tract insured by FHA\n",
      "            PCT_AMT_FHA\n",
      "State_Code             \n",
      "1             28.686248\n",
      "2             26.921463\n",
      "4             34.058197\n",
      "5             21.682422\n",
      "6             32.917623\n",
      "8             27.568757\n",
      "9             34.184050\n",
      "10            32.157928\n",
      "11            28.359463\n",
      "12            32.744027\n",
      "13            32.304661\n",
      "15             7.530118\n",
      "16            23.080568\n",
      "17            30.644644\n",
      "18            30.971421\n",
      "19            18.767196\n",
      "20            24.646292\n",
      "21            21.686193\n",
      "22            26.763788\n",
      "23            18.374351\n",
      "24            36.909521\n",
      "25            21.119813\n",
      "26            33.799816\n",
      "27            25.908308\n",
      "28            23.901013\n",
      "29            25.132977\n",
      "30            17.363563\n",
      "31            25.771856\n",
      "32            38.552593\n",
      "33            25.491643\n",
      "34            35.520683\n",
      "35            33.116524\n",
      "36            31.123738\n",
      "37            19.035407\n",
      "38            22.904362\n",
      "39            35.028781\n",
      "40            32.183758\n",
      "41            22.624856\n",
      "42            31.891052\n",
      "44            38.879642\n",
      "45            23.941846\n",
      "46            19.139872\n",
      "47            24.779790\n",
      "48            35.394646\n",
      "49            35.278009\n",
      "50             9.377727\n",
      "51            25.043804\n",
      "53            24.023308\n",
      "54            19.593701\n",
      "55            16.749892\n",
      "56            19.429328\n",
      "72            43.540341\n"
     ]
    },
    {
     "data": {
      "text/plain": [
       "<matplotlib.axes._subplots.AxesSubplot at 0x7be5590>"
      ]
     },
     "execution_count": 18,
     "metadata": {},
     "output_type": "execute_result"
    },
    {
     "data": {
      "image/png": "[encoded data removed]",
      "text/plain": [
       "<matplotlib.figure.Figure at 0x3314110>"
      ]
     },
     "metadata": {},
     "output_type": "display_data"
    }
   ],
   "source": [
    "print \"Basic statistics and a histogram of the percentage of mortages\"\n",
    "print \"in each census tract insured by FHA\"\n",
    "print df[['State_Code','PCT_AMT_FHA']].groupby('State_Code').mean()\n",
    "df['PCT_AMT_FHA'].hist(bins=50, alpha=0.5)"
   ]
  },
  {
   "cell_type": "code",
   "execution_count": 19,
   "metadata": {
    "collapsed": false
   },
   "outputs": [
    {
     "name": "stdout",
     "output_type": "stream",
     "text": [
      "The above distribution looks a little skewed, let's look at it's log\n",
      "We can save off the data into a new column\n",
      "count    72035.000000\n",
      "mean         8.169060\n",
      "std          1.431749\n",
      "min          0.693147\n",
      "25%          7.346655\n",
      "50%          8.335192\n",
      "75%          9.176577\n",
      "max         14.270319\n",
      "Name: LOG_AMT_ALL, dtype: float64\n",
      "We can use the apply function to transform data\n"
     ]
    },
    {
     "data": {
      "text/plain": [
       "<matplotlib.axes._subplots.AxesSubplot at 0x7c51810>"
      ]
     },
     "execution_count": 19,
     "metadata": {},
     "output_type": "execute_result"
    },
    {
     "data": {
      "image/png": "[encoded data removed]",
      "text/plain": [
       "<matplotlib.figure.Figure at 0x7effd30>"
      ]
     },
     "metadata": {},
     "output_type": "display_data"
    }
   ],
   "source": [
    "print \"The above distribution looks a little skewed, let's look at it's log\"\n",
    "print \"We can save off the data into a new column\"\n",
    "df['LOG_AMT_ALL'] = np.log(df['AMT_ALL'])\n",
    "print df['LOG_AMT_ALL'].describe()\n",
    "\n",
    "print \"We can use the apply function to transform data\"\n",
    "df['AMT_ALL'].apply(np.log).hist(bins=50)"
   ]
  },
  {
   "cell_type": "markdown",
   "metadata": {},
   "source": [
    "##Selecting"
   ]
  },
  {
   "cell_type": "code",
   "execution_count": null,
   "metadata": {
    "collapsed": false
   },
   "outputs": [],
   "source": [
    "print \"Selecting off a column\"\n",
    "print df['State_Code'].head()\n",
    "print\n",
    "print \"Selecting off multiple columns\"\n",
    "print df[['State_Code', 'County_Code']].head()\n",
    "print\n",
    "print \"programatically access column names\"\n",
    "print all([col for col in df] == df.columns)"
   ]
  },
  {
   "cell_type": "markdown",
   "metadata": {},
   "source": [
    "##Filtering\n",
    "\n",
    "Now the `df[...]` notation is very flexible:\n",
    "  - It accepts column names (strings and lists of strings);\n",
    "  - It accepts column numbers (so long as there is no ambiguity with column names..);\n",
    "  - It accepsts _binary data series!_\n",
    "  \n",
    "This means that you can write\n",
    "\n",
    "        df[ df['column_name2']==MD & ( df['column_name1']==5 | df['column_name1']==6 ) ]\n",
    "   \n",
    "for what you would write in SQL as\n",
    "\n",
    ">         SELECT * FROM df WHERE\n",
    "            column_name2='MD\" AND (column_name1=5 OR column_name1=6)"
   ]
  },
  {
   "cell_type": "code",
   "execution_count": 20,
   "metadata": {
    "collapsed": false
   },
   "outputs": [
    {
     "name": "stdout",
     "output_type": "stream",
     "text": [
      "Selection returns a boolean array ..\n",
      "23999    True\n",
      "55215    True\n",
      "65492    True\n",
      "45193    True\n",
      "33750    True\n",
      "Name: State_Code, dtype: bool\n",
      "\n",
      "... we can apply the usual boolean operators to it\n",
      "23999     True\n",
      "55215    False\n",
      "65492    False\n",
      "45193    False\n",
      "33750    False\n",
      "dtype: bool\n",
      "\n",
      "pandas indices take boolean lists of the appropriate length\n",
      "       State_Code  County_Code  Census_Tract_Number  NUM_ALL  NUM_FHA  \\\n",
      "27766           5           25                 9702       14        4   \n",
      "45189           5           43                 4901        5        1   \n",
      "45118           5            3                 9606       18        3   \n",
      "71803           5           21                 9506       11        0   \n",
      "66550           5           35                  311        3        0   \n",
      "\n",
      "       PCT_NUM_FHA  AMT_ALL  AMT_FHA  PCT_AMT_FHA       GEOID  LOG_AMT_ALL  \n",
      "27766      28.5714     1645      535      32.5228  5025970200     7.405496  \n",
      "45189      20.0000      449       79      17.5947  5043490100     6.107023  \n",
      "45118      16.6667     1818      321      17.6568  5003960600     7.505492  \n",
      "71803       0.0000      907        0       0.0000  5021950600     6.810142  \n",
      "66550       0.0000      127        0       0.0000  5035031100     4.844187  \n",
      "\n",
      "p.s. - numpy indices also take boolean arguments: here are some odd numbers\n",
      "[1 3 5 7 9]\n",
      "\n"
     ]
    }
   ],
   "source": [
    "print \"Selection returns a boolean array ..\"\n",
    "print (df['State_Code'] == 1).head()\n",
    "print\n",
    "print \"... we can apply the usual boolean operators to it\"\n",
    "print ((df['State_Code'] == 1) & (df['Census_Tract_Number'] == 9613)).head()\n",
    "print\n",
    "print \"pandas indices take boolean lists of the appropriate length\"\n",
    "print df[df['State_Code'] == 5].head()\n",
    "print\n",
    "print \"p.s. - numpy indices also take boolean arguments: here are some odd numbers\"\n",
    "print np.arange(10)[np.arange(10) % 2 == 1]\n",
    "print"
   ]
  },
  {
   "cell_type": "markdown",
   "metadata": {},
   "source": [
    "**Exercise**: \n",
    "1. Plot the histogram of percentages for different states in the same graph to compare them.\n",
    "2. notice that there is a spike at 100%.  This means that the FHA has ensured 100% of the houses in that census tract.  See what happens to the histogram whem we restrct on the number of total loans is non-negligible."
   ]
  },
  {
   "cell_type": "markdown",
   "metadata": {},
   "source": [
    "##Join-ing\n",
    "\n",
    "The analogue of a\n",
    "\n",
    ">             \n",
    "    SELECT * \n",
    "        FROM df1\n",
    "        INNER JOIN df2 \n",
    "        ON df1.field_name=df2.field_name;\n",
    "\n",
    "is\n",
    "\n",
    "    df_joined = df1.merge(df2, on='field_name')\n",
    "\n",
    "You can also do left / right / outer joins, mix-and-match column names, etc.  For that consult the Pandas documentation. (The example below will do a left join..)\n",
    "\n",
    "Of course, just looking at the distribution of insurance by census tract isn't interesting unless we know more about the census tract."
   ]
  },
  {
   "cell_type": "code",
   "execution_count": 23,
   "metadata": {
    "collapsed": false
   },
   "outputs": [
    {
     "name": "stdout",
     "output_type": "stream",
     "text": [
      "joining two dataframes\n"
     ]
    },
    {
     "name": "stderr",
     "output_type": "stream",
     "text": [
      "C:\\Python27\\lib\\site-packages\\ipykernel\\__main__.py:6: FutureWarning: sort(columns=....) is deprecated, use sort_values(by=.....)\n"
     ]
    },
    {
     "data": {
      "text/html": [
       "<div>\n",
       "<table border=\"1\" class=\"dataframe\">\n",
       "  <thead>\n",
       "    <tr style=\"text-align: right;\">\n",
       "      <th></th>\n",
       "      <th>State_Code</th>\n",
       "      <th>County_Code</th>\n",
       "      <th>Census_Tract_Number</th>\n",
       "      <th>NUM_ALL</th>\n",
       "      <th>NUM_FHA</th>\n",
       "      <th>PCT_NUM_FHA</th>\n",
       "      <th>AMT_ALL</th>\n",
       "      <th>AMT_FHA</th>\n",
       "      <th>PCT_AMT_FHA</th>\n",
       "      <th>GEOID</th>\n",
       "      <th>LOG_AMT_ALL</th>\n",
       "      <th>USPS</th>\n",
       "      <th>ALAND</th>\n",
       "      <th>AWATER</th>\n",
       "      <th>ALAND_SQMI</th>\n",
       "      <th>AWATER_SQMI</th>\n",
       "      <th>INTPTLAT</th>\n",
       "      <th>INTPTLONG</th>\n",
       "    </tr>\n",
       "  </thead>\n",
       "  <tbody>\n",
       "    <tr>\n",
       "      <th>72034</th>\n",
       "      <td>NaN</td>\n",
       "      <td>NaN</td>\n",
       "      <td>NaN</td>\n",
       "      <td>9477</td>\n",
       "      <td>1932</td>\n",
       "      <td>20.38620</td>\n",
       "      <td>1575871</td>\n",
       "      <td>331515</td>\n",
       "      <td>21.036900</td>\n",
       "      <td>NaN</td>\n",
       "      <td>14.270319</td>\n",
       "      <td>NaN</td>\n",
       "      <td>NaN</td>\n",
       "      <td>NaN</td>\n",
       "      <td>NaN</td>\n",
       "      <td>NaN</td>\n",
       "      <td>NaN</td>\n",
       "      <td>NaN</td>\n",
       "    </tr>\n",
       "    <tr>\n",
       "      <th>64830</th>\n",
       "      <td>48</td>\n",
       "      <td>157</td>\n",
       "      <td>6731.01</td>\n",
       "      <td>2329</td>\n",
       "      <td>363</td>\n",
       "      <td>15.58610</td>\n",
       "      <td>578838</td>\n",
       "      <td>76312</td>\n",
       "      <td>13.183700</td>\n",
       "      <td>48157673101</td>\n",
       "      <td>13.268778</td>\n",
       "      <td>TX</td>\n",
       "      <td>50922560</td>\n",
       "      <td>384718</td>\n",
       "      <td>19.661</td>\n",
       "      <td>0.149</td>\n",
       "      <td>29.744280</td>\n",
       "      <td>-95.815507</td>\n",
       "    </tr>\n",
       "    <tr>\n",
       "      <th>7795</th>\n",
       "      <td>6</td>\n",
       "      <td>73</td>\n",
       "      <td>170.30</td>\n",
       "      <td>574</td>\n",
       "      <td>58</td>\n",
       "      <td>10.10450</td>\n",
       "      <td>284965</td>\n",
       "      <td>31840</td>\n",
       "      <td>11.173300</td>\n",
       "      <td>6073017030</td>\n",
       "      <td>12.560122</td>\n",
       "      <td>CA</td>\n",
       "      <td>33370884</td>\n",
       "      <td>1297044</td>\n",
       "      <td>12.885</td>\n",
       "      <td>0.501</td>\n",
       "      <td>33.036238</td>\n",
       "      <td>-117.126757</td>\n",
       "    </tr>\n",
       "    <tr>\n",
       "      <th>8857</th>\n",
       "      <td>6</td>\n",
       "      <td>75</td>\n",
       "      <td>615.00</td>\n",
       "      <td>357</td>\n",
       "      <td>4</td>\n",
       "      <td>1.12045</td>\n",
       "      <td>271648</td>\n",
       "      <td>2165</td>\n",
       "      <td>0.796987</td>\n",
       "      <td>6075061500</td>\n",
       "      <td>12.512262</td>\n",
       "      <td>CA</td>\n",
       "      <td>1669698</td>\n",
       "      <td>439050</td>\n",
       "      <td>0.645</td>\n",
       "      <td>0.170</td>\n",
       "      <td>37.787726</td>\n",
       "      <td>-122.392389</td>\n",
       "    </tr>\n",
       "    <tr>\n",
       "      <th>8890</th>\n",
       "      <td>6</td>\n",
       "      <td>59</td>\n",
       "      <td>626.43</td>\n",
       "      <td>130</td>\n",
       "      <td>2</td>\n",
       "      <td>1.53846</td>\n",
       "      <td>223532</td>\n",
       "      <td>1484</td>\n",
       "      <td>0.663887</td>\n",
       "      <td>6059062643</td>\n",
       "      <td>12.317310</td>\n",
       "      <td>CA</td>\n",
       "      <td>18821408</td>\n",
       "      <td>1549909</td>\n",
       "      <td>7.267</td>\n",
       "      <td>0.598</td>\n",
       "      <td>33.595088</td>\n",
       "      <td>-117.829038</td>\n",
       "    </tr>\n",
       "  </tbody>\n",
       "</table>\n",
       "</div>"
      ],
      "text/plain": [
       "       State_Code  County_Code  Census_Tract_Number  NUM_ALL  NUM_FHA  \\\n",
       "72034         NaN          NaN                  NaN     9477     1932   \n",
       "64830          48          157              6731.01     2329      363   \n",
       "7795            6           73               170.30      574       58   \n",
       "8857            6           75               615.00      357        4   \n",
       "8890            6           59               626.43      130        2   \n",
       "\n",
       "       PCT_NUM_FHA  AMT_ALL  AMT_FHA  PCT_AMT_FHA        GEOID  LOG_AMT_ALL  \\\n",
       "72034     20.38620  1575871   331515    21.036900          NaN    14.270319   \n",
       "64830     15.58610   578838    76312    13.183700  48157673101    13.268778   \n",
       "7795      10.10450   284965    31840    11.173300   6073017030    12.560122   \n",
       "8857       1.12045   271648     2165     0.796987   6075061500    12.512262   \n",
       "8890       1.53846   223532     1484     0.663887   6059062643    12.317310   \n",
       "\n",
       "      USPS     ALAND   AWATER  ALAND_SQMI  AWATER_SQMI   INTPTLAT  \\\n",
       "72034  NaN       NaN      NaN         NaN          NaN        NaN   \n",
       "64830   TX  50922560   384718      19.661        0.149  29.744280   \n",
       "7795    CA  33370884  1297044      12.885        0.501  33.036238   \n",
       "8857    CA   1669698   439050       0.645        0.170  37.787726   \n",
       "8890    CA  18821408  1549909       7.267        0.598  33.595088   \n",
       "\n",
       "       INTPTLONG                                                                                                                               \n",
       "72034                                                NaN                                                                                       \n",
       "64830                                         -95.815507                                                                                       \n",
       "7795                                         -117.126757                                                                                       \n",
       "8857                                         -122.392389                                                                                       \n",
       "8890                                         -117.829038                                                                                       "
      ]
     },
     "execution_count": 23,
     "metadata": {},
     "output_type": "execute_result"
    }
   ],
   "source": [
    "# Loading information about census tracts\n",
    "df_geo = pd.read_csv('C:/Users/NAULIA/Desktop/data incubator/Pandas/2013_Gaz_tracts_national.tsv', sep='\\t')\n",
    "\n",
    "print \"joining two dataframes\"\n",
    "df_joined = df.merge(df_geo, on='GEOID', how='left')\n",
    "df_joined.sort('AMT_ALL', ascending=False).head()"
   ]
  },
  {
   "cell_type": "markdown",
   "metadata": {},
   "source": [
    "## Aggregation\n",
    "\n",
    "The analog of SQL's `GROUP BY` is\n",
    "\n",
    "    grouped = df.groupby(['field_name1', ...])...\n",
    "\n",
    "The above is analogous to\n",
    ">             \n",
    "    SELECT mean(df.value1), std(df.value2) \n",
    "        FROM df\n",
    "        GROUP BY df.field_name1, ...\n",
    "\n",
    "Pandas is somewhat more flexible in how you can use grouping, not requiring you to specify an aggregation function up front.  A few examples are:\n"
   ]
  },
  {
   "cell_type": "code",
   "execution_count": null,
   "metadata": {
    "collapsed": false
   },
   "outputs": [],
   "source": [
    "# This isn't a SQL-style 'GROUP BY'.\n",
    "df_joined.groupby('USPS').first().head()"
   ]
  },
  {
   "cell_type": "code",
   "execution_count": null,
   "metadata": {
    "collapsed": false
   },
   "outputs": [],
   "source": [
    "# This is the analog of\n",
    "# SELECT USPS, SUM(AMT_FHA), SUM(AMT_ALL), ... FROM df GROUP BY USPS;\n",
    "df_by_state = df_joined.groupby('USPS')['AMT_FHA', 'AMT_ALL', 'NUM_FHA', 'NUM_ALL'].sum()\n",
    "\n",
    "df_by_state['PCT_AMT_FHA'] = 100.0 * df_by_state['AMT_FHA']  / df_by_state['AMT_ALL']\n",
    "df_by_state['PCT_NUM_FHA'] = 100.0 * df_by_state['NUM_FHA']  / df_by_state['NUM_ALL']\n",
    "\n",
    "# This sure looks different than the census-tract level histogram!\n",
    "df_by_state['PCT_AMT_FHA'].hist(bins=20)"
   ]
  },
  {
   "cell_type": "markdown",
   "metadata": {},
   "source": [
    "## NA handling\n",
    "\n",
    "\n",
    "When you read in a CSV file / SQL data base there are often \"NA\" (or \"null\", \"None\", etc.) values.  The CSV reader has a special field for specifying how this is denoted, and SQL has the built-in notion of NULL.  Pandas provides some tools for working with these -- they are generally similar too (and a little bit worse than) `R`\n",
    "\n",
    "- `isnull` / `notnull`: Testing for null-ness e.g., \n",
    ">       \n",
    "        df['column_name'].isnull()\n",
    "        \n",
    "   returns a Boolean series\n",
    "- `fillna`: Replacing null values by something else, e.g.,\n",
    ">         \n",
    "        df['column_name'].fillna(0)             # Fills constant value, here 0\n",
    "        df['column_name'].fillna(method='ffill')  # Fill forwards\n",
    "        df['column_name'].fillna(method='bfill', limit=5)  # Fill backwards, at most 5\n",
    "        \n",
    "    At least by default, this is *not in place* -- that is, it creates a new series and does not change the original one.\n",
    "\n",
    "- `interpolate`: Replacing null values by (linear, or quadratic, or...) interpolation.  There is support for indexing by times (not necessarily equally spaced), etc. in the documentation.  The most basic usage is\n",
    ">        \n",
    "        df['column_name'].interpolate()\n",
    "    \n",
    "    As above, this is not in place.\n",
    "\n",
    "\n",
    "For more details: http://pandas.pydata.org/pandas-docs/stable/missing_data.html"
   ]
  },
  {
   "cell_type": "markdown",
   "metadata": {},
   "source": [
    "Pandas HTML data import example\n",
    "================================\n",
    "Pandas takes a \"batteries included approach\" and throws in a whole lot of convenience functions.  For instance it has import functions for a variety of formats.  One of the pleasant surprises is a command `read_html` that's meant to automate the process of extacting tabular data from HTML.  In particular, it works pretty well with tables on Wikipedia.  \n",
    "\n",
    "Let's do an example: We'll try to extract the list of the world's tallest buildings from\n",
    "http://en.wikipedia.org/wiki/List_of_tallest_buildings_and_structures_in_the_world\n",
    "\n",
    "\n",
    "(This example will, likely, not get lecture time.)"
   ]
  },
  {
   "cell_type": "code",
   "execution_count": 3,
   "metadata": {
    "collapsed": false
   },
   "outputs": [
    {
     "ename": "ImportError",
     "evalue": "lxml not found, please install it",
     "output_type": "error",
     "traceback": [
      "\u001b[1;31m---------------------------------------------------------------------------\u001b[0m",
      "\u001b[1;31mImportError\u001b[0m                               Traceback (most recent call last)",
      "\u001b[1;32m<ipython-input-3-69418dd3c554>\u001b[0m in \u001b[0;36m<module>\u001b[1;34m()\u001b[0m\n\u001b[0;32m      1\u001b[0m \u001b[1;32mimport\u001b[0m \u001b[0mpandas\u001b[0m \u001b[1;32mas\u001b[0m \u001b[0mpd\u001b[0m\u001b[1;33m\u001b[0m\u001b[0m\n\u001b[1;32m----> 2\u001b[1;33m \u001b[0mdfs\u001b[0m \u001b[1;33m=\u001b[0m \u001b[0mpd\u001b[0m\u001b[1;33m.\u001b[0m\u001b[0mread_html\u001b[0m\u001b[1;33m(\u001b[0m\u001b[1;34m'http://en.wikipedia.org/wiki/List_of_tallest_buildings_and_structures_in_the_world'\u001b[0m\u001b[1;33m,\u001b[0m \u001b[0mheader\u001b[0m\u001b[1;33m=\u001b[0m\u001b[1;36m0\u001b[0m\u001b[1;33m,\u001b[0m \u001b[0mparse_dates\u001b[0m\u001b[1;33m=\u001b[0m\u001b[0mFalse\u001b[0m\u001b[1;33m)\u001b[0m\u001b[1;33m\u001b[0m\u001b[0m\n\u001b[0m\u001b[0;32m      3\u001b[0m \u001b[1;33m\u001b[0m\u001b[0m\n\u001b[0;32m      4\u001b[0m \u001b[1;31m# There are several tables on the page.  By inspection we can figure out which one we want\u001b[0m\u001b[1;33m\u001b[0m\u001b[1;33m\u001b[0m\u001b[0m\n\u001b[0;32m      5\u001b[0m \u001b[0mtallest\u001b[0m \u001b[1;33m=\u001b[0m \u001b[0mdfs\u001b[0m\u001b[1;33m[\u001b[0m\u001b[1;36m2\u001b[0m\u001b[1;33m]\u001b[0m\u001b[1;33m\u001b[0m\u001b[0m\n",
      "\u001b[1;32mC:\\Python27\\lib\\site-packages\\pandas\\io\\html.pyc\u001b[0m in \u001b[0;36mread_html\u001b[1;34m(io, match, flavor, header, index_col, skiprows, attrs, parse_dates, tupleize_cols, thousands, encoding)\u001b[0m\n\u001b[0;32m    864\u001b[0m     \u001b[0m_validate_header_arg\u001b[0m\u001b[1;33m(\u001b[0m\u001b[0mheader\u001b[0m\u001b[1;33m)\u001b[0m\u001b[1;33m\u001b[0m\u001b[0m\n\u001b[0;32m    865\u001b[0m     return _parse(flavor, io, match, header, index_col, skiprows,\n\u001b[1;32m--> 866\u001b[1;33m                   parse_dates, tupleize_cols, thousands, attrs, encoding)\n\u001b[0m",
      "\u001b[1;32mC:\\Python27\\lib\\site-packages\\pandas\\io\\html.pyc\u001b[0m in \u001b[0;36m_parse\u001b[1;34m(flavor, io, match, header, index_col, skiprows, parse_dates, tupleize_cols, thousands, attrs, encoding)\u001b[0m\n\u001b[0;32m    716\u001b[0m     \u001b[0mretained\u001b[0m \u001b[1;33m=\u001b[0m \u001b[0mNone\u001b[0m\u001b[1;33m\u001b[0m\u001b[0m\n\u001b[0;32m    717\u001b[0m     \u001b[1;32mfor\u001b[0m \u001b[0mflav\u001b[0m \u001b[1;32min\u001b[0m \u001b[0mflavor\u001b[0m\u001b[1;33m:\u001b[0m\u001b[1;33m\u001b[0m\u001b[0m\n\u001b[1;32m--> 718\u001b[1;33m         \u001b[0mparser\u001b[0m \u001b[1;33m=\u001b[0m \u001b[0m_parser_dispatch\u001b[0m\u001b[1;33m(\u001b[0m\u001b[0mflav\u001b[0m\u001b[1;33m)\u001b[0m\u001b[1;33m\u001b[0m\u001b[0m\n\u001b[0m\u001b[0;32m    719\u001b[0m         \u001b[0mp\u001b[0m \u001b[1;33m=\u001b[0m \u001b[0mparser\u001b[0m\u001b[1;33m(\u001b[0m\u001b[0mio\u001b[0m\u001b[1;33m,\u001b[0m \u001b[0mcompiled_match\u001b[0m\u001b[1;33m,\u001b[0m \u001b[0mattrs\u001b[0m\u001b[1;33m,\u001b[0m \u001b[0mencoding\u001b[0m\u001b[1;33m)\u001b[0m\u001b[1;33m\u001b[0m\u001b[0m\n\u001b[0;32m    720\u001b[0m \u001b[1;33m\u001b[0m\u001b[0m\n",
      "\u001b[1;32mC:\\Python27\\lib\\site-packages\\pandas\\io\\html.pyc\u001b[0m in \u001b[0;36m_parser_dispatch\u001b[1;34m(flavor)\u001b[0m\n\u001b[0;32m    675\u001b[0m     \u001b[1;32melse\u001b[0m\u001b[1;33m:\u001b[0m\u001b[1;33m\u001b[0m\u001b[0m\n\u001b[0;32m    676\u001b[0m         \u001b[1;32mif\u001b[0m \u001b[1;32mnot\u001b[0m \u001b[0m_HAS_LXML\u001b[0m\u001b[1;33m:\u001b[0m\u001b[1;33m\u001b[0m\u001b[0m\n\u001b[1;32m--> 677\u001b[1;33m             \u001b[1;32mraise\u001b[0m \u001b[0mImportError\u001b[0m\u001b[1;33m(\u001b[0m\u001b[1;34m\"lxml not found, please install it\"\u001b[0m\u001b[1;33m)\u001b[0m\u001b[1;33m\u001b[0m\u001b[0m\n\u001b[0m\u001b[0;32m    678\u001b[0m     \u001b[1;32mreturn\u001b[0m \u001b[0m_valid_parsers\u001b[0m\u001b[1;33m[\u001b[0m\u001b[0mflavor\u001b[0m\u001b[1;33m]\u001b[0m\u001b[1;33m\u001b[0m\u001b[0m\n\u001b[0;32m    679\u001b[0m \u001b[1;33m\u001b[0m\u001b[0m\n",
      "\u001b[1;31mImportError\u001b[0m: lxml not found, please install it"
     ]
    }
   ],
   "source": [
    "import pandas as pd\n",
    "dfs = pd.read_html('http://en.wikipedia.org/wiki/List_of_tallest_buildings_and_structures_in_the_world', header=0, parse_dates=False)\n",
    "\n",
    "# There are several tables on the page.  By inspection we can figure out which one we want\n",
    "tallest = dfs[2]  \n",
    "\n",
    "# The coordinates column needs to be fixed up.  This is a bit of string parsing:\n",
    "def clean_lat_long(s):\n",
    "    try:\n",
    "        parts = s.split(\"/\")\n",
    "    except AttributeError:\n",
    "        return (None, None)\n",
    "    if len(parts)<3:\n",
    "        return None\n",
    "    m=re.search(r\"(\\d+[.]\\d+);[^\\d]*(\\d+[.]\\d+)[^\\d]\", parts[2])\n",
    "    if not m:\n",
    "        return (None, None)\n",
    "    return (m.group(1), m.group(2))\n",
    "\n",
    "tallest['Clean_Coordinates'] = tallest['Coordinates'].apply(clean_lat_long)\n",
    "tallest['Latitude'] = tallest['Clean_Coordinates'].apply(lambda x:x[0])\n",
    "tallest['Longitude'] = tallest['Clean_Coordinates'].apply(lambda x:x[1])\n",
    "\n",
    "# Et voila\n",
    "tallest.head()"
   ]
  },
  {
   "cell_type": "markdown",
   "metadata": {},
   "source": [
    "Remarks:\n",
    "-----------\n",
    "Unfortunately, that didn't work well on height (ft) and is so-so on year built.  \n",
    "\n",
    "In both cases, it is because it is assuming that the field is a _date_ rather than just a number.  We can hint these things to `read_html` through extra parameters.\n",
    "\n",
    "In this particular case we would probably not bother: It is pretty good on the year built, and height in meters is good enough.\n",
    "\n",
    "**Exercise**: \n",
    "\n",
    "1. Parse the height correctly.\n",
    "1. Parse the table rankings of [UK universities available on wikipedia](https://en.wikipedia.org/wiki/Rankings_of_universities_in_the_United_Kingdom):"
   ]
  },
  {
   "cell_type": "markdown",
   "metadata": {},
   "source": [
    "## \"Pivot table\" syntax, Stacking and unstacking\n",
    "\n",
    "These are useful tools -- and if you're aready familiar with Pivot Tables in e.g., Excel they'll be familiar.  Otherwise, this might be best saved for a hypothetical second lesson: see http://pandas.pydata.org/pandas-docs/stable/reshaping.html\n"
   ]
  },
  {
   "cell_type": "code",
   "execution_count": null,
   "metadata": {
    "collapsed": false
   },
   "outputs": [],
   "source": [
    "df.head()\n",
    "\n",
    "df"
   ]
  },
  {
   "cell_type": "markdown",
   "metadata": {},
   "source": [
    "Plugging into more advanced analytics\n",
    "-------\n",
    "Almost any \"advanced analytics\" tool in the Python ecosystem is going to take as input `np.array` type arrays.  You can access the underlying array of a data frame column as\n",
    "\n",
    "        df['column'].values\n",
    "        \n",
    "Many of them take `nd.array` whose underlying data can be accessed by \n",
    "\n",
    "        df.values\n",
    "        \n",
    "directly.  *Most* of the time, they will take `df['column']` and `df` without needing to look at values.\n",
    "\n",
    "This is particularly important if you want to use Pandas with the sklearn library. See this [blog post](http://www.markhneedham.com/blog/2013/11/09/python-making-scikit-learn-and-pandas-play-nice/) for an example."
   ]
  },
  {
   "cell_type": "code",
   "execution_count": null,
   "metadata": {
    "collapsed": false
   },
   "outputs": [],
   "source": []
  },
  {
   "cell_type": "markdown",
   "metadata": {},
   "source": [
    "*Copyright &copy; 2015 The Data Incubator.  All rights reserved.*"
   ]
  }
 ],
 "metadata": {
  "kernelspec": {
   "display_name": "Python 2",
   "language": "python",
   "name": "python2"
  },
  "language_info": {
   "codemirror_mode": {
    "name": "ipython",
    "version": 2
   },
   "file_extension": ".py",
   "mimetype": "text/x-python",
   "name": "python",
   "nbconvert_exporter": "python",
   "pygments_lexer": "ipython2",
   "version": "2.7.10"
  }
 },
 "nbformat": 4,
 "nbformat_minor": 0
}
