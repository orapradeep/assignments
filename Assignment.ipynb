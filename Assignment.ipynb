{
 "cells": [
  {
   "cell_type": "code",
   "execution_count": 3,
   "metadata": {
    "collapsed": false
   },
   "outputs": [
    {
     "name": "stdout",
     "output_type": "stream",
     "text": [
      "http://www.newyorksocialdiary.com/party-pictures/2015/park-avenue-lifeline-symrise-and-hss\n",
      "<!DOCTYPE html>\n",
      "  <!--[if IEMobile 7]><html class=\"no-js ie iem7\" lang=\"en\" dir=\"ltr\"><![endif]-->\n",
      "  <!--[if lte IE 6]><html class=\"no-js ie lt-ie9 lt-ie8 lt-ie7\" lang=\"en\" dir=\"ltr\"><![endif]-->\n",
      "  <!--[if (IE 7)&(!IEMobile)]><html class=\"no-js ie lt-ie9 lt-ie8\" lang=\"en\" dir=\"ltr\"><![endif]-->\n",
      "  <!--[if IE 8]><html class=\"no-js ie lt-ie9\" lang=\"en\" dir=\"ltr\"><![endif]-->\n",
      "  <!--[if (gte IE 9)|(gt IEMobile 7)]><html class=\"no-js ie\" lang=\"en\" dir=\"ltr\" prefix=\"fb: http://ogp.me/ns/fb# og: http://ogp.me/ns# article: http://ogp.me/ns/article# book: http://ogp.me/ns/book# profile: http://ogp.me/ns/profile# video: http://ogp.me/ns/video# product: http://ogp.me/ns/product#\"><![endif]-->\n",
      "  <!--[if !IE]><!--><html class=\"no-js\" lang=\"en\" dir=\"ltr\" prefix=\"fb: http://ogp.me/ns/fb# og: http://ogp.me/ns# article: http://ogp.me/ns/article# book: http://ogp.me/ns/book# profile: http://ogp.me/ns/profile# video: http://ogp.me/ns/video# product: http://ogp.me/ns/product#\"><!--<![endif]-->\n",
      "<head>\n",
      "  <ti\n"
     ]
    }
   ],
   "source": [
    "import requests\n",
    "\n",
    "url = \"http://www.newyorksocialdiary.com/party-pictures/2015/park-avenue-lifeline-symrise-and-hss\"\n",
    "response = requests.get(url)\n",
    "print response.url\n",
    "print response.text[:1000]"
   ]
  },
  {
   "cell_type": "code",
   "execution_count": 5,
   "metadata": {
    "collapsed": false
   },
   "outputs": [
    {
     "ename": "NameError",
     "evalue": "name 'soup' is not defined",
     "output_type": "error",
     "traceback": [
      "\u001b[1;31m---------------------------------------------------------------------------\u001b[0m",
      "\u001b[1;31mNameError\u001b[0m                                 Traceback (most recent call last)",
      "\u001b[1;32m<ipython-input-5-1ceefc49f735>\u001b[0m in \u001b[0;36m<module>\u001b[1;34m()\u001b[0m\n\u001b[0;32m      1\u001b[0m \u001b[1;32mfrom\u001b[0m \u001b[0mbs4\u001b[0m \u001b[1;32mimport\u001b[0m \u001b[0mBeautifulSoup\u001b[0m\u001b[1;33m\u001b[0m\u001b[0m\n\u001b[1;32m----> 2\u001b[1;33m \u001b[0mphoto_div\u001b[0m\u001b[1;33m=\u001b[0m \u001b[0msoup\u001b[0m\u001b[1;33m.\u001b[0m\u001b[0mfind_all\u001b[0m\u001b[1;33m(\u001b[0m\u001b[1;34m'div'\u001b[0m\u001b[1;33m,\u001b[0m \u001b[0mattrs\u001b[0m\u001b[1;33m=\u001b[0m\u001b[1;33m{\u001b[0m\u001b[1;34m'class'\u001b[0m\u001b[1;33m:\u001b[0m\u001b[1;34m'photocaption'\u001b[0m\u001b[1;33m}\u001b[0m\u001b[1;33m)\u001b[0m\u001b[1;33m\u001b[0m\u001b[0m\n\u001b[0m\u001b[0;32m      3\u001b[0m \u001b[1;31m#tech_divsfind_all('div', attrs={'class':'photocaption'})  #Find *all*\u001b[0m\u001b[1;33m\u001b[0m\u001b[1;33m\u001b[0m\u001b[0m\n\u001b[0;32m      4\u001b[0m \u001b[1;31m#print len(tech_divs)\u001b[0m\u001b[1;33m\u001b[0m\u001b[1;33m\u001b[0m\u001b[0m\n\u001b[0;32m      5\u001b[0m \u001b[1;32mprint\u001b[0m \u001b[0mlen\u001b[0m\u001b[1;33m(\u001b[0m\u001b[0mphoto_div\u001b[0m\u001b[1;33m)\u001b[0m\u001b[1;33m\u001b[0m\u001b[0m\n",
      "\u001b[1;31mNameError\u001b[0m: name 'soup' is not defined"
     ]
    }
   ],
   "source": [
    "from bs4 import BeautifulSoup\n",
    "photo_div= soup.find_all('div', attrs={'class':'photocaption'})\n",
    "#tech_divsfind_all('div', attrs={'class':'photocaption'})  #Find *all*\n",
    "#print len(tech_divs)\n",
    "print len(photo_div)"
   ]
  },
  {
   "cell_type": "code",
   "execution_count": null,
   "metadata": {
    "collapsed": false
   },
   "outputs": [],
   "source": [
    "from bs4 import BeautifulSoup\n",
    "soup= BeautifulSoup(response.text)\n",
    "print soup.prettify()"
   ]
  },
  {
   "cell_type": "code",
   "execution_count": 32,
   "metadata": {
    "collapsed": false
   },
   "outputs": [
    {
     "name": "stdout",
     "output_type": "stream",
     "text": [
      "[<div align=\"center\" class=\"photocaption\">  Park Avenue, known as Fourth Avenue until the late 19th century,  was cut with railroad tracks, as seen in this 1905 photo looking south from 56th Street. </div>, <div align=\"center\" class=\"photocaption\"> Christian Keese, Barbara McLaughlin, and Konrad Keese </div>, <div align=\"center\" class=\"photocaption\"> Sharon Bush, Lucia Gordon Hwong, Robert Caravaggi, and Jeffrey Bilhuber </div>, <div align=\"center\" class=\"photocaption\"> Linda Orlick, Leslie Hubbard, Julie Ovadia, and Nick Athanail </div>, <div align=\"center\" class=\"photocaption\"> Lisa Berntstein, Jack Lynch, Amy Hoadley, and Helen Johnson </div>, <div align=\"center\" class=\"photocaption\"> Karen Thompkins, Clay Thompkins, and Kirk Henckels </div>, <div align=\"center\" class=\"photocaption\"> Michael Scully </div>, <div align=\"center\" class=\"photocaption\"> Elena de Noue, Georgina Schaeffer, and Clare McKeon </div>, <div align=\"center\" class=\"photocaption\"> Tony Freund and Pam Sommers </div>, <div align=\"center\" class=\"photocaption\"> Charles Miers and Jeffrey Bilhuber </div>, <div align=\"center\" class=\"photocaption\"> Jerry Della Femina, Bill Dessoffy, and Judy Licht </div>, <div align=\"center\" class=\"photocaption\"> LeMerle Brinkley </div>, <div align=\"center\" class=\"photocaption\"> Jeffrey Bilhuber and Sharon Bush </div>, <div align=\"center\" class=\"photocaption\"> Betsy Turner, Jack Lynch, and Polly Onet </div>, <div align=\"center\" class=\"photocaption\"> Randy Gilman, Nick Athanail, Linda Orlick, and Henry Ball </div>, <div align=\"center\" class=\"photocaption\"> Jay Jolly and Martha Glass </div>, <div align=\"center\" class=\"photocaption\"> Clare McKeon and Mark Gilbertson </div>, <div align=\"center\" class=\"photocaption\"> Mary Libby, Lionel Larner, and Jane Wong </div>, <div align=\"center\" class=\"photocaption\"> Amy Hoadley, Melissa Morris, Chappy Morris, Kevin McLaughlin, and Barbara McLaughlin </div>, <div align=\"center\" class=\"photocaption\"> Bill Dessoffy, Lauren Shortt Pinto, Martha Glass, and Martin Gibson-Dessoffy </div>, <div align=\"center\" class=\"photocaption\"> Ken Fishel, Maria Fishel, Lena Kuzinez, and Boris Kuzinez </div>, <div align=\"center\" class=\"photocaption\"> Jeffrey Bilhuber and Anna Haughton </div>, <div align=\"center\" class=\"photocaption\"> Jo-Ann Polise, Thor Thors, and Victoria Anstead </div>, <div align=\"center\" class=\"photocaption\"> Magda Gregorian, Anna Haughton, and Barbara McLaughlin </div>, <div align=\"center\" class=\"photocaption\"> Helen Johnson, Mark Schwarz, and Lisa Berntstein </div>, <div align=\"center\" class=\"photocaption\"> Polly Sheehan, Tad Ogden, Bob Sheehan, and Jan Ogden </div>, <div align=\"center\" class=\"photocaption\"> Warren and Sue Haber </div>, <div align=\"center\" class=\"photocaption\"> Anka Palitz and Jeffrey Bilhuber </div>, <div align=\"center\" class=\"photocaption\"> Bill Brock and Patricia Bernam Brock </div>, <div align=\"center\" class=\"photocaption\"> Kevin McLaughlin, Barbara McLaughlin, and Bill Dessoffy </div>, <div align=\"center\" class=\"photocaption\"> Ann Jackson and Martha McLanahan </div>, <div align=\"center\" class=\"photocaption\"> William and Julie Sargent </div>, <div align=\"center\" class=\"photocaption\"> Crown Princess Katherine of Serbia, Cheri Kaufman, Crown Prince Alexander of Serbia, and Mona Al Nasser </div>, <div align=\"center\" class=\"photocaption\"> Crown Prince Alexander of Serbia, Ivana Trump, and Prince Dimitri of Yugoslavia </div>, <div align=\"center\" class=\"photocaption\"> The Dobbs 16 from Masters School </div>, <div align=\"center\" class=\"photocaption\"> Mary Sliwa and David Paterson </div>, <div align=\"center\" class=\"photocaption\"> David Hryck and Susan Gutfreund </div>, <div align=\"center\" class=\"photocaption\"> Elizabeth Kabler, Audrey Gruss, and Marina Pellecchi </div>, <div align=\"center\" class=\"photocaption\"> Janna Bullock </div>, <div align=\"center\" class=\"photocaption\"> Jean Shafiroff, Elizabeth Theriot, and Sharon Bush </div>, <div align=\"center\" class=\"photocaption\"> Peter Hallock, Kathleen Fisher, and Joseph Fisher </div>, <div align=\"center\" class=\"photocaption\"> Cheri Kaufman, Crown Princess Katherine of Serbia, and Bill Slith </div>, <div align=\"center\" class=\"photocaption\"> Karen Klopp and Kamie Lightburn </div>, <div align=\"center\" class=\"photocaption\"> Laura Mamakos and Betty Roumeliotis </div>, <div align=\"center\" class=\"photocaption\"> David Mason, LuAnn de Lesseps, and Jamie Rose </div>, <div align=\"center\" class=\"photocaption\"> Emilie Coppermann, David Apel, Natalie Benareau, Christelle Laprade, and Carlos Vinals </div>, <div align=\"center\" class=\"photocaption\"> Isabel Bacheret, Beatrice Mouleyre, and Emilie Coppermann </div>, <div align=\"center\" class=\"photocaption\"> Achim Daub, Consuelo Vanderbilt Costin, Morgan O'Connor, and Kick Kennedy </div>, <div align=\"center\" class=\"photocaption\"> Tom Shaffer and Louise Masano </div>, <div align=\"center\" class=\"photocaption\"> Ann Gottlieb </div>, <div align=\"center\" class=\"photocaption\"> Marc Rosen and Rhona Stokols </div>, <div align=\"center\" class=\"photocaption\"> Jean Shafiroff and R. Couri Hay </div>, <div align=\"center\" class=\"photocaption\"> Judy and Peter Price </div>, <div align=\"center\" class=\"photocaption\"> Anthony Taccetta, Anastasia Garvey, and Dr. Kenneth Mark </div>, <div align=\"center\" class=\"photocaption\"> Jeff An </div>, <div align=\"center\" class=\"photocaption\"> Pamela Vail and George Ledes </div>, <div align=\"center\" class=\"photocaption\"> Byron Hero and Christine Schott </div>, <div align=\"center\" class=\"photocaption\"> Barbara Albert, chair, shares opening remarks</div>, <div align=\"center\" class=\"photocaption\"> Gigi, electric violinist </div>, <div align=\"center\" class=\"photocaption\"> The dinner co-chairs: Ann Roberts, Anne Altchek, Barbara Albert, and Carol Lyden </div>, <div align=\"center\" class=\"photocaption\"> Rachel Shapiro with father Louis A. Shapiro, CEO and president of Hospital for Special Surgery </div>, <div align=\"center\" class=\"photocaption\"> Dr. Todd Albert, surgeon-in-chief at Hospital for Special Surgery, with Dr. Philip Wilson, Jr., orthopedic surgeon </div>, <div align=\"center\" class=\"photocaption\"> Craig Ivey, president of Con Edison, with Janise Cocker </div>, <div align=\"center\" class=\"photocaption\"> Dr. David Altchek, sports medicine surgeon at Hospital for Special Surgery, with daughter, Chloe </div>, <div align=\"center\" class=\"photocaption\"> Barbara Albert, chair, with mother, Susan Merinoff</div>, <div align=\"center\" class=\"photocaption\"> Co-chair Carol Lyden with Dr. John Lyden, orthopedic trauma surgeon at Hospital for Special Surgery, one of the night's honorees </div>, <div align=\"center\" class=\"photocaption\"> Connie Anne Phillips, editor of Glamour, with Monica Keany </div>, <div align=\"center\" class=\"photocaption\"> One of the night's honorees, Dr. Lawrence Gulotta, sports medicine surgeon at Hospital for Special Surgery, with his wife Megan </div>, <div align=\"center\" class=\"photocaption\"> From left to right: Cynthia Sculco; Laurie Warren; Judith Dines; Dr. David Dines, sports medicine surgeon at Hospital for Special Surgery; Dr. Russell Warren, sports medicine surgeon; Dr. Thomas Sculco, orthopedic surgeon; Dr. Robert Brophy, former HSS resident and fellow </div>, <div align=\"center\" class=\"photocaption\"> Dr. Lawrence Gulotta, sports medicine surgeon and recipient of this year's Richard S. Laskin, MD, Young Attending Award, with the Honorable Joyce L. Sparrow</div>, <div align=\"center\" class=\"photocaption\"> Dr. Thomas Sculco, orthopedic surgeon at Hospital for Special Surgery, with the Honorable Joyce L. Sparrow </div>, <div align=\"center\" class=\"photocaption\"> Seymour Flug, Renee Flug, Carol Lyden, Sue Weinberg, and Dr. John Lyden, orthopedic trauma surgeon at Hospital for Special Surgery </div>]\n"
     ]
    }
   ],
   "source": [
    "photo_div= soup.find_all('div', attrs={'class':'photocaption'})\n",
    "#tech_divsfind_all('div', attrs={'class':'photocaption'})  #Find *all*\n",
    "#print len(tech_divs)\n",
    "print(photo_div)"
   ]
  },
  {
   "cell_type": "code",
   "execution_count": null,
   "metadata": {
    "collapsed": true
   },
   "outputs": [],
   "source": [
    "import re\n",
    "import matplotlib.pyplot as plt\n",
    "\n",
    "digit_count=[0,0,0,0,0,0,0,0,0]\n",
    "\n",
    "#opens and reads Google 2014 SEC report into string named text\n",
    "with open('/Users/briangoldman/Desktop/GOOG14.txt','rb') as f:\n",
    "    text=f.read()\n",
    "\n",
    "#remove all numbers in the two-thousands (years) from the text\n",
    "    \n",
    "text=re.sub(\" 20\\d\\d \", \"\", text)\n",
    "\n",
    "#counts the fraction of numbers starting with each digit and plots the result\n",
    "\n",
    "digits=re.findall(\" [1-9]\",text)\n",
    "for d in digits:\n",
    "    digit_count[int(d)-1]=digit_count[int(d)-1]+1\n",
    "total=sum(digit_count)+0.0\n",
    "for i in range(9):\n",
    "    digit_count[i]=digit_count[i]/total\n",
    "print digit_count\n",
    "plt.scatter(range(9),digit_count)\n",
    "plt.show()"
   ]
  },
  {
   "cell_type": "code",
   "execution_count": null,
   "metadata": {
    "collapsed": true
   },
   "outputs": [],
   "source": []
  }
 ],
 "metadata": {
  "kernelspec": {
   "display_name": "Python 2",
   "language": "python",
   "name": "python2"
  },
  "language_info": {
   "codemirror_mode": {
    "name": "ipython",
    "version": 2
   },
   "file_extension": ".py",
   "mimetype": "text/x-python",
   "name": "python",
   "nbconvert_exporter": "python",
   "pygments_lexer": "ipython2",
   "version": "2.7.10"
  }
 },
 "nbformat": 4,
 "nbformat_minor": 0
}
