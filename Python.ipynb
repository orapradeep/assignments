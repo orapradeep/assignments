{
 "cells": [
  {
   "cell_type": "markdown",
   "metadata": {},
   "source": [
    "# Python\n",
    "\n",
    "Python is a dynamic, interpreted (byte-code-compiled) language. You don't have to declare types for variables, parameters, functions, or methods in your code. This makes the code short and flexible, but the compiler will lose time figuring out which type to use for each variable. Python tracks the types of all values at runtime and flags code that does not make sense as it runs.\n",
    "\n",
    "\n",
    "To start, open terminal or console and type 'python'\n",
    "\n",
    "if you install the python correctly on your machine, you will see the python version and other details.\n",
    "\n",
    "type 'help()' to get help\n",
    "\n",
    "you can type anything oython syntax here, for example: we type: 'if' then we can view the details, structure and signiture of if statement. to exit press 'q' twice\n",
    "\n",
    "## Python file extension\n",
    "\n",
    "Python source files use the \".py\" extension and are called \"modules\". for example we can save our python file as hello.py\n",
    "\n",
    "lets say, we want to pass an argument to the python interpretor.\n",
    "\n",
    "## Running a First Program"
   ]
  },
  {
   "cell_type": "code",
   "execution_count": null,
   "metadata": {
    "collapsed": false
   },
   "outputs": [],
   "source": [
    "print \"hello World\""
   ]
  },
  {
   "cell_type": "code",
   "execution_count": null,
   "metadata": {
    "collapsed": false
   },
   "outputs": [],
   "source": [
    "print '\"Hello class\"'"
   ]
  },
  {
   "cell_type": "code",
   "execution_count": null,
   "metadata": {
    "collapsed": false
   },
   "outputs": [],
   "source": [
    "print \"Hello world\""
   ]
  },
  {
   "cell_type": "code",
   "execution_count": null,
   "metadata": {
    "collapsed": true
   },
   "outputs": [],
   "source": [
    "a = 2"
   ]
  },
  {
   "cell_type": "code",
   "execution_count": null,
   "metadata": {
    "collapsed": false
   },
   "outputs": [],
   "source": [
    "a + 2"
   ]
  },
  {
   "cell_type": "code",
   "execution_count": null,
   "metadata": {
    "collapsed": true
   },
   "outputs": [],
   "source": [
    "a = 'hi there'"
   ]
  },
  {
   "cell_type": "code",
   "execution_count": null,
   "metadata": {
    "collapsed": false
   },
   "outputs": [],
   "source": [
    "b = 'I don't know"
   ]
  },
  {
   "cell_type": "code",
   "execution_count": null,
   "metadata": {
    "collapsed": true
   },
   "outputs": [],
   "source": [
    "b = \"I don't know\""
   ]
  },
  {
   "cell_type": "markdown",
   "metadata": {},
   "source": [
    "## Python Standard Library\n",
    "\n",
    "Python has a built-in library which serves as the core of language. This library contains built-in functions and exceptions — you can use it in all Python code; it does not need to be imported.\n",
    "\n",
    "https://docs.python.org/2.7/library/functions.html\n",
    "\n",
    "\n",
    "### Python standard data types\n",
    "\n",
    "Sequence types: str, list, tuple,...\n",
    "\n",
    "Numeric types: int, float, long, complex\n",
    "\n",
    "Mapping types: dict\n",
    "\n",
    "\n",
    "### Variables naming rules\n",
    "\n",
    "- Variable names can only contain letters, numbers, and underscores. Variable names can start with a letter or an underscore, but not a number.\n",
    "- Spaces are not allowed in variable names, so we use underscores instead of spaces. For example, use student_name instead of \"student name\".\n",
    "- You cannot use Python keywords as variable names.\n",
    "- Variable names should be descriptive, without being too long. For example mc_wheels is better than just \"wheels\", and number_of_wheels_on_a_motorycle.\n",
    "- Be careful about using the lowercase letter l and the uppercase letter O in places where they could be confused with the numbers 1 and 0.\n",
    "\n",
    "\n",
    "### Int, float\n",
    "\n",
    "Python allows you to work with both integers (int) and numbers containing decimals (float).  Of course, every integer can be represented as a float, but there are some things you can do with integers that you cannot do with floats.  Python can tell automatically if a number is an int or a float, though you can override this as you see fit.\n",
    "\n",
    "\n"
   ]
  },
  {
   "cell_type": "code",
   "execution_count": null,
   "metadata": {
    "collapsed": false
   },
   "outputs": [],
   "source": [
    "b = -10 \n",
    "c = 2.7 \n",
    "\n",
    "print b\n",
    "print c\n",
    "\n",
    "print type(b)\n",
    "print type(c)\n",
    "\n",
    "b = float(b)\n",
    "c = int(c)\n",
    "\n",
    "print b\n",
    "print c\n",
    "\n",
    "print type(b)\n",
    "print type(c)"
   ]
  },
  {
   "cell_type": "markdown",
   "metadata": {},
   "source": [
    "### Float arithmetic\n",
    "\n",
    "Arithmetic with floats works exactly as you might expect.  Here are some useful arithemitic operations:\n",
    "\n",
    "\\+   addition\n",
    "\n",
    "\\-   subtraction\n",
    "\n",
    "\\*   multiplication\n",
    "\n",
    "\\\\   division\n",
    "\n",
    "\\*\\* powers \n",
    "\n",
    "<\tstrictly less than\t\n",
    "\n",
    "<=\tless than or equal\t  \n",
    "\n",
    "==\tequal\t \n",
    "\n",
    "!=\tnot equal"
   ]
  },
  {
   "cell_type": "code",
   "execution_count": null,
   "metadata": {
    "collapsed": false
   },
   "outputs": [],
   "source": [
    "print 5.5 + 2.2\n",
    "print 5.5 - 2.2\n",
    "print 5.5 * 2.2\n",
    "print 5.5 / 2.2\n",
    "print 5.5 ** 2.2\n",
    "print 5.5 < 2.2\n",
    "print 5.5 != 2.2"
   ]
  },
  {
   "cell_type": "markdown",
   "metadata": {},
   "source": [
    "### Int arithmetic\n",
    "\n",
    "Arithmetic with integers works the same way, except for division.  When you divide one integer by another, you drop the remainder.  To get the remainder, you can use the % (mod) operation.  To get the exact result, turn one of the integers into a float.  In general, if you perform an arithmetic operation with one integer and one float, Python will turn both numbers into floats before performing the operation."
   ]
  },
  {
   "cell_type": "code",
   "execution_count": null,
   "metadata": {
    "collapsed": false
   },
   "outputs": [],
   "source": [
    "print 10 / 3\n",
    "print 10 % 3\n",
    "print float(10) / 3\n",
    "print 10.0 / 3 "
   ]
  },
  {
   "cell_type": "markdown",
   "metadata": {},
   "source": [
    "### Parenthesization\n",
    "\n",
    "Python uses the standard order of operations.  You can use parentheses to define your own order.\n"
   ]
  },
  {
   "cell_type": "code",
   "execution_count": null,
   "metadata": {
    "collapsed": false
   },
   "outputs": [],
   "source": [
    "standard_order = 2+3*4\n",
    "print standard_order\n",
    "\n",
    "my_order = (2+3)*4\n",
    "print my_order "
   ]
  },
  {
   "cell_type": "markdown",
   "metadata": {},
   "source": [
    "### Str\n",
    "\n",
    "Strings: sets of characters!  This is your text data.\n",
    "\n",
    "There is a string class named \"str\" which has many handy features (there is an older module named \"string\" which you should not use). Strings can be enclosed by either double or single quotes, although single quotes are more common. Characters in a string can be accessed using the standard [ ] syntax, and like Java and C++, Python uses zero-based indexing.\n",
    "\n",
    "\n",
    "https://docs.python.org/3/library/stdtypes.html#str"
   ]
  },
  {
   "cell_type": "code",
   "execution_count": null,
   "metadata": {
    "collapsed": false
   },
   "outputs": [],
   "source": [
    "#[added indexing example]\n",
    "a = 'text string here' #Strings are contained by either single or double quotes.\n",
    "\n",
    "print a\n",
    "print \"The first character in our string is \" + a[0] +\".\"\n",
    "print \"The second, third, and fourth characters are \" + a[1:4] +\".\""
   ]
  },
  {
   "cell_type": "markdown",
   "metadata": {},
   "source": [
    "### Operations\n",
    "\n",
    "is\tobject identity\t \n",
    "\n",
    "is not\tnegated object identity\t\n",
    "\n",
    "x in s -- True if an item of s is equal to x, else False\n",
    "\n",
    "x not in s -- False if an item of s is equal to x, else True\n",
    "\n",
    "s + t -- the concatenation of s and t\n",
    "\n",
    "s * n, n * s -- equivalent to adding s to itself n times\n",
    "\n",
    "s[i] -- ith item of s, origin 0\n",
    "\n",
    "s[i:j] -- slice of s from i to j\n",
    "\n",
    "s[i:j:k] -- slice of s from i to j with step k\n",
    "\n",
    "x or y -- if x is false, then y, else x\n",
    "\n",
    "x and y -- if x is false, then x, else y\n",
    "\n",
    "not x -- if x is false, then True, else False "
   ]
  },
  {
   "cell_type": "code",
   "execution_count": null,
   "metadata": {
    "collapsed": false
   },
   "outputs": [],
   "source": [
    "b = 'French'\n",
    "print b + ' Fries'\n",
    "\n",
    "pi = 3.14\n",
    "print 'The pi number is : ' + 3.14 # why error happened here"
   ]
  },
  {
   "cell_type": "markdown",
   "metadata": {},
   "source": [
    "### Common methods\n",
    "\n",
    "len(s) -- length of s\t\n",
    "\n",
    "min(s) -- smallest item of s\t\n",
    "\n",
    "max(s) -- largest item of s\t \n",
    "\n",
    "s.index(x) -- index of the first occurrence of x in s\t\n",
    "\n",
    "s.count(x) -- total number of occurrences of x in s\t\n",
    "\n",
    "s.lower(), s.upper() -- returns the lowercase or uppercase version of the string\n",
    "\n",
    "s.strip() -- returns a string with whitespace removed from the start and end\n",
    "\n",
    "s.isalpha()/s.isdigit()/s.isspace()... -- tests if all the string chars are in the various character classes\n",
    "\n",
    "s.startswith('other'), s.endswith('other') -- tests if the string starts or ends with the given other string\n",
    "\n",
    "s.find('other') -- searches for the given other string (not a regular expression) within s, and returns the first \n",
    "index where it begins or -1 if not found\n",
    "\n",
    "s.replace('old', 'new') -- returns a string where all occurrences of 'old' have been replaced by 'new'\n",
    "\n",
    "s.split('delim') -- returns a list of substrings separated by the given delimiter. The delimiter is not a regular expression, it's just text. 'aaa,bbb,ccc'.split(',') -> ['aaa', 'bbb', 'ccc']. As a convenient special case s.split() (with no arguments) splits on all whitespace chars.\n",
    "\n",
    "s.join(list) -- opposite of split(), joins the elements in the given list together using the string as the delimiter. e.g. '---'.join(['aaa', 'bbb', 'ccc']) -> aaa---bbb---ccc"
   ]
  },
  {
   "cell_type": "code",
   "execution_count": null,
   "metadata": {
    "collapsed": false
   },
   "outputs": [],
   "source": [
    "s = 'abcdefghijklMnoPqrstuvwxyz'\n",
    "\n",
    "print len(s)\n",
    "print s + str(len(s))\n",
    "\n",
    "print s.lower()\n",
    "print s.upper()\n",
    "print s.startswith('abcS')\n",
    "print s.replace('klM', '--KLM--')"
   ]
  },
  {
   "cell_type": "markdown",
   "metadata": {},
   "source": [
    "### Slices\n",
    "\n",
    "s[1:4] is 'ell' -- chars starting at index 1 and extending up to but not including index 4\n",
    "\n",
    "s[1:] is 'ello' -- omitting either index defaults to the start or end of the string\n",
    "\n",
    "s[:] is 'Hello' -- omitting both always gives us a copy of the whole thing (this is the pythonic way to copy a sequence like a string or list)\n",
    "\n",
    "s[1:100] is 'ello' -- an index that is too big is truncated down to the string length\n",
    "\n",
    "s[-1] is 'o' -- last char (1st from the end)\n",
    "\n",
    "s[-4] is 'e' -- 4th from the end\n",
    "\n",
    "s[:-3] is 'He' -- going up to but not including the last 3 chars.\n",
    "\n",
    "s[-3:] is 'llo' -- starting with the 3rd char from the end and extending to the end of the string.\n",
    "\n",
    " h  e  l  l  o\n",
    " 0  1  2  3  4\n",
    "-5 -4 -3 -2 -1"
   ]
  },
  {
   "cell_type": "code",
   "execution_count": null,
   "metadata": {
    "collapsed": false
   },
   "outputs": [],
   "source": [
    "s = 'hello'\n",
    "print s[1:4]\n",
    "print s[1:]\n",
    "print s[:]\n",
    "print s[1:400]\n",
    "print s[-1]\n",
    "print s[:-3]\n",
    "print s[-3:]"
   ]
  },
  {
   "cell_type": "markdown",
   "metadata": {},
   "source": [
    "### Format\n",
    "\n",
    "The % operator takes a printf-type format string on the left (%d int, %s string, %f/%g floating point), and the matching values in a tuple on the right (a tuple is made of values separated by commas, typically grouped inside parenthesis)"
   ]
  },
  {
   "cell_type": "code",
   "execution_count": null,
   "metadata": {
    "collapsed": false
   },
   "outputs": [],
   "source": [
    "print \"%d little pigs come out or I'll %s and %f and %s\" % (3, 'huff', 2.4000, 'blow down')"
   ]
  },
  {
   "cell_type": "markdown",
   "metadata": {},
   "source": [
    "### If statement\n",
    "\n",
    "Python does not use { } to enclose blocks of code for if/loops/function etc.. Instead, Python uses the colon (:) and indentation/whitespace to group statements. "
   ]
  },
  {
   "cell_type": "code",
   "execution_count": null,
   "metadata": {
    "collapsed": false
   },
   "outputs": [],
   "source": [
    "speed = 85\n",
    "mood = 'good'\n",
    "\n",
    "if speed >= 80:\n",
    "    print 'License and registration please'\n",
    "    if mood == 'terrible' or speed >= 100:\n",
    "        print 'You have the right to remain silent.'\n",
    "    elif mood == 'bad' or speed >= 90:\n",
    "        print \"I'm going to have to write you a ticket.\"\n",
    "    else:\n",
    "        print \"Let's try to keep it under 80 ok?\""
   ]
  },
  {
   "cell_type": "code",
   "execution_count": null,
   "metadata": {
    "collapsed": false
   },
   "outputs": [],
   "source": [
    "string = 'Hi there' # True example\n",
    "# string = 'Good bye' # False example\n",
    "if string.find('Hi') != -1:\n",
    "    print 'Success!'"
   ]
  },
  {
   "cell_type": "code",
   "execution_count": null,
   "metadata": {
    "collapsed": false
   },
   "outputs": [],
   "source": [
    "string = 'Hi there' # True example\n",
    "# string = 'Good bye' # False example\n",
    "if 'Hi' in string:\n",
    "    print 'Success!'"
   ]
  },
  {
   "cell_type": "markdown",
   "metadata": {},
   "source": [
    "### Action: Exercise No.1 & No.2"
   ]
  },
  {
   "cell_type": "markdown",
   "metadata": {},
   "source": [
    "## List\n",
    "\n",
    "Python has a great built-in list type named \"list\". List elements are written within square brackets [ ]. Square brackets [ ] access data, with the first element at index 0.  Many of the operations defined above for strings also apply to lists--- it can be convenient to think of a string simply as a list of characters."
   ]
  },
  {
   "cell_type": "code",
   "execution_count": null,
   "metadata": {
    "collapsed": true
   },
   "outputs": [],
   "source": [
    "numbers = 1\n",
    "a = numbers\n",
    "\n",
    "a + 1\n",
    "\n"
   ]
  },
  {
   "cell_type": "code",
   "execution_count": 86,
   "metadata": {
    "collapsed": false
   },
   "outputs": [
    {
     "name": "stdout",
     "output_type": "stream",
     "text": [
      "[1, 2, 3]\n",
      "[1, 2, 3, 0]\n"
     ]
    }
   ],
   "source": [
    "numbers = [1, 2, 3]\n",
    "\n",
    "b = numbers\n",
    "\n",
    "b = b + [0]\n",
    "\n",
    "numbers = b\n",
    "\n",
    "print numbers \n",
    "print b"
   ]
  },
  {
   "cell_type": "code",
   "execution_count": 80,
   "metadata": {
    "collapsed": false
   },
   "outputs": [
    {
     "name": "stdout",
     "output_type": "stream",
     "text": [
      "5\n",
      "5\n",
      "[5, 4, 3, 2, 1, 0]\n"
     ]
    }
   ],
   "source": [
    "numbers = [5, 4, 3, 2, 1]\n",
    "print len(numbers)\n",
    "print max(numbers)\n",
    "\n",
    "b = numbers\n",
    "\n",
    "# Assignment with an = on lists does not make a copy. \n",
    "# Instead, assignment makes the two variables \n",
    "# point to the one list in memory.\n",
    "b = numbers\n",
    "numbers = numbers.append(0)\n",
    "print b\n",
    "\n",
    "# Note: The above is true for all objects in Python, not only lists. (We'll talk more about objects later)\n",
    "\n",
    "# Empty list\n",
    "c = []"
   ]
  },
  {
   "cell_type": "markdown",
   "metadata": {},
   "source": [
    "### List Methods\n",
    "\n",
    "- list.append(elem) -- adds a single element to the end of the list. Common error: does not return the new list, just modifies the original.\n",
    "- list.insert(index, elem) -- inserts the element at the given index, shifting elements to the right.\n",
    "- list.extend(list2) adds the elements in list2 to the end of the list. Using + or += on a list is similar to using extend().\n",
    "- list.index(elem) -- searches for the given element from the start of the list and returns its index. Throws a ValueError if the element does not appear (use \"in\" to check without a ValueError).\n",
    "- list.remove(elem) -- searches for the first instance of the given element and removes it (throws ValueError if not present)\n",
    "- list.sort() -- sorts the list in place (does not return it).\n",
    "- sorted(list) -- return sorted list but keeps the original order of the list\n",
    "- list.reverse() -- reverses the list in place (does not return it)\n",
    "- list.pop(index) -- removes and returns the element at the given index. Returns the rightmost element if index is omitted (roughly the opposite of append())."
   ]
  },
  {
   "cell_type": "code",
   "execution_count": 93,
   "metadata": {
    "collapsed": false
   },
   "outputs": [
    {
     "name": "stdout",
     "output_type": "stream",
     "text": [
      "4\n",
      "A ['red', 'yellow', 'green', 'blue', 'purple', 'cyan']\n",
      "B\n",
      "['yellow', 'red', 'purple', 'green', 'cyan', 'blue']\n",
      "['cyan', 'purple', 'blue', 'green', 'yellow', 'red']\n"
     ]
    }
   ],
   "source": [
    "colors = ['red', 'green', 'blue']\n",
    "\n",
    "colors.append('purple')\n",
    "colors.extend(['cyan', 'white'])\n",
    "\n",
    "\n",
    "colors.insert(1, 'yellow')\n",
    "\n",
    "print colors.index('purple')\n",
    "\n",
    "colors.remove('white')\n",
    "#colors.sort()\n",
    "#colors.sort(reverse=True)\n",
    "\n",
    "print 'A', colors\n",
    "print 'B'\n",
    "colors.reverse()\n",
    "\n",
    "# in-place\n",
    "# colors.sort()\n",
    "\n",
    "#print colors\n",
    "\n",
    "# creates a new list\n",
    "print sorted(colors, reverse=True)\n",
    "print colors"
   ]
  },
  {
   "cell_type": "markdown",
   "metadata": {},
   "source": [
    "### List Slices\n",
    "\n",
    "Slices work on lists just as with strings, and can also be used to change sub-parts of the list."
   ]
  },
  {
   "cell_type": "code",
   "execution_count": 94,
   "metadata": {
    "collapsed": false
   },
   "outputs": [
    {
     "name": "stdout",
     "output_type": "stream",
     "text": [
      "['BMW', 'Honda']\n",
      "['BMW', 'Honda', 'Benz', 'Isuzu', 'Volkswagen']\n",
      "['Toyota', 'BMW', 'Honda']\n"
     ]
    }
   ],
   "source": [
    "cars = ['Toyota', 'BMW', 'Honda', 'Benz', 'Isuzu', 'Volkswagen', 'Mazda']\n",
    "\n",
    "print cars[1:3] # []'BMW', 'HONDA']\n",
    "print cars[1:-1]\n",
    "print cars[:3]\n",
    "\n",
    "\"hi\" in string\n",
    "\"purple\" in colors"
   ]
  },
  {
   "cell_type": "markdown",
   "metadata": {},
   "source": [
    "### For & In\n",
    "\n",
    "Python's *for* and *in* constructs are extremely useful, and the first use of them we'll see is with lists. The *for* construct -- for var in list -- is an easy way to look at each element in a list (or other collection)."
   ]
  },
  {
   "cell_type": "code",
   "execution_count": 104,
   "metadata": {
    "collapsed": false
   },
   "outputs": [
    {
     "name": "stdout",
     "output_type": "stream",
     "text": [
      "0 Red\n",
      "1 Green\n",
      "2 Blue\n"
     ]
    }
   ],
   "source": [
    "colors = ['red', 'green', 'blue']\n",
    "\n",
    "for index, color in enumerate(colors):\n",
    "    print index, color.title()"
   ]
  },
  {
   "cell_type": "code",
   "execution_count": 103,
   "metadata": {
    "collapsed": false
   },
   "outputs": [
    {
     "name": "stdout",
     "output_type": "stream",
     "text": [
      "55\n",
      "5\n"
     ]
    }
   ],
   "source": [
    "squares = [1, 4, 9, 16, 25]\n",
    "total = 0\n",
    "\n",
    "for i in squares:\n",
    "    total += i\n",
    "    \n",
    "print total\n",
    "print len(squares)"
   ]
  },
  {
   "cell_type": "code",
   "execution_count": 100,
   "metadata": {
    "collapsed": false
   },
   "outputs": [
    {
     "name": "stdout",
     "output_type": "stream",
     "text": [
      "found\n"
     ]
    }
   ],
   "source": [
    "if 9 in squares:\n",
    "    print 'found'\n",
    "else:\n",
    "    print 'not found'"
   ]
  },
  {
   "cell_type": "markdown",
   "metadata": {},
   "source": [
    "### Enumerate\n",
    "\n",
    "To find out the index of the item in the loop we can use list.index(elem), but there is another way to do this usjng enumerate().\n"
   ]
  },
  {
   "cell_type": "code",
   "execution_count": 105,
   "metadata": {
    "collapsed": false
   },
   "outputs": [
    {
     "name": "stdout",
     "output_type": "stream",
     "text": [
      "0 :  Happy\n",
      "1 :  Sad\n",
      "2 :  Angry\n"
     ]
    }
   ],
   "source": [
    "my_list = ['happy', 'sad', 'angry']\n",
    "\n",
    "for index, feeling in enumerate(my_list):\n",
    "    print index, ': ', feeling.title()"
   ]
  },
  {
   "cell_type": "markdown",
   "metadata": {},
   "source": [
    "### Range\n",
    "\n",
    "The range(n) function yields the numbers 0, 1, ... n-1, and range(a, b) returns a, a+1, ... b-1 -- up to but not including the last number. "
   ]
  },
  {
   "cell_type": "code",
   "execution_count": 107,
   "metadata": {
    "collapsed": false
   },
   "outputs": [
    {
     "name": "stdout",
     "output_type": "stream",
     "text": [
      "0\n",
      "1\n",
      "2\n",
      "3\n",
      "4\n"
     ]
    }
   ],
   "source": [
    "for i in range(5):\n",
    "    print i"
   ]
  },
  {
   "cell_type": "code",
   "execution_count": 106,
   "metadata": {
    "collapsed": false
   },
   "outputs": [
    {
     "name": "stdout",
     "output_type": "stream",
     "text": [
      "[0, 1, 2, 3, 4, 5, 6, 7, 8, 9]\n",
      "[1, 2, 3, 4]\n",
      "0\n",
      "1\n",
      "2\n",
      "3\n",
      "4\n",
      "1\n",
      "4\n",
      "9\n",
      "16\n",
      "25\n"
     ]
    }
   ],
   "source": [
    "a = range(10)\n",
    "print a\n",
    "\n",
    "b = range(1, 5)\n",
    "print b\n",
    "\n",
    "\n",
    "    \n"
   ]
  },
  {
   "cell_type": "code",
   "execution_count": 111,
   "metadata": {
    "collapsed": false
   },
   "outputs": [
    {
     "name": "stdout",
     "output_type": "stream",
     "text": [
      "0 1\n",
      "1 4\n",
      "2 9\n",
      "3 16\n",
      "4 25\n",
      "0 1\n",
      "1 4\n",
      "2 9\n",
      "3 16\n",
      "4 25\n"
     ]
    }
   ],
   "source": [
    "squares = [1, 4, 9, 16, 25]\n",
    "\n",
    "for i in range(len(squares)):\n",
    "    print i, squares[i]\n",
    "    \n",
    "for i, square in enumerate(squares):\n",
    "    print i, square\n"
   ]
  },
  {
   "cell_type": "markdown",
   "metadata": {},
   "source": [
    "### While Loop\n",
    "\n",
    "The while loop continues iterating until it's condition stops being true:"
   ]
  },
  {
   "cell_type": "code",
   "execution_count": 112,
   "metadata": {
    "collapsed": false
   },
   "outputs": [
    {
     "name": "stdout",
     "output_type": "stream",
     "text": [
      "0\n",
      "3\n",
      "6\n",
      "9\n"
     ]
    }
   ],
   "source": [
    "a = range(10)\n",
    "i = 0\n",
    "\n",
    "while i < len(a):\n",
    "    print a[i]\n",
    "    i = i + 3\n",
    "    \n",
    "# 0, 3, 6, 9"
   ]
  },
  {
   "cell_type": "code",
   "execution_count": 117,
   "metadata": {
    "collapsed": false
   },
   "outputs": [
    {
     "name": "stdout",
     "output_type": "stream",
     "text": [
      "[0, 4, 16, 36, 64]\n"
     ]
    },
    {
     "data": {
      "text/plain": [
       "[0, 1, 4, 9, 16, 25, 36, 49, 64, 81]"
      ]
     },
     "execution_count": 117,
     "metadata": {},
     "output_type": "execute_result"
    }
   ],
   "source": [
    "numbers = range(10)\n",
    "newlist = []\n",
    "\n",
    "for number in numbers:\n",
    "    if number % 2 == 0:\n",
    "        newlist.append(number * number)\n",
    "    \n",
    "print newlist\n"
   ]
  },
  {
   "cell_type": "markdown",
   "metadata": {},
   "source": [
    "### List Comprehensions\n",
    "\n",
    "A list comprehension is a compact expression to define a whole set.  The following comprehension says \"For each item in numbers, square it and add it to a new list squares.\"  While we could also do this using a for-loop, it's often more convenient to use a list comprehension."
   ]
  },
  {
   "cell_type": "code",
   "execution_count": null,
   "metadata": {
    "collapsed": false
   },
   "outputs": [],
   "source": [
    "# 1\n",
    "numbers = [1, 2, 3, 4, 5, 6, 7, 8]\n",
    "squares = []\n",
    "\n",
    "for n in numbers:\n",
    "    squares.append(n*n)\n",
    "    \n",
    "print squares"
   ]
  },
  {
   "cell_type": "code",
   "execution_count": null,
   "metadata": {
    "collapsed": false,
    "scrolled": true
   },
   "outputs": [],
   "source": [
    "# 2\n",
    "numbers = [1, 2, 3, 4, 5, 6, 7, 8]\n",
    "squares = [n*n for n in numbers]\n",
    "    \n",
    "print squares"
   ]
  },
  {
   "cell_type": "code",
   "execution_count": 119,
   "metadata": {
    "collapsed": false
   },
   "outputs": [
    {
     "name": "stdout",
     "output_type": "stream",
     "text": [
      "[1, 4, 9, 16, 25, 36, 49, 64]\n"
     ]
    }
   ],
   "source": [
    "# 3 silly way\n",
    "\n",
    "def square(x): return x * x\n",
    "\n",
    "numbers = [1, 2, 3, 4, 5, 6, 7, 8]\n",
    "\n",
    "print map(square, numbers)\n",
    "\n",
    "print [square(n) for n in numbers]\n",
    "\n"
   ]
  },
  {
   "cell_type": "code",
   "execution_count": 120,
   "metadata": {
    "collapsed": false
   },
   "outputs": [
    {
     "name": "stdout",
     "output_type": "stream",
     "text": [
      "[1, 4, 9, 16, 25]\n"
     ]
    }
   ],
   "source": [
    "numbers = [1, 2, 3, 4, 5, 6, 7, 8]\n",
    "\n",
    "squaresUnderFive = [n*n for n in numbers if n <= 5]\n",
    "\n",
    "print squaresUnderFive"
   ]
  },
  {
   "cell_type": "code",
   "execution_count": 121,
   "metadata": {
    "collapsed": false
   },
   "outputs": [
    {
     "name": "stdout",
     "output_type": "stream",
     "text": [
      "[32, 50]\n"
     ]
    }
   ],
   "source": [
    "print [s*2 for s in squaresUnderFive if s > 10]"
   ]
  },
  {
   "cell_type": "code",
   "execution_count": 122,
   "metadata": {
    "collapsed": false
   },
   "outputs": [
    {
     "name": "stdout",
     "output_type": "stream",
     "text": [
      "['BANANA!!!', 'APPLE!!!', 'MANGO!!!']\n"
     ]
    }
   ],
   "source": [
    "fruits = ['banana', 'apple', 'cherry', 'lime', 'mango']\n",
    "\n",
    "my_list = [s.upper() + '!!!' for s in fruits if 'a' in s]\n",
    "print my_list\n",
    "\n",
    "s1 = \"hello\"\n",
    "s1."
   ]
  },
  {
   "cell_type": "markdown",
   "metadata": {},
   "source": [
    "### Action: Exercise No.3 & No.4\n",
    "\n",
    "\n",
    "## Tuples\n",
    "\n",
    "A tuple is a fixed size grouping of elements, such as an (x, y) co-ordinate. Tuples are like lists, except they are immutable and do not change size (tuples are not strictly immutable since one of the contained elements could be mutable). Tuples are a convenient way to pass around a little logical, fixed size bundle of values. A function that needs to return multiple values can just return a tuple of the values."
   ]
  },
  {
   "cell_type": "code",
   "execution_count": null,
   "metadata": {
    "collapsed": false
   },
   "outputs": [],
   "source": [
    "tup = (1, 2, 'hi')\n",
    "print len(tup)\n",
    "print tup[2]\n",
    "\n",
    "#tuple[2] = 'bye' # tuple element cannot be changed\n",
    "tup = (1, 2, 'bye')\n",
    "\n",
    "x, y, z = (42, 13, \"hike\")\n",
    "\n",
    "print z"
   ]
  },
  {
   "cell_type": "markdown",
   "metadata": {},
   "source": [
    "### Dictionary\n",
    "\n",
    "Python's efficient key/value hash table structure is called a \"dict\". The contents of a dict can be written as a series of key:value pairs within braces { }, e.g. dict = {key1:value1, key2:value2, ... }. The \"empty dict\" is just an empty pair of curly braces {}. Looking up or setting a value in a dict uses square brackets, e.g. dict['foo'] looks up the value under the key 'foo'. Strings, numbers, and tuples work as keys, and any type can be a value. Other types may or may not work correctly as keys."
   ]
  },
  {
   "cell_type": "code",
   "execution_count": null,
   "metadata": {
    "collapsed": false
   },
   "outputs": [],
   "source": [
    "myDict = {}\n",
    "\n",
    "myDict['a'] = 'gold'\n",
    "myDict['b'] = 'silver'\n",
    "myDict['c'] = 'bronze'\n",
    "myDict['d'] = 'platinum'\n",
    "\n",
    "print myDict\n",
    "print myDict['a']\n",
    "'a' in myDict\n",
    "\n",
    "print '\\nitems:', myDict.items(), '\\n' # return list of tuples\n",
    "\n",
    "for key in myDict: # Note that the keys are in a random order.\n",
    "    print key\n",
    "    \n",
    "print '\\nkey, value:'\n",
    "\n",
    "for i in myDict.keys():\n",
    "    print i, ':', myDict[i]\n",
    "\n",
    "print '\\nkey, vlaue using items()'\n",
    "\n",
    "for k, v in myDict.items():\n",
    "    print k, ':', v\n",
    "    \n",
    "print\n",
    "\n",
    "for v in myDict.values():\n",
    "    print v\n",
    "    \n",
    "print \n",
    "\n",
    "for v in sorted(myDict.values()):\n",
    "    print v\n",
    "    \n",
    "print\n",
    "\n",
    "for key in sorted(myDict.keys()):\n",
    "    print key, ':', myDict[key]"
   ]
  },
  {
   "cell_type": "markdown",
   "metadata": {},
   "source": [
    "### Dictionary Methods\n",
    "\n",
    "- cmp(dict1, dict2) -- Compares elements of both dict.\n",
    "- len(dict) -- Gives the total length of the dictionary. This would be equal to the number of items in the dictionary.\n",
    "- str(dict) -- Produces a printable string representation of a dictionary\n",
    "- type(variable) -- Returns the type of the passed variable. If passed variable is dictionary, then it would return a dictionary type.\n",
    "- dict.clear() -- Removes all elements of dictionary dict\n",
    "- dict.copy() -- Returns a shallow copy of dictionary dict\n",
    "- dict.fromkeys() -- Create a new dictionary with keys from seq and values set to value.\n",
    "- dict.get(key, default=None) -- For key key, returns value or default if key not in dictionary\n",
    "- dict.has_key(key) -- Returns true if key in dictionary dict, false otherwise\n",
    "- dict.items() -- Returns a list of dict's (key, value) tuple pairs\n",
    "- dict.keys() -- Returns list of dictionary dict's keys\n",
    "- dict.setdefault(key, default=None) -- Similar to get(), but will set dict[key]=default if key is not already in dict\n",
    "- dict.update(dict2) -- Adds dictionary dict2's key-values pairs to dict\n",
    "- dict.values() -- Returns list of dictionary dict's values"
   ]
  },
  {
   "cell_type": "code",
   "execution_count": null,
   "metadata": {
    "collapsed": false
   },
   "outputs": [],
   "source": [
    "emails = {'bob': 'bob@example.com', 'Jane': 'jane@example.com', 'Stou': 'stou@example.net'}\n",
    "\n",
    "email_at_dotcom = dict([name, '.com' in email] for name, email in emails.iteritems())\n",
    "print email_at_dotcom, '\\n'\n",
    "\n",
    "print len(emails)\n",
    "print str(emails)\n",
    "print type(emails)\n",
    "\n",
    "new_emails = emails.copy()\n",
    "print new_emails\n",
    "\n",
    "new_emails.clear()\n",
    "print new_emails\n",
    "\n",
    "new_emails = {'jane': 'jane@example.com', 'Julie': 'julie@example.com', 'Stam': 'stam@example.net'}\n",
    "seq = ('Jane', 'Julie')\n",
    "new_dict = new_emails.fromkeys(seq, 'info@example.com')\n",
    "print new_dict\n",
    "\n",
    "emails.has_key('bob')\n",
    "\n",
    "emails.get('bob')\n",
    "emails.get('Micheal')"
   ]
  },
  {
   "cell_type": "markdown",
   "metadata": {},
   "source": [
    "### Del\n",
    "\n",
    "The \"del\" operator does deletions. In the simplest case, it can remove the definition of a variable, as if that variable had not been defined. Del can also be used on list elements or slices to delete that part of the list and to delete entries from a dictionary."
   ]
  },
  {
   "cell_type": "code",
   "execution_count": null,
   "metadata": {
    "collapsed": false
   },
   "outputs": [],
   "source": [
    "var = 6\n",
    "del var  # var no more!\n",
    "\n",
    "my_list = ['a', 'b', 'c', 'd']\n",
    "del my_list[0]     ## Delete first element\n",
    "del my_list[-2:]   ## Delete last two elements\n",
    "print list      ## ['b']\n",
    "\n",
    "my_dict = {'a':1, 'b':2, 'c':3}\n",
    "del my_dict['b']   ## Delete 'b' entry\n",
    "print my_dict      ## {'a':1, 'c':3}"
   ]
  },
  {
   "cell_type": "markdown",
   "metadata": {},
   "source": [
    "## Functions\n",
    "\n",
    "A function is a block of organized, reusable code that is used to perform a single, related action.  For example, we can use the same procedure to multiply two numbers, whatever they are.  We then specify the numbers being multiplied as arguements of the function. Many functions return a value which you can then use; they can also print something out immediately\n",
    "\n",
    "#### Syntax:"
   ]
  },
  {
   "cell_type": "code",
   "execution_count": null,
   "metadata": {
    "collapsed": true
   },
   "outputs": [],
   "source": [
    "def functionname( parameters ):\n",
    "    \"function_docstring\"\n",
    "    function_suite\n",
    "    return [expression]"
   ]
  },
  {
   "cell_type": "code",
   "execution_count": null,
   "metadata": {
    "collapsed": false
   },
   "outputs": [],
   "source": [
    "# void: does not return\n",
    "def myPrinter(text):\n",
    "    print text\n",
    "    \n",
    "myPrinter('Hi there!')\n",
    "\n",
    "# has return\n",
    "def multiplyer(i, j):\n",
    "    return i*j\n",
    "\n",
    "print multiplyer(4, 3)\n",
    "print multiplyer(4, 3)+1\n",
    "\n",
    "#multiplyer() # raise error\n"
   ]
  },
  {
   "cell_type": "code",
   "execution_count": null,
   "metadata": {
    "collapsed": false
   },
   "outputs": [],
   "source": [
    "def print_info( name, age = 35 ):\n",
    "    \"This prints a passed info into this function\"\n",
    "    print \"Name: \", name\n",
    "    print \"Age \", age\n",
    "\n",
    "\n",
    "print_info('he', 22)\n",
    "print_info('she')"
   ]
  },
  {
   "cell_type": "markdown",
   "metadata": {},
   "source": [
    "### Anonymous Functions\n",
    "\n",
    "These functions are called anonymous because they are not declared in the standard manner by using the def keyword. You can use the lambda keyword to create small anonymous functions.\n",
    "\n",
    "- Lambda forms can take any number of arguments but return just one value in the form of an expression. They cannot contain commands or multiple expressions.\n",
    "\n",
    "- An anonymous function cannot be a direct call to print because lambda requires an expression\n",
    "\n",
    "- Lambda functions have their own local namespace and cannot access variables other than those in their parameter list and those in the global namespace.\n",
    "\n",
    "- Although it appears that lambda's are a one-line version of a function, they are not equivalent to inline statements in C or C++, whose purpose is by passing function stack allocation during invocation for performance reasons.\n",
    "\n",
    "#### Syntax:"
   ]
  },
  {
   "cell_type": "code",
   "execution_count": null,
   "metadata": {
    "collapsed": true
   },
   "outputs": [],
   "source": [
    "lambda [arg1 [,arg2,.....argn]]:expression"
   ]
  },
  {
   "cell_type": "code",
   "execution_count": null,
   "metadata": {
    "collapsed": false
   },
   "outputs": [],
   "source": [
    "total = lambda arg1, arg2: arg1 + arg2\n",
    "\n",
    "print total(3,5)"
   ]
  },
  {
   "cell_type": "markdown",
   "metadata": {},
   "source": [
    "## Files\n",
    "\n",
    "We will often want to read and write data to files. The standard Python API provides several methods which are convenient for dealing with ordinary text files. Read more in the [docs](https://docs.python.org/2/tutorial/inputoutput.html).\n",
    "\n",
    "### Writing files\n",
    "Before writing to a file, the file must be opened. This can be done with the `open()` built-in function. The following opens a file called `example_file.txt`. The parameter `'w'` indicates that the file is opened for writing. (Note: If the file already exists, it will be overwritten!)"
   ]
  },
  {
   "cell_type": "code",
   "execution_count": null,
   "metadata": {
    "collapsed": true
   },
   "outputs": [],
   "source": [
    "my_file = open('example_file.txt','w')"
   ]
  },
  {
   "cell_type": "markdown",
   "metadata": {},
   "source": [
    "The variable `MyFile` is now an object of type _file_."
   ]
  },
  {
   "cell_type": "code",
   "execution_count": null,
   "metadata": {
    "collapsed": false
   },
   "outputs": [],
   "source": [
    "print type(my_file)"
   ]
  },
  {
   "cell_type": "markdown",
   "metadata": {},
   "source": [
    "We can write to a file by passing strings to the file's `write()` method."
   ]
  },
  {
   "cell_type": "code",
   "execution_count": null,
   "metadata": {
    "collapsed": true
   },
   "outputs": [],
   "source": [
    "# We can pass a string directly\n",
    "my_file.write(\"Here is some example text\\n\")\n",
    "\n",
    "# More often, we want to write data from our Python program to file.\n",
    "n = 5\n",
    "example_string = \"The value of n is %d.\\n\"%n\n",
    "my_file.write(example_string)\n",
    "\n",
    "# Here, we write to a file from within a loop\n",
    "my_file.write(\"\\nAnd now, the lyrics to 99 bottles of beer:\\n\")\n",
    "for nbottles in range(99, 0, -1):\n",
    "    line = \"%d bottles of beer on the wall. %d bottles of beer. You take one down, pass it around, %d bottles of beer on the wall!\\n\"%(nbottles,nbottles,nbottles-1)\n",
    "    my_file.write(line)\n",
    "    \n",
    "# Important! You must call close() to before opening the file in another program.\n",
    "my_file.close()"
   ]
  },
  {
   "cell_type": "markdown",
   "metadata": {},
   "source": [
    "Using your OS's file manager (Explorer for Windows, Finder for OSX), locate the file and open it in a text editor. You can also open it in an IPython notebook using your web browser. Verify that the contents make sense by comparing them to the code above.\n",
    "\n",
    "### Reading files\n",
    "Let's read the file in Python. Again, we will use the `open()` function, this time with the `'r'` parameter to indicate that we are reading."
   ]
  },
  {
   "cell_type": "code",
   "execution_count": null,
   "metadata": {
    "collapsed": false
   },
   "outputs": [],
   "source": [
    "# Again the open() function gives us a variable of type 'file'\n",
    "input_file = open('example_file.txt','r')\n",
    "\n",
    "# The read() function puts the contents of the file into a string object\n",
    "file_contents = input_file.read()\n",
    "\n",
    "# Close the file when you're done with it!\n",
    "input_file.close()\n",
    "\n",
    "# Let's see what we got\n",
    "print file_contents"
   ]
  },
  {
   "cell_type": "markdown",
   "metadata": {},
   "source": [
    "### Parsing\n",
    "It will often be necessary to \"parse\" the contents of a file. This means we will extract information from the string into Python variables that we can operate on. When the file was not designed to be parsed conveniently, this can get messy!\n",
    "\n",
    "As an example, let's find all of the lines where the number of bottles of beer is a multiple of 7. Instead of reading the entire file all-at-once, in this example we'll read it line-by-line. This is done using the `readline()` function. Each time `readline()` is called, the next line from the file is returned.\n",
    "\n",
    "We can also iterate over the lines from our current position to the end of file using the `readlines()` method."
   ]
  },
  {
   "cell_type": "code",
   "execution_count": null,
   "metadata": {
    "collapsed": false
   },
   "outputs": [],
   "source": [
    "input_file = open('example_file.txt','r')\n",
    "\n",
    "# Throw away the first 4 lines\n",
    "# Notice that we are reading the first 4 lines but we are not doing anything with them\n",
    "# Using the _ name is a Python convention for a variable name that we are not going to use\n",
    "for j in range(4):\n",
    "    _ = input_file.readline()\n",
    "    \n",
    "# Iterate over remaining lines\n",
    "for line in input_file.readlines():\n",
    "    \n",
    "    # Action: think about this line. How does it work?\n",
    "    nbottles = int(line.split()[0])\n",
    "    \n",
    "    # Check if nbottles is a multiple of 7\n",
    "    if nbottles % 7 == 0:\n",
    "        print nbottles\n",
    "        \n",
    "input_file.close()"
   ]
  },
  {
   "cell_type": "markdown",
   "metadata": {},
   "source": [
    "It's very important to call `close()` when you're done working with a file. An alternative way is using the `with...as` construction. This is identical to the previous example, and it is safer because it does not require you to remember to close the file. "
   ]
  },
  {
   "cell_type": "code",
   "execution_count": null,
   "metadata": {
    "collapsed": false
   },
   "outputs": [],
   "source": [
    "with open('example_file.txt','r') as input_file:\n",
    "    # we indend code inside the with block\n",
    "    print \"File closed? \", input_file.closed\n",
    "\n",
    "    # Throw away the first 4 lines\n",
    "    # Notice that we are reading the first 4 lines but we are not doing anything with them\n",
    "    # Using the _ name is a Python convention for a variable name that we are not going to use\n",
    "    for j in range(4):\n",
    "        _ = input_file.readline()\n",
    "    \n",
    "    # Iterate over remaining lines\n",
    "    for line in input_file.readlines():\n",
    "        nbottles = int(line.split()[0])\n",
    "    \n",
    "        # Check if nbottles is a multiple of 7\n",
    "        if nbottles % 7 == 0:\n",
    "            print nbottles\n",
    "\n",
    "# input_file is closed automatically once the with block ends\n",
    "# input_file will be closed even if there's an error inside the with block\n",
    "# Using \"with ... as\" makes are programs more robust\n",
    "\n",
    "# confirm that the file is indeed closed\n",
    "print \"File closed? \", input_file.closed"
   ]
  },
  {
   "cell_type": "markdown",
   "metadata": {},
   "source": [
    "### Run python from terminal "
   ]
  },
  {
   "cell_type": "code",
   "execution_count": null,
   "metadata": {
    "collapsed": false
   },
   "outputs": [],
   "source": [
    "import sys # import modules used here -- sys is a very standard one\n",
    "\n",
    "def main():\n",
    "    print 'hello world ', sys.argv[1]\n",
    "    # Command line args are in sys.argv[1], sys.argv[2] ...\n",
    "    # sys.argv[0] is the script name itself and can be ignored\n",
    "    \n",
    "# Standard boilerplate to call the main() function to begin\n",
    "# the program.    \n",
    "if __name__ == '__main__':\n",
    "    main()"
   ]
  },
  {
   "cell_type": "markdown",
   "metadata": {},
   "source": [
    "### Variable Scope: global, local\n",
    "\n",
    "Variables that are defined inside a function body have a local scope, and those defined outside have a global scope."
   ]
  },
  {
   "cell_type": "code",
   "execution_count": null,
   "metadata": {
    "collapsed": false
   },
   "outputs": [],
   "source": [
    "total = 0; # This is a global variable.\n",
    "def f( arg1, arg2 ):\n",
    "    total = arg1 + arg2; # Here total is a local variable.\n",
    "    print \"Inside the function local total : \", total\n",
    "    return total;\n",
    "\n",
    "f( 10, 20 );\n",
    "print \"Outside the function global total : \", total "
   ]
  },
  {
   "cell_type": "markdown",
   "metadata": {},
   "source": [
    "## Classes\n",
    "\n",
    "Imagine we wanted to use Python to model a large system--- a city, a company, a group of students.  We could store information about each student: their name, their age, their background, etc.  But we don't want all this information floating around; it would be convenient to store all the information about a single student in one place.\n",
    "\n",
    "Python allows use to define a structure that holds all this information, called a class.  Each student will be a considered a single object that belongs to this class.  We can also define functions on these classes to work with this information.  The __init__ method runs each time we create a new object."
   ]
  },
  {
   "cell_type": "code",
   "execution_count": 16,
   "metadata": {
    "collapsed": false
   },
   "outputs": [
    {
     "name": "stdout",
     "output_type": "stream",
     "text": [
      "Jake\n",
      "24\n",
      "25\n",
      "Math\n"
     ]
    }
   ],
   "source": [
    "class Student():\n",
    "    def __init__(self, n, a, m):\n",
    "        self.name = n\n",
    "        self.age = a\n",
    "        self.major = m\n",
    "\n",
    "    def WhatsYourName(self):\n",
    "        return self.name\n",
    "\n",
    "    def ItsYourBirthday(self):\n",
    "        self.age += 1\n",
    "        return self.age\n",
    "\n",
    "    def YourComputerBroke(self, new_major):\n",
    "        if self.major == 'Computer Science':\n",
    "            self.major = new_major\n",
    "            return new_major\n",
    "\n",
    "S1 = Student('Jake', 28, 'English')\n",
    "S2 = Student('Amy', 24, 'Computer Science')\n",
    "\n",
    "print S1.WhatsYourName()\n",
    "\n",
    "print S2.age\n",
    "print S2.ItsYourBirthday()\n",
    "\n",
    "print S2.YourComputerBroke('Math')"
   ]
  },
  {
   "cell_type": "code",
   "execution_count": null,
   "metadata": {
    "collapsed": true
   },
   "outputs": [],
   "source": []
  }
 ],
 "metadata": {
  "kernelspec": {
   "display_name": "Python 2",
   "language": "python",
   "name": "python2"
  },
  "language_info": {
   "codemirror_mode": {
    "name": "ipython",
    "version": 2
   },
   "file_extension": ".py",
   "mimetype": "text/x-python",
   "name": "python",
   "nbconvert_exporter": "python",
   "pygments_lexer": "ipython2",
   "version": "2.7.10"
  }
 },
 "nbformat": 4,
 "nbformat_minor": 0
}
