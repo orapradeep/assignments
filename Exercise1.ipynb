{
 "cells": [
  {
   "cell_type": "markdown",
   "metadata": {},
   "source": [
    "RUN ME\n",
    "==\n",
    "\n",
    "Please run the below code snippet. It is required for running tests for your solution."
   ]
  },
  {
   "cell_type": "code",
   "execution_count": 3,
   "metadata": {
    "collapsed": true
   },
   "outputs": [],
   "source": [
    "def test(got, expected):\n",
    "    if got == expected:\n",
    "        prefix = ' OK '\n",
    "    else:\n",
    "        prefix = '  FAIL '\n",
    "    print '%s got: %s expected: %s' % (prefix, repr(got), repr(expected))"
   ]
  },
  {
   "cell_type": "markdown",
   "metadata": {},
   "source": [
    "Question 1\n",
    "=="
   ]
  },
  {
   "cell_type": "code",
   "execution_count": 16,
   "metadata": {
    "collapsed": false
   },
   "outputs": [],
   "source": [
    "# A. donuts\n",
    "# Given an int count of a number of donuts, return a string\n",
    "# of the form 'Number of donuts: <count>', where <count> is the number\n",
    "# passed in. However, if the count is 10 or more, then use the word 'many'\n",
    "# instead of the actual count.\n",
    "# So donuts(5) returns 'Number of donuts: 5'\n",
    "# and donuts(23) returns 'Number of donuts: many'\n",
    "def donuts(count):\n",
    "    \n",
    "    count = 15\n",
    "    \n",
    "    if count <10:\n",
    "        print donuts(count)\n",
    "    else:\n",
    "        print \"Many\"\n",
    "    \n",
    "    # +++your code here+++\n",
    "    return\n",
    "    \n",
    "    \n",
    "\n",
    "#print 'donuts'\n",
    "# Each line calls donuts, compares its result to the expected for that call.\n",
    "#test(donuts(4), 'Number of donuts: 4')\n",
    "#test(donuts(9), 'Number of donuts: 9')\n",
    "#test(donuts(10), 'Number of donuts: many')\n",
    "#test(donuts(99), 'Number of donuts: many')"
   ]
  },
  {
   "cell_type": "markdown",
   "metadata": {},
   "source": [
    "Question 2\n",
    "=="
   ]
  },
  {
   "cell_type": "code",
   "execution_count": 27,
   "metadata": {
    "collapsed": false
   },
   "outputs": [],
   "source": [
    "# B. both_ends\n",
    "# Given a string s, return a string made of the first 2\n",
    "# and the last 2 chars of the original string,\n",
    "# so 'spring' yields 'spng'. However, if the string length\n",
    "# is less than 2, return instead the empty string.\n",
    "def both_ends(s):\n",
    "    s = \"spring\"\n",
    "    if len(s)<2:\n",
    "        return s()\n",
    "    else: \n",
    "        return s[1:3]\n",
    "    # +++your code here+++\n",
    "    \n",
    "    print 'both_ends'\n",
    "   \n",
    "    \n",
    "#print\n",
    "#print 'both_ends'\n",
    "#test(both_ends('spring'), 'spng')\n",
    "#test(both_ends('Hello'), 'Helo')\n",
    "#test(both_ends('a'), '')\n",
    "#test(both_ends('xyz'), 'xyyz')"
   ]
  },
  {
   "cell_type": "markdown",
   "metadata": {},
   "source": [
    "Question 3\n",
    "=="
   ]
  },
  {
   "cell_type": "code",
   "execution_count": 5,
   "metadata": {
    "collapsed": false
   },
   "outputs": [
    {
     "name": "stdout",
     "output_type": "stream",
     "text": [
      "\n",
      "fix_start\n",
      "  FAIL  got: None expected: 'ba**le'\n",
      "  FAIL  got: None expected: 'a*rdv*rk'\n",
      "  FAIL  got: None expected: 'goo*le'\n",
      "  FAIL  got: None expected: 'donut'\n"
     ]
    }
   ],
   "source": [
    "# C. fix_start\n",
    "# Given a string s, return a string\n",
    "# where all occurences of its first char have\n",
    "# been changed to '*', except do not change\n",
    "# the first char itself.\n",
    "# e.g. 'babble' yields 'ba**le'\n",
    "# Assume that the string is length 1 or more.\n",
    "# Hint: s.replace(stra, strb) returns a version of string s\n",
    "# where all instances of stra have been replaced by strb.\n",
    "def fix_start(s):\n",
    "    # +++your code here+++\n",
    "    return\n",
    "\n",
    "\n",
    "print\n",
    "print 'fix_start'\n",
    "test(fix_start('babble'), 'ba**le')\n",
    "test(fix_start('aardvark'), 'a*rdv*rk')\n",
    "test(fix_start('google'), 'goo*le')\n",
    "test(fix_start('donut'), 'donut')"
   ]
  },
  {
   "cell_type": "markdown",
   "metadata": {},
   "source": [
    "Question 4\n",
    "=="
   ]
  },
  {
   "cell_type": "code",
   "execution_count": 6,
   "metadata": {
    "collapsed": false
   },
   "outputs": [
    {
     "name": "stdout",
     "output_type": "stream",
     "text": [
      "\n",
      "mix_up\n",
      "  FAIL  got: None expected: 'pox mid'\n",
      "  FAIL  got: None expected: 'dig donner'\n",
      "  FAIL  got: None expected: 'spash gnort'\n",
      "  FAIL  got: None expected: 'fizzy perm'\n"
     ]
    }
   ],
   "source": [
    "# D. MixUp\n",
    "# Given strings a and b, return a single string with a and b separated\n",
    "# by a space '<a> <b>', except swap the first 2 chars of each string.\n",
    "# e.g.\n",
    "#   'mix', pod' -> 'pox mid'\n",
    "#   'dog', 'dinner' -> 'dig donner'\n",
    "# Assume a and b are length 2 or more.\n",
    "def mix_up(a, b):\n",
    "    # +++your code here+++\n",
    "    return\n",
    "\n",
    "\n",
    "\n",
    "print\n",
    "print 'mix_up'\n",
    "test(mix_up('mix', 'pod'), 'pox mid')\n",
    "test(mix_up('dog', 'dinner'), 'dig donner')\n",
    "test(mix_up('gnash', 'sport'), 'spash gnort')\n",
    "test(mix_up('pezzy', 'firm'), 'fizzy perm')"
   ]
  },
  {
   "cell_type": "code",
   "execution_count": null,
   "metadata": {
    "collapsed": true
   },
   "outputs": [],
   "source": []
  }
 ],
 "metadata": {
  "kernelspec": {
   "display_name": "Python 2",
   "language": "python",
   "name": "python2"
  },
  "language_info": {
   "codemirror_mode": {
    "name": "ipython",
    "version": 2
   },
   "file_extension": ".py",
   "mimetype": "text/x-python",
   "name": "python",
   "nbconvert_exporter": "python",
   "pygments_lexer": "ipython2",
   "version": "2.7.10"
  }
 },
 "nbformat": 4,
 "nbformat_minor": 0
}
