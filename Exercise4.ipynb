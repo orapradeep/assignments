{
 "cells": [
  {
   "cell_type": "markdown",
   "metadata": {},
   "source": [
    "RUN ME\n",
    "==\n",
    "\n",
    "Please run the below code snippet. It is required for running tests for your solution."
   ]
  },
  {
   "cell_type": "code",
   "execution_count": 1,
   "metadata": {
    "collapsed": true
   },
   "outputs": [],
   "source": [
    "def test(got, expected):\n",
    "    if got == expected:\n",
    "        prefix = ' OK '\n",
    "    else:\n",
    "        prefix = '  X '\n",
    "    print '%s got: %s expected: %s' % (prefix, repr(got), repr(expected))"
   ]
  },
  {
   "cell_type": "markdown",
   "metadata": {},
   "source": [
    "Question 1\n",
    "=="
   ]
  },
  {
   "cell_type": "code",
   "execution_count": 2,
   "metadata": {
    "collapsed": false
   },
   "outputs": [
    {
     "name": "stdout",
     "output_type": "stream",
     "text": [
      "remove_adjacent\n",
      "  X  got: None expected: [1, 2, 3]\n",
      "  X  got: None expected: [2, 3]\n",
      "  X  got: None expected: []\n"
     ]
    }
   ],
   "source": [
    "# D. Given a list of numbers, return a list where\n",
    "# all adjacent == elements have been reduced to a single element,\n",
    "# so [1, 2, 2, 3] returns [1, 2, 3]. You may create a new list or\n",
    "# modify the passed in list.\n",
    "def remove_adjacent(nums):\n",
    "    # +++your code here+++\n",
    "    return\n",
    "\n",
    "\n",
    "\n",
    "print 'remove_adjacent'\n",
    "test(remove_adjacent([1, 2, 2, 3]), [1, 2, 3])\n",
    "test(remove_adjacent([2, 2, 3, 3, 3]), [2, 3])\n",
    "test(remove_adjacent([]), [])"
   ]
  },
  {
   "cell_type": "markdown",
   "metadata": {},
   "source": [
    "Question 2\n",
    "=="
   ]
  },
  {
   "cell_type": "code",
   "execution_count": 3,
   "metadata": {
    "collapsed": false
   },
   "outputs": [
    {
     "name": "stdout",
     "output_type": "stream",
     "text": [
      "\n",
      "linear_merge\n",
      "  X  got: None expected: ['aa', 'bb', 'cc', 'xx', 'zz']\n",
      "  X  got: None expected: ['aa', 'bb', 'cc', 'xx', 'zz']\n",
      "  X  got: None expected: ['aa', 'aa', 'aa', 'bb', 'bb']\n"
     ]
    }
   ],
   "source": [
    "# E. Given two lists sorted in increasing order, create and return a merged\n",
    "# list of all the elements in sorted order. You may modify the passed in lists.\n",
    "# Ideally, the solution should work in \"linear\" time, making a single\n",
    "# pass of both lists.\n",
    "def linear_merge(list1, list2):\n",
    "    # +++your code here+++\n",
    "    return\n",
    "\n",
    "\n",
    "print\n",
    "print 'linear_merge'\n",
    "test(linear_merge(['aa', 'xx', 'zz'], ['bb', 'cc']),\n",
    "   ['aa', 'bb', 'cc', 'xx', 'zz'])\n",
    "test(linear_merge(['aa', 'xx'], ['bb', 'cc', 'zz']),\n",
    "   ['aa', 'bb', 'cc', 'xx', 'zz'])\n",
    "test(linear_merge(['aa', 'aa'], ['aa', 'bb', 'bb']),\n",
    "   ['aa', 'aa', 'aa', 'bb', 'bb'])"
   ]
  },
  {
   "cell_type": "code",
   "execution_count": null,
   "metadata": {
    "collapsed": true
   },
   "outputs": [],
   "source": []
  }
 ],
 "metadata": {
  "kernelspec": {
   "display_name": "Python 2",
   "language": "python",
   "name": "python2"
  },
  "language_info": {
   "codemirror_mode": {
    "name": "ipython",
    "version": 2
   },
   "file_extension": ".py",
   "mimetype": "text/x-python",
   "name": "python",
   "nbconvert_exporter": "python",
   "pygments_lexer": "ipython2",
   "version": "2.7.10"
  }
 },
 "nbformat": 4,
 "nbformat_minor": 0
}
