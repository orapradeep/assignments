{
 "cells": [
  {
   "cell_type": "markdown",
   "metadata": {},
   "source": [
    "# IPython Notebook\n",
    "\n",
    "IPython notebook is extending the cosole-based approach to interactive computing by providing a web-based application.\n",
    "\n",
    "you can find out more about IPython Notebook here: https://ipython.org/ipython-doc/3/notebook/notebook.html#introduction\n",
    "\n",
    "### Installation: \n",
    "\n",
    "https://ipython.org/ipython-doc/3/install/install.html#installnotebook\n",
    "https://github.com/ipython/ipython-in-depth\n",
    "\n",
    "\n",
    "### Starting Notebook Server\n",
    "\n",
    "ipython notebook\n",
    "\n",
    "by default, http://127.0.0.1:8888\n",
    "\n",
    "### Opening Notebooks \n",
    "\n",
    "An open notebook has exactly one interactive session connected to an IPython kernel, which will execute code sent by the user and communicate back results. This kernel remains active if the web browser window is closed, and reopening the same notebook from the dashboard will reconnect the web application to the same kernel. In the dashboard, notebooks with an active kernel have a Shutdown button next to it.\n",
    "\n",
    "### Notebook Structure\n",
    "\n",
    "Notebook name: placed at top of the notebook document, beside the logo. By clicking on the name you can change and update the document name. Each notebook consist of sequence of cells. A cell is multi-line text input field.\n",
    "\n",
    "##### Shortcuts:\n",
    "\n",
    "Shift + Enter -> execute the cell (or press play button)\n",
    "\n",
    "Ctrl + Enter -> execute cell in place\n",
    "\n",
    "Alt + Enter -> execute cell and insert below\n",
    "\n",
    "Esc + Enter -> edit mode"
   ]
  },
  {
   "cell_type": "code",
   "execution_count": 1,
   "metadata": {
    "collapsed": false,
    "scrolled": true
   },
   "outputs": [
    {
     "name": "stdout",
     "output_type": "stream",
     "text": [
      "Populating the interactive namespace from numpy and matplotlib\n"
     ]
    }
   ],
   "source": [
    "%pylab inline"
   ]
  },
  {
   "cell_type": "code",
   "execution_count": 50,
   "metadata": {
    "collapsed": false
   },
   "outputs": [
    {
     "data": {
      "text/plain": [
       "[<matplotlib.lines.Line2D at 0x1055c71d0>]"
      ]
     },
     "execution_count": 50,
     "metadata": {},
     "output_type": "execute_result"
    },
    {
     "data": {
      "image/png": "[encoded data removed]",
      "text/plain": [
       "<matplotlib.figure.Figure at 0x105531c90>"
      ]
     },
     "metadata": {},
     "output_type": "display_data"
    }
   ],
   "source": [
    "x = linspace(0, 5, num=40)\n",
    "#print(x)\n",
    "plot(x, sin(x))"
   ]
  },
  {
   "cell_type": "code",
   "execution_count": 51,
   "metadata": {
    "collapsed": true
   },
   "outputs": [],
   "source": [
    "import numpy as np\n",
    "import scipy as sp\n",
    "import matplotlib.pyplot as plt"
   ]
  },
  {
   "cell_type": "code",
   "execution_count": 52,
   "metadata": {
    "collapsed": true
   },
   "outputs": [],
   "source": [
    "np.linspace?"
   ]
  }
 ],
 "metadata": {
  "kernelspec": {
   "display_name": "Python 2",
   "language": "python",
   "name": "python2"
  },
  "language_info": {
   "codemirror_mode": {
    "name": "ipython",
    "version": 2
   },
   "file_extension": ".py",
   "mimetype": "text/x-python",
   "name": "python",
   "nbconvert_exporter": "python",
   "pygments_lexer": "ipython2",
   "version": "2.7.10"
  }
 },
 "nbformat": 4,
 "nbformat_minor": 0
}
