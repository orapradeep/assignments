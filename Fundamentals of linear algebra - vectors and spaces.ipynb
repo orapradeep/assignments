{
 "cells": [
  {
   "cell_type": "code",
   "execution_count": 9,
   "metadata": {
    "collapsed": true
   },
   "outputs": [],
   "source": [
    "# To start, we're using slightly different libraries than usual\n",
    "# Jupyter's inline plots don't seem to be ready for 3D yet\n",
    "import numpy as np\n",
    "import matplotlib\n",
    "import matplotlib.pylab as plt\n",
    "from mpl_toolkits import mplot3d"
   ]
  },
  {
   "cell_type": "markdown",
   "metadata": {},
   "source": [
    "# Vectors\n",
    "\n",
    "A **vector** is a geometric entity with a **magnitude** and a **direction**. The prototype for a vector from physics is the position vector, which describes the location of a point relative to a coordinate system. Let's look at some vectors."
   ]
  },
  {
   "cell_type": "code",
   "execution_count": 10,
   "metadata": {
    "collapsed": true
   },
   "outputs": [],
   "source": [
    "# A 1-dimensional vector (a point on the number line)\n",
    "vec1d = np.array([2.1])\n",
    "\n",
    "# A 2-dimensional vector\n",
    "vec2d = np.array([2.1,3.6])\n",
    "\n",
    "# A 3-dimensional vector \n",
    "vec3d = np.array([2.1,3.6,1.7])"
   ]
  },
  {
   "cell_type": "code",
   "execution_count": 11,
   "metadata": {
    "collapsed": false,
    "scrolled": false
   },
   "outputs": [],
   "source": [
    "# Plot our three vectors.\n",
    "\n",
    "# We want our arrows to originate from the origin\n",
    "x_origin = np.array([0])\n",
    "y_origin = np.array([0])\n",
    "z_origin = np.array([0])\n",
    "\n",
    "# matplotlib provides two different interfaces for plotting. In previous examples,\n",
    "# we have used matplotlib.pylab.plot(), which is simpler but less flexible.\n",
    "# In this more complicated example, we will use the \"object-oriented\" interface.\n",
    "\n",
    "fig = plt.figure()   # Q: What is the type of fig?\n",
    "\n",
    "# ------------------------------------------------------------------------\n",
    "# 1D plot ----------------------------------------------------------------\n",
    "ax = fig.add_subplot(1,3,1)  # Q: What is the type of ax?\n",
    "\n",
    "ax.quiver(x_origin,y_origin,     # Origin of vector\n",
    "          vec1d[0],0.,           # Components of vector\n",
    "          angles=\"xy\", scale_units=\"xy\", scale=1.,  # Scaling rules\n",
    "          headlength = 10, headwidth = 10           # Arrowhead rules\n",
    "         )\n",
    "ax.set_xlim([-.1,3.])\n",
    "ax.set_title(\"1D vector\")\n",
    "ax.set_xlabel('x')\n",
    "ax.set_ylabel('y')\n",
    "ax.grid(True)\n",
    "\n",
    "# ------------------------------------------------------------------------\n",
    "# 2D plot ----------------------------------------------------------------\n",
    "ax = fig.add_subplot(1,3,2)\n",
    "ax.quiver(x_origin,y_origin,\n",
    "          vec2d[0],vec2d[1],\n",
    "          angles=\"xy\", scale_units=\"xy\", scale=1.,\n",
    "          headlength = 10, headwidth = 10\n",
    "          )\n",
    "ax.set_xlim([-.1,3.])\n",
    "ax.set_ylim([-.1,4.])\n",
    "ax.set_title(\"2D vector\")\n",
    "ax.set_xlabel('x')\n",
    "ax.set_ylabel('y')\n",
    "ax.grid(True)\n",
    "\n",
    "# ------------------------------------------------------------------------\n",
    "# 3D plot ----------------------------------------------------------------\n",
    "ax = plt.subplot(1,3,3,projection='3d')  # Q: What is the type of ax? Different than above!\n",
    "ax.quiver(vec3d[0],vec3d[1],vec3d[2],\n",
    "             vec3d[0],vec3d[1],vec3d[2],\n",
    "             length = np.linalg.norm(vec3d),\n",
    "             arrow_length_ratio=.2\n",
    "           )\n",
    "ax.set_xlim3d([0.,4])\n",
    "ax.set_ylim3d([0.,4])\n",
    "ax.set_zlim3d([0.,4])\n",
    "ax.set_xlabel('x')\n",
    "ax.set_ylabel('y')\n",
    "ax.set_zlabel('z')\n",
    "ax.set_title('3D Vector')\n",
    "plt.grid(True)\n",
    "\n",
    "plt.show()"
   ]
  },
  {
   "cell_type": "markdown",
   "metadata": {
    "collapsed": true
   },
   "source": [
    "# Basic equation of linear algebra\n",
    "\n",
    "The basic equation upon which much of linear algebra is built is\n",
    "\n",
    "$$ Ax = b$$\n",
    "\n",
    "where $A$ is a matrix, $x$ is the vector of unknowns, and $b$ is a column vector (often called the \"right hand side\"). A few different situations may arise. Let's look at them through an example.\n",
    "\n",
    "## Situation I: $n \\times n$, inverse exists\n",
    "\n",
    "Suppose you work for a teleco company. Your company offers two tiers of bandwidth service, one for \"ordinary users\" an one for \"power users.\" The pricing scheme is as follows:\n",
    " \n",
    "<table style=\"width:50%\">\n",
    "  <tr>\n",
    "    <td>**Tier**</td>\n",
    "    <td>**Price**</td> \n",
    "    <td>**Bandwidth**</td>\n",
    "  </tr>\n",
    "  <tr>\n",
    "    <td>A</td>\n",
    "    <td> RM 54</td> \n",
    "    <td>3 Gb</td>\n",
    "  </tr>\n",
    "    <tr>\n",
    "    <td>B</td>\n",
    "    <td> RM 84</td> \n",
    "    <td>7 Gb</td>\n",
    "    </tr>\n",
    "</table>\n",
    "\n",
    "You have been charged with determining the number of customers in each tier to target for marketing. The technology department tells you they have $B=12,000$GB bandwidth available, and finance tells you the company is shooting for $R=\\mathrm{RM} 155,000$ in revenue. You formulate the following matrix equation:\n",
    "\n",
    "<br>\n",
    "<center>\n",
    " $ \\begin{bmatrix}\n",
    "54 & 84 \\\\\n",
    "3 & 7 \n",
    "\\end{bmatrix} \n",
    "\\begin{bmatrix}\n",
    "N_A \\\\ N_B\n",
    "\\end{bmatrix}\n",
    "=\n",
    "\\begin{bmatrix}\n",
    "155000 \\\\ 12000\n",
    "\\end{bmatrix}\n",
    "$\n",
    "</center>\n",
    "\n",
    "where $N_A$ and $N_B$ are the number of plans sold at tier A and B respectively. \n",
    "\n",
    "Happily, this is an **square matrix**, one which has the same number of rows as it has columns. If a matrix is square it might have an inverse. If the inverse exsts, we can solve for vector of unknowns using the formula $x = A^{-1}b$:"
   ]
  },
  {
   "cell_type": "code",
   "execution_count": 12,
   "metadata": {
    "collapsed": false
   },
   "outputs": [
    {
     "name": "stdout",
     "output_type": "stream",
     "text": [
      "[[  611.11111111]\n",
      " [ 1452.38095238]]\n"
     ]
    }
   ],
   "source": [
    "A = np.matrix([[54.,84.],[3.,7.]])\n",
    "b = np.matrix([[155000.],[12000.]])\n",
    "x = np.linalg.inv(A)*b\n",
    "print x"
   ]
  },
  {
   "cell_type": "markdown",
   "metadata": {},
   "source": [
    "With this you conclude that the company needs to sell quantities of $N_A=611$ and $N_B=1453$ for tier A and tier B respectively.\n",
    "\n",
    "**Question:** What happens if finance asked for a revenue of $R=250,000$? Edit the matrix equation above and interpret the result.\n",
    "\n",
    "\n",
    "Let's take a look at the inverse matrix:"
   ]
  },
  {
   "cell_type": "code",
   "execution_count": 13,
   "metadata": {
    "collapsed": false
   },
   "outputs": [
    {
     "name": "stdout",
     "output_type": "stream",
     "text": [
      "[[ 0.05555556 -0.66666667]\n",
      " [-0.02380952  0.42857143]]\n"
     ]
    }
   ],
   "source": [
    "print np.linalg.inv(A)"
   ]
  },
  {
   "cell_type": "markdown",
   "metadata": {},
   "source": [
    "We see that $A^{-1}$ is a matrix with the same dimensions as $A$. When we multiply $A$ times its own inverse, we get the identity matrix: "
   ]
  },
  {
   "cell_type": "code",
   "execution_count": 14,
   "metadata": {
    "collapsed": false
   },
   "outputs": [
    {
     "name": "stdout",
     "output_type": "stream",
     "text": [
      "[[ 1.  0.]\n",
      " [ 0.  1.]]\n"
     ]
    }
   ],
   "source": [
    "print np.linalg.inv(A)*A"
   ]
  },
  {
   "cell_type": "markdown",
   "metadata": {},
   "source": [
    "Recall that the identity matrix $I$ when multiplied by any vector $x$ gives back $x$ as the result. This helps us understand how the inverse matrix works. Consider the original equation:\n",
    "$$\n",
    "Ax = b\n",
    "$$\n",
    "\n",
    "Let's *left multiply* both sides of the equation by $A^{-1}$. Note that in matrix algebra, there is a difference between left muliply and right multiply!\n",
    "\n",
    "$$\n",
    "A^{-1} A x = A^{-1} b\n",
    "$$\n",
    "\n",
    "$$\n",
    "I x = A^{-1} b\n",
    "$$\n",
    "\n",
    "$$\n",
    "x = A^{-1} b\n",
    "$$\n",
    "\n",
    "The operation of left-multiplying by $A^{-1}$ is analagous to dividing both sides by $A$ for a standard algebraic equation."
   ]
  },
  {
   "cell_type": "markdown",
   "metadata": {},
   "source": [
    "## Situation II: $n \\times n$, inverse does not exist\n",
    "\n",
    "The marketing team comes back with a brilliant idea. Instead of forcing customers to choose between getting more data at a better rate, why not let them buy the smaller plan at the same rate as the larger plan? Let's reduce the price, they say, to RM 36 for 3 GB so that regardless of which tier a customer chooses the price remains RM12/GB.\n",
    "\n",
    "<table style=\"width:50%\">\n",
    "  <tr>\n",
    "    <td>**Tier**</td>\n",
    "    <td>**Price**</td> \n",
    "    <td>**Bandwidth**</td>\n",
    "  </tr>\n",
    "  <tr>\n",
    "    <td>A</td>\n",
    "    <td> RM 36</td> \n",
    "    <td>3 Gb</td>\n",
    "  </tr>\n",
    "    <tr>\n",
    "    <td>B</td>\n",
    "    <td> RM 84</td> \n",
    "    <td>7 Gb</td>\n",
    "    </tr>\n",
    "</table>\n",
    "\n",
    "Again you are charged with figuring out how many of each tier you must sell. You formulate your matrix equation again:\n",
    "\n",
    "<br>\n",
    "<center>\n",
    " $ \\begin{bmatrix}\n",
    "36 & 84 \\\\\n",
    "3 & 7 \n",
    "\\end{bmatrix} \n",
    "\\begin{bmatrix}\n",
    "N_A \\\\ N_B\n",
    "\\end{bmatrix}\n",
    "=\n",
    "\\begin{bmatrix}\n",
    "155000 \\\\ 12000\n",
    "\\end{bmatrix}\n",
    "$\n",
    "</center>\n",
    "\n",
    "No problem. Same as before, right?"
   ]
  },
  {
   "cell_type": "code",
   "execution_count": 17,
   "metadata": {
    "collapsed": false,
    "scrolled": false
   },
   "outputs": [
    {
     "ename": "LinAlgError",
     "evalue": "Singular matrix",
     "output_type": "error",
     "traceback": [
      "\u001b[1;31m---------------------------------------------------------------------------\u001b[0m",
      "\u001b[1;31mLinAlgError\u001b[0m                               Traceback (most recent call last)",
      "\u001b[1;32m<ipython-input-17-82b47c57f1d8>\u001b[0m in \u001b[0;36m<module>\u001b[1;34m()\u001b[0m\n\u001b[0;32m      1\u001b[0m \u001b[0mA\u001b[0m \u001b[1;33m=\u001b[0m \u001b[0mnp\u001b[0m\u001b[1;33m.\u001b[0m\u001b[0mmatrix\u001b[0m\u001b[1;33m(\u001b[0m\u001b[1;33m[\u001b[0m\u001b[1;33m[\u001b[0m\u001b[1;36m36.\u001b[0m\u001b[1;33m,\u001b[0m\u001b[1;36m84.\u001b[0m\u001b[1;33m]\u001b[0m\u001b[1;33m,\u001b[0m\u001b[1;33m[\u001b[0m\u001b[1;36m3.\u001b[0m\u001b[1;33m,\u001b[0m\u001b[1;36m7.\u001b[0m\u001b[1;33m]\u001b[0m\u001b[1;33m]\u001b[0m\u001b[1;33m)\u001b[0m\u001b[1;33m\u001b[0m\u001b[0m\n\u001b[0;32m      2\u001b[0m \u001b[0mb\u001b[0m \u001b[1;33m=\u001b[0m \u001b[0mnp\u001b[0m\u001b[1;33m.\u001b[0m\u001b[0mmatrix\u001b[0m\u001b[1;33m(\u001b[0m\u001b[1;33m[\u001b[0m\u001b[1;33m[\u001b[0m\u001b[1;36m155000.\u001b[0m\u001b[1;33m]\u001b[0m\u001b[1;33m,\u001b[0m\u001b[1;33m[\u001b[0m\u001b[1;36m12000.\u001b[0m\u001b[1;33m]\u001b[0m\u001b[1;33m]\u001b[0m\u001b[1;33m)\u001b[0m\u001b[1;33m\u001b[0m\u001b[0m\n\u001b[1;32m----> 3\u001b[1;33m \u001b[0mx\u001b[0m \u001b[1;33m=\u001b[0m \u001b[0mnp\u001b[0m\u001b[1;33m.\u001b[0m\u001b[0mlinalg\u001b[0m\u001b[1;33m.\u001b[0m\u001b[0minv\u001b[0m\u001b[1;33m(\u001b[0m\u001b[0mA\u001b[0m\u001b[1;33m)\u001b[0m\u001b[1;33m*\u001b[0m\u001b[0mb\u001b[0m\u001b[1;33m\u001b[0m\u001b[0m\n\u001b[0m\u001b[0;32m      4\u001b[0m \u001b[1;32mprint\u001b[0m \u001b[0mx\u001b[0m\u001b[1;33m\u001b[0m\u001b[0m\n",
      "\u001b[1;32mC:\\Python27\\lib\\site-packages\\numpy\\linalg\\linalg.pyc\u001b[0m in \u001b[0;36minv\u001b[1;34m(a)\u001b[0m\n\u001b[0;32m    524\u001b[0m     \u001b[0msignature\u001b[0m \u001b[1;33m=\u001b[0m \u001b[1;34m'D->D'\u001b[0m \u001b[1;32mif\u001b[0m \u001b[0misComplexType\u001b[0m\u001b[1;33m(\u001b[0m\u001b[0mt\u001b[0m\u001b[1;33m)\u001b[0m \u001b[1;32melse\u001b[0m \u001b[1;34m'd->d'\u001b[0m\u001b[1;33m\u001b[0m\u001b[0m\n\u001b[0;32m    525\u001b[0m     \u001b[0mextobj\u001b[0m \u001b[1;33m=\u001b[0m \u001b[0mget_linalg_error_extobj\u001b[0m\u001b[1;33m(\u001b[0m\u001b[0m_raise_linalgerror_singular\u001b[0m\u001b[1;33m)\u001b[0m\u001b[1;33m\u001b[0m\u001b[0m\n\u001b[1;32m--> 526\u001b[1;33m     \u001b[0mainv\u001b[0m \u001b[1;33m=\u001b[0m \u001b[0m_umath_linalg\u001b[0m\u001b[1;33m.\u001b[0m\u001b[0minv\u001b[0m\u001b[1;33m(\u001b[0m\u001b[0ma\u001b[0m\u001b[1;33m,\u001b[0m \u001b[0msignature\u001b[0m\u001b[1;33m=\u001b[0m\u001b[0msignature\u001b[0m\u001b[1;33m,\u001b[0m \u001b[0mextobj\u001b[0m\u001b[1;33m=\u001b[0m\u001b[0mextobj\u001b[0m\u001b[1;33m)\u001b[0m\u001b[1;33m\u001b[0m\u001b[0m\n\u001b[0m\u001b[0;32m    527\u001b[0m     \u001b[1;32mreturn\u001b[0m \u001b[0mwrap\u001b[0m\u001b[1;33m(\u001b[0m\u001b[0mainv\u001b[0m\u001b[1;33m.\u001b[0m\u001b[0mastype\u001b[0m\u001b[1;33m(\u001b[0m\u001b[0mresult_t\u001b[0m\u001b[1;33m,\u001b[0m \u001b[0mcopy\u001b[0m\u001b[1;33m=\u001b[0m\u001b[0mFalse\u001b[0m\u001b[1;33m)\u001b[0m\u001b[1;33m)\u001b[0m\u001b[1;33m\u001b[0m\u001b[0m\n\u001b[0;32m    528\u001b[0m \u001b[1;33m\u001b[0m\u001b[0m\n",
      "\u001b[1;32mC:\\Python27\\lib\\site-packages\\numpy\\linalg\\linalg.pyc\u001b[0m in \u001b[0;36m_raise_linalgerror_singular\u001b[1;34m(err, flag)\u001b[0m\n\u001b[0;32m     88\u001b[0m \u001b[1;33m\u001b[0m\u001b[0m\n\u001b[0;32m     89\u001b[0m \u001b[1;32mdef\u001b[0m \u001b[0m_raise_linalgerror_singular\u001b[0m\u001b[1;33m(\u001b[0m\u001b[0merr\u001b[0m\u001b[1;33m,\u001b[0m \u001b[0mflag\u001b[0m\u001b[1;33m)\u001b[0m\u001b[1;33m:\u001b[0m\u001b[1;33m\u001b[0m\u001b[0m\n\u001b[1;32m---> 90\u001b[1;33m     \u001b[1;32mraise\u001b[0m \u001b[0mLinAlgError\u001b[0m\u001b[1;33m(\u001b[0m\u001b[1;34m\"Singular matrix\"\u001b[0m\u001b[1;33m)\u001b[0m\u001b[1;33m\u001b[0m\u001b[0m\n\u001b[0m\u001b[0;32m     91\u001b[0m \u001b[1;33m\u001b[0m\u001b[0m\n\u001b[0;32m     92\u001b[0m \u001b[1;32mdef\u001b[0m \u001b[0m_raise_linalgerror_nonposdef\u001b[0m\u001b[1;33m(\u001b[0m\u001b[0merr\u001b[0m\u001b[1;33m,\u001b[0m \u001b[0mflag\u001b[0m\u001b[1;33m)\u001b[0m\u001b[1;33m:\u001b[0m\u001b[1;33m\u001b[0m\u001b[0m\n",
      "\u001b[1;31mLinAlgError\u001b[0m: Singular matrix"
     ]
    }
   ],
   "source": [
    "A = np.matrix([[36.,84.],[3.,7.]])\n",
    "b = np.matrix([[155000.],[12000.]])\n",
    "x = np.linalg.inv(A)*b\n",
    "print x"
   ]
  },
  {
   "cell_type": "markdown",
   "metadata": {},
   "source": [
    "*Wrong!* The inverse of this matrix does not exist! (A matrix which does not have an inverse is called a **singular matrix**)\n",
    "\n",
    "To understand what's happening, let's depict Situations I and II graphically. It will be helpful to rewrite the matrix equation as follows:\n",
    "\n",
    "<br>\n",
    "<center>\n",
    " $ \\begin{bmatrix}\n",
    "54\\\\\n",
    "3 \n",
    "\\end{bmatrix} \n",
    "N_A +\n",
    "\\begin{bmatrix}\n",
    "84 \\\\ 7\n",
    "\\end{bmatrix}\n",
    "N_B\n",
    "=\n",
    "\\begin{bmatrix}\n",
    "155000 \\\\ 12000\n",
    "\\end{bmatrix}\n",
    "$\n",
    "</center>\n",
    "\n",
    "In this form, we see that the matrix-vector product is a **linear combination** of the columns of $A$.\n",
    "\n",
    "**Checkpoint:** Take a moment to convince yourself that this is equivalent to the matrix form above. "
   ]
  },
  {
   "cell_type": "code",
   "execution_count": null,
   "metadata": {
    "collapsed": false
   },
   "outputs": [],
   "source": [
    "# Left plot\n",
    "vecA = np.array([54.,3.])*611.11111111\n",
    "vecB = np.array([84.,7.])*1452.38095238\n",
    "plt.subplot(1,2,1)\n",
    "plt.quiver(0., 0., vecA[0], vecA[1],          \n",
    "          angles=\"xy\", scale_units=\"xy\", scale=1.,  # Scaling rules\n",
    "          headlength = 10, headwidth = 10)          # Arrowhead rules\n",
    "plt.quiver(vecA[0], vecA[1], vecB[0], vecB[1],          \n",
    "          angles=\"xy\", scale_units=\"xy\", scale=1.,  # Scaling rules\n",
    "          headlength = 10, headwidth = 10)          # Arrowhead rules\n",
    "plt.plot(155000,12000,'ro')\n",
    "plt.title(\"Situation I, inverse exists\")\n",
    "plt.xlabel('Revenue')\n",
    "plt.ylabel('Bandwidth')\n",
    "plt.xlim([0,160000])\n",
    "plt.ylim([0,20000])\n",
    "plt.grid(True)\n",
    "plt.xticks(rotation=35)\n",
    "plt.text(158000,11700,\"Target reached\")\n",
    "\n",
    "# Right plot\n",
    "plt.subplot(1,2,2)\n",
    "vecA = np.array([36.,3.])*1000\n",
    "vecB = np.array([84.,7.])*1500\n",
    "plt.quiver(0., 0., vecA[0], vecA[1],          \n",
    "          angles=\"xy\", scale_units=\"xy\", scale=1.,  # Scaling rules\n",
    "          headlength = 10, headwidth = 10)          # Arrowhead rules\n",
    "plt.quiver(vecA[0], vecA[1], vecB[0], vecB[1],          \n",
    "          angles=\"xy\", scale_units=\"xy\", scale=1.,  # Scaling rules\n",
    "          headlength = 10, headwidth = 10)          # Arrowhead rules\n",
    "plt.plot(155000,12000,'ro')\n",
    "plt.title(\"Situation II, singular matrix\")\n",
    "plt.xlabel('Revenue')\n",
    "plt.ylabel('Bandwidth')\n",
    "plt.xlim([0,160000])\n",
    "plt.ylim([0,20000])\n",
    "plt.ylim([0,20000])\n",
    "plt.grid(True)\n",
    "plt.xticks(rotation=35)\n",
    "plt.text(158000,11700,\"Target unreachable!\")\n",
    "\n",
    "plt.subplots_adjust(wspace=.4)\n",
    "plt.show()"
   ]
  },
  {
   "cell_type": "markdown",
   "metadata": {},
   "source": [
    "In Situation I, we have two non-parallel vectors. By constructing an appropriate linear combination of these vectors, we are able to achieve the target (red circle). \n",
    "\n",
    "In Situation II, on the other hand, the two vectors in our column space are parallel. No matter how we try to combine them, we cannot reach any points outside of the straight line along the vectors!\n",
    "\n",
    "We refer to the space of points which can be reached by a matrix as the **span** of the matrix. In Situation I, the span is the entire plane of points, whereas in Situation II the span is only the points along one straight line.\n",
    "\n",
    "So, unfortunately, the demands of your company cannot be reached. Instead, let's get as close as we can. The inverse doesn't exist, so instead we'll use the **pseudo-inverse**."
   ]
  },
  {
   "cell_type": "code",
   "execution_count": null,
   "metadata": {
    "collapsed": false
   },
   "outputs": [],
   "source": [
    "A = np.matrix([[36.,84.],[3.,7.]])\n",
    "b = np.matrix([[155000.],[12000.]])\n",
    "x = np.linalg.pinv(A)*b\n",
    "print x"
   ]
  },
  {
   "cell_type": "markdown",
   "metadata": {},
   "source": [
    "Does this solution solve our equation $Ax=b$? No it does not; the solution doesn't exist. If it did, the two vectors printed below would be equal:"
   ]
  },
  {
   "cell_type": "code",
   "execution_count": null,
   "metadata": {
    "collapsed": false
   },
   "outputs": [],
   "source": [
    "b_approximate = A*x\n",
    "print b_approximate\n",
    "print b"
   ]
  },
  {
   "cell_type": "markdown",
   "metadata": {},
   "source": [
    "Let's plot this result on top of our vector diagram to see what happened:"
   ]
  },
  {
   "cell_type": "code",
   "execution_count": null,
   "metadata": {
    "collapsed": false
   },
   "outputs": [],
   "source": [
    "# Left plot\n",
    "vecA = np.array([54.,3.])*611.11111111\n",
    "vecB = np.array([84.,7.])*1452.38095238\n",
    "plt.subplot(1,2,1)\n",
    "plt.quiver(0., 0., vecA[0], vecA[1],          \n",
    "          angles=\"xy\", scale_units=\"xy\", scale=1.,  # Scaling rules\n",
    "          headlength = 10, headwidth = 10)          # Arrowhead rules\n",
    "plt.quiver(vecA[0], vecA[1], vecB[0], vecB[1],          \n",
    "          angles=\"xy\", scale_units=\"xy\", scale=1.,  # Scaling rules\n",
    "          headlength = 10, headwidth = 10)          # Arrowhead rules\n",
    "plt.plot(155000,12000,'ro')\n",
    "plt.title(\"Situation I, inverse exists\")\n",
    "plt.xlabel('Revenue')\n",
    "plt.ylabel('Bandwidth')\n",
    "plt.xlim([0,160000])\n",
    "plt.ylim([0,20000])\n",
    "plt.grid(True)\n",
    "plt.xticks(rotation=35)\n",
    "plt.text(158000,11700,\"Target reached\")\n",
    "\n",
    "# Right plot\n",
    "plt.subplot(1,2,2)\n",
    "vecA = np.array([36.,3.])*668\n",
    "vecB = np.array([84.,7.])*1559\n",
    "plt.quiver(0., 0., vecA[0], vecA[1],          \n",
    "          angles=\"xy\", scale_units=\"xy\", scale=1.,  # Scaling rules\n",
    "          headlength = 10, headwidth = 10)          # Arrowhead rules\n",
    "plt.quiver(vecA[0], vecA[1], vecB[0], vecB[1],          \n",
    "          angles=\"xy\", scale_units=\"xy\", scale=1.,  # Scaling rules\n",
    "          headlength = 10, headwidth = 10)          # Arrowhead rules\n",
    "plt.plot(b_approximate[0],b_approximate[1],'go')\n",
    "plt.plot(155000.,12000.,'ro')\n",
    "plt.title(\"Situation II, singular matrix\")\n",
    "plt.xlabel('Revenue')\n",
    "plt.ylabel('Bandwidth')\n",
    "plt.xlim([0,160000])\n",
    "plt.ylim([0,20000])\n",
    "plt.ylim([0,20000])\n",
    "plt.grid(True)\n",
    "plt.xticks(rotation=35)\n",
    "plt.text(150000,13500,\"Nearest approximation\")\n",
    "plt.text(158000,11700,\"Target unreachable!\")\n",
    "plt.show()"
   ]
  },
  {
   "cell_type": "markdown",
   "metadata": {},
   "source": [
    "Actually, this plot is deceptive because the axes are not equal. Let's make them equal and zoom in to the interesting part:"
   ]
  },
  {
   "cell_type": "code",
   "execution_count": null,
   "metadata": {
    "collapsed": false
   },
   "outputs": [],
   "source": [
    "# Right plot\n",
    "vecA = np.array([36.,3.])*668\n",
    "vecB = np.array([84.,7.])*1559\n",
    "\n",
    "plt.plot(b_approximate[0],b_approximate[1],'go')\n",
    "plt.plot(155000.,12000.,'ro')\n",
    "plt.title(r\"$b_\\mathrm{approximate}$ is the closest point to $b$ on the line\")\n",
    "plt.xlabel('Revenue')\n",
    "plt.ylabel('Bandwidth')\n",
    "plt.xlim([0,160000])\n",
    "plt.ylim([0,20000])\n",
    "plt.ylim([0,20000])\n",
    "plt.grid(True)\n",
    "plt.xticks(rotation=35)\n",
    "plt.text(b_approximate[0],b_approximate[1],r\"$b_{\\mathrm{approximate}}$\")\n",
    "plt.text(155000,11700,r\"$b$ (Target)\")\n",
    "\n",
    "plt.plot([0.,vecA[0]*6.7],[0.,vecA[1]*6.7],'k--')  # Extend the line\n",
    "plt.plot([155000,b_approximate[0]],[12000,b_approximate[1]],'k--')\n",
    "\n",
    "plt.axis('equal')\n",
    "plt.xlim([150000,160000])\n",
    "plt.ylim([10000,15000])\n",
    "plt.show()"
   ]
  },
  {
   "cell_type": "markdown",
   "metadata": {},
   "source": [
    "We see that the line connecting $b_\\mathrm{approximate}$ to $b$ is *perpendicular* to the span of matrix $A$. \n",
    "\n",
    "**Question:** Why should this be the case?"
   ]
  },
  {
   "cell_type": "markdown",
   "metadata": {},
   "source": [
    "## Exercise\n",
    "\n",
    "1. Construct a scenario in which there are three tiers instead of just two. Are you able to reach the target goals for revenue and bandwidth? \n",
    "2. Construct a scenario in which there are three targets instead of just two. For instance, suppose each plan is also associated with a certain number of minutes of calling time. Select a number of minutes for tiers A and B (from Situation I) and also a target. Can you reach this goal with two tiers?"
   ]
  }
 ],
 "metadata": {
  "kernelspec": {
   "display_name": "Python 2",
   "language": "python",
   "name": "python2"
  },
  "language_info": {
   "codemirror_mode": {
    "name": "ipython",
    "version": 2
   },
   "file_extension": ".py",
   "mimetype": "text/x-python",
   "name": "python",
   "nbconvert_exporter": "python",
   "pygments_lexer": "ipython2",
   "version": "2.7.10"
  }
 },
 "nbformat": 4,
 "nbformat_minor": 0
}
