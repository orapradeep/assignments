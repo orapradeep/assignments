{
 "cells": [
  {
   "cell_type": "markdown",
   "metadata": {},
   "source": [
    "## Nutritionix data downloader\n",
    "\n",
    "Downloading data from the internet is often the slowest part of a project. Furthermore, may APIs (including Nutritionix) put a limit on how many requests they will accept. For these reasons, it's best to download only once and save the information to a file.\n",
    "\n",
    "This short script will use the `requests` library to download data from the Nutrionix database. It will then use `dill` to save this data to a file which can be opened in other Python codes."
   ]
  },
  {
   "cell_type": "code",
   "execution_count": null,
   "metadata": {
    "collapsed": true
   },
   "outputs": [],
   "source": [
    "import requests\n",
    "import dill"
   ]
  },
  {
   "cell_type": "code",
   "execution_count": null,
   "metadata": {
    "collapsed": true
   },
   "outputs": [],
   "source": [
    "# A function to search for a food item and return search results as a json blob\n",
    "def get_nutrition_json(query):\n",
    "    \n",
    "    # Nutritionix login information\n",
    "    # Put your credentials here!\n",
    "    appid  = 'YOUR_APP_ID'\n",
    "    appkey = 'YOUR_APP_KEY'\n",
    "    \n",
    "    post_data = {\n",
    "                  \"appId\":appid,\n",
    "                  \"appKey\":appkey,  \n",
    "                  \"query\":query,\n",
    "                  \"fields\":[\n",
    "                            \"nf_calories\",\n",
    "                            \"nf_calories_from_fat\",\n",
    "                            \"nf_total_fat\",\n",
    "                            \"nf_saturated_fat\",\n",
    "                            \"nf_monounsaturated_fat\",\n",
    "                            \"nf_polyunsaturated_fat\",\n",
    "                            \"nf_trans_fatty_acid\",\n",
    "                            \"nf_cholesterol\",\n",
    "                            \"nf_sodium\",\n",
    "                            \"nf_total_carbohydrate\",\n",
    "                            \"nf_dietary_fiber\",\n",
    "                            \"nf_sugars\",\n",
    "                            \"nf_protein\",\n",
    "                            \"nf_vitamin_a_dv\",\n",
    "                            \"nf_vitamin_c_dv\",\n",
    "                            \"nf_calcium_dv\",\n",
    "                            \"nf_iron_dv\",\n",
    "                            \"nf_potassium\",\n",
    "                            \"nf_serving_size_qty\",\n",
    "                            \"nf_serving_size_unit\"]\n",
    "        }\n",
    "    \n",
    "    # Question: Do you remember GET vs POST?\n",
    "    r = requests.post(\"https://api.nutritionix.com/v1_1/search\", data = post_data)\n",
    "\n",
    "    return r.json()"
   ]
  },
  {
   "cell_type": "code",
   "execution_count": null,
   "metadata": {
    "collapsed": true
   },
   "outputs": [],
   "source": [
    "foods = [\"spinach\",\"quinoa\",\"tomato\",\"balsamic vinaigrette\",\"brown rice\",\"blueberries\",\n",
    "         \"fried rice\", \"pizza\", \"naan\", \"fried chicken\", \"maggi noodles\", \"chicken tikka masala\",\n",
    "         \"nasi lemak\", \"white bread\", \"salmon\", \"french fries\", \"banana\"\n",
    "        ] "
   ]
  },
  {
   "cell_type": "code",
   "execution_count": null,
   "metadata": {
    "collapsed": false
   },
   "outputs": [],
   "source": [
    "# This line downloads the nutrition information for the foods listed above\n",
    "nutrients = [get_nutrition_json(food) for food in foods]\n",
    "nutrient_dict = {}\n",
    "for i,food in enumerate(foods):\n",
    "        nutrient_dict[food]=nutrients[i]"
   ]
  },
  {
   "cell_type": "code",
   "execution_count": null,
   "metadata": {
    "collapsed": true
   },
   "outputs": [],
   "source": [
    "# Save downloaded data to file\n",
    "with open('nutrient_dict.pkl','w') as f:\n",
    "    dill.dump(nutrient_dict,f)"
   ]
  },
  {
   "cell_type": "markdown",
   "metadata": {},
   "source": [
    "### Attribution\n",
    "Powered by [Nutritionix API](http://www.nutritionix.com/api)"
   ]
  }
 ],
 "metadata": {
  "kernelspec": {
   "display_name": "Python 2",
   "language": "python",
   "name": "python2"
  },
  "language_info": {
   "codemirror_mode": {
    "name": "ipython",
    "version": 2
   },
   "file_extension": ".py",
   "mimetype": "text/x-python",
   "name": "python",
   "nbconvert_exporter": "python",
   "pygments_lexer": "ipython2",
   "version": "2.7.10"
  }
 },
 "nbformat": 4,
 "nbformat_minor": 0
}
