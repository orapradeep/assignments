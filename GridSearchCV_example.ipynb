{
 "cells": [
  {
   "cell_type": "code",
   "execution_count": 4,
   "metadata": {
    "collapsed": false
   },
   "outputs": [
    {
     "data": {
      "text/plain": [
       "GridSearchCV(cv=None, error_score='raise',\n",
       "       estimator=Lasso(alpha=1.0, copy_X=True, fit_intercept=True, max_iter=1000,\n",
       "   normalize=False, positive=False, precompute=False, random_state=None,\n",
       "   selection='cyclic', tol=0.0001, warm_start=False),\n",
       "       fit_params={}, iid=True, n_jobs=1,\n",
       "       param_grid={'alpha': [0.01, 0.1, 1, 10, 100]},\n",
       "       pre_dispatch='2*n_jobs', refit=True, scoring=None, verbose=0)"
      ]
     },
     "execution_count": 4,
     "metadata": {},
     "output_type": "execute_result"
    }
   ],
   "source": [
    "import numpy as np\n",
    "from sklearn.linear_model import Ridge\n",
    "from sklearn.linear_model import Lasso\n",
    "from sklearn.linear_model import LinearRegression\n",
    "from sklearn.grid_search import GridSearchCV\n",
    "\n",
    "\n",
    "\n",
    "m=95\n",
    "n=90\n",
    "\n",
    "inptL=np.random.rand(m,n)\n",
    "outptL=np.random.rand(m,1)\n",
    "inptT=np.random.rand(m,n)\n",
    "outptT=np.random.rand(m,1)\n",
    "\n",
    "ourRegression=GridSearchCV(Lasso(),{'alpha':[0.01,0.1,1,10,100]})\n",
    "\n",
    "ourRegression.fit(inptL,outptL)\n",
    "\n"
   ]
  },
  {
   "cell_type": "code",
   "execution_count": 11,
   "metadata": {
    "collapsed": false
   },
   "outputs": [
    {
     "name": "stdout",
     "output_type": "stream",
     "text": [
      "[ 0.49970928  0.49970928  0.49970928  0.49970928  0.49970928  0.49970928\n",
      "  0.49970928  0.49970928  0.49970928  0.49970928  0.49970928  0.49970928\n",
      "  0.49970928  0.49970928  0.49970928  0.49970928  0.49970928  0.49970928\n",
      "  0.49970928  0.49970928  0.49970928  0.49970928  0.49970928  0.49970928\n",
      "  0.49970928  0.49970928  0.49970928  0.49970928  0.49970928  0.49970928\n",
      "  0.49970928  0.49970928  0.49970928  0.49970928  0.49970928  0.49970928\n",
      "  0.49970928  0.49970928  0.49970928  0.49970928  0.49970928  0.49970928\n",
      "  0.49970928  0.49970928  0.49970928  0.49970928  0.49970928  0.49970928\n",
      "  0.49970928  0.49970928  0.49970928  0.49970928  0.49970928  0.49970928\n",
      "  0.49970928  0.49970928  0.49970928  0.49970928  0.49970928  0.49970928\n",
      "  0.49970928  0.49970928  0.49970928  0.49970928  0.49970928  0.49970928\n",
      "  0.49970928  0.49970928  0.49970928  0.49970928  0.49970928  0.49970928\n",
      "  0.49970928  0.49970928  0.49970928  0.49970928  0.49970928  0.49970928\n",
      "  0.49970928  0.49970928  0.49970928  0.49970928  0.49970928  0.49970928\n",
      "  0.49970928  0.49970928  0.49970928  0.49970928  0.49970928  0.49970928\n",
      "  0.49970928  0.49970928  0.49970928  0.49970928  0.49970928]\n",
      "-0.0232773554091\n"
     ]
    }
   ],
   "source": [
    "#print ourRegression.coeff_\n",
    "print ourRegression.predict(inptT)\n",
    "print ourRegression.score(inptT,outptT)\n",
    "#print ourRegression.prob"
   ]
  },
  {
   "cell_type": "code",
   "execution_count": null,
   "metadata": {
    "collapsed": true
   },
   "outputs": [],
   "source": []
  }
 ],
 "metadata": {
  "kernelspec": {
   "display_name": "Python 2",
   "language": "python",
   "name": "python2"
  },
  "language_info": {
   "codemirror_mode": {
    "name": "ipython",
    "version": 2
   },
   "file_extension": ".py",
   "mimetype": "text/x-python",
   "name": "python",
   "nbconvert_exporter": "python",
   "pygments_lexer": "ipython2",
   "version": "2.7.10"
  }
 },
 "nbformat": 4,
 "nbformat_minor": 0
}
