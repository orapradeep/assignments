{
 "cells": [
  {
   "cell_type": "markdown",
   "metadata": {},
   "source": [
    "Before beginning this project, please visit [this](http://www.nutritionix.com/business/api) page and sign up for a free nutritionix account. The website says it may take 24 hours for your account to be confirmed, but mine was confirmed immediately.\n",
    "\n",
    "# Nutrition\n",
    "\n",
    "The USDA provides guidelines on proper nutrition for good health [this](http://health.gov/dietaryguidelines/dga2010/dietaryguidelines2010.pdf) report. See Appendix 5.\n",
    "\n",
    "In this project, we will computes an optimal diet for meeting these guidelines. From Appendix 5, choose the category you find most appropriate or most interesting and look at the daily nutrient intake suggestions. For simplicity we will focus only on the following nutrients:\n",
    "\n",
    "- Protein\n",
    "- Carbohydrates\n",
    "- Fiber\n",
    "- Total Fat\n",
    "- Saturated Fat\n",
    "- Cholestorol \n",
    "- Calcium\n",
    "- Iron\n",
    "- Sodium\n",
    "- Vitamin A\n",
    "- Vitamin C\n",
    "- Calories\n",
    "\n",
    "*Hints:*\n",
    "\n",
    "1. For some nutrients the suggestion is to consume *less than* a certain amount. These must be formulated as a constraint.\n",
    "2. You will need to assume a daily calorie intake. There isn't a single answer to questions like this. Choose something you think is appropriate. You can use [this](http://healthyeating.sfgate.com/average-calorie-intake-human-per-day-versus-recommendation-1867.html) page as a guide, or search for your own answer.\n",
    "3. For some nutrients, Nutritionix (our data source) will provide us with a \"percent daily value\" rather than an absolute amount in grams or miligrams. For these, assume that the provided percentage is applicable regardless of gender/age. Be sure to read the Nutritionix documentation.\n",
    "\n",
    "### Problem Statement\n",
    "Choose several foods which a person might consume in one day. Find the optimum number of servings to best meet the day's nutrional requirements."
   ]
  },
  {
   "cell_type": "markdown",
   "metadata": {},
   "source": [
    "### Useful links\n",
    "The following documents were used to generate this solution:\n",
    "\n",
    "1. Nutritionix [fields](https://docs.google.com/a/nutritionix.com/spreadsheet/ccc?key=0AmQ7yz5GxBrvdFhtRUpPdjl3VWk2U0dvZENyUVNrWGc&usp=drive_web#gid=0) - A google doc describing the fields available from the Nutritionix API\n",
    "2. USDA [report](http://health.gov/dietaryguidelines/dga2010/dietaryguidelines2010.pdf) - A report outlining suggested daily intakes of nutrients. See Appendix 5."
   ]
  },
  {
   "cell_type": "code",
   "execution_count": null,
   "metadata": {
    "collapsed": true
   },
   "outputs": [],
   "source": [
    "%matplotlib inline\n",
    "import matplotlib\n",
    "import seaborn as sns\n",
    "matplotlib.rcParams['savefig.dpi'] = 2 * matplotlib.rcParams['savefig.dpi']\n",
    "import dill\n",
    "import numpy as np\n",
    "from scipy.optimize import fmin_slsqp"
   ]
  },
  {
   "cell_type": "code",
   "execution_count": null,
   "metadata": {
    "collapsed": false
   },
   "outputs": [],
   "source": [
    "# Load data downloaded from other sheet\n",
    "with open('nutrient_dict.pkl','r') as f:\n",
    "    nutrient_dict = dill.load(f)"
   ]
  },
  {
   "cell_type": "code",
   "execution_count": null,
   "metadata": {
    "collapsed": false,
    "scrolled": true
   },
   "outputs": [],
   "source": [
    "# Let's take a look at the data structure of nutrient_dict\n",
    "\n",
    "# This loop shows all of the fields for a given food item \n",
    "for key,val in nutrient_dict[\"pizza\"]['hits'][0]['fields'].items():\n",
    "    print key, \"  ...  \", val\n",
    "print\n",
    "\n",
    "# We can also access a single field\n",
    "print nutrient_dict[\"pizza\"]['hits'][0]['fields']['nf_saturated_fat']"
   ]
  },
  {
   "cell_type": "code",
   "execution_count": null,
   "metadata": {
    "collapsed": false
   },
   "outputs": [],
   "source": [
    "# In this cell I create a dict that maps each nutrient name to an index\n",
    "# This makes my code easier to understand, because when I refer to a specific nutrient I \n",
    "# can index it by its nutrient name rather than an integer.\n",
    "ls_nutrient_list = [\n",
    "\"Calories\",\n",
    "\"Protein\",\n",
    "\"Carbohydrates\",\n",
    "\"Fiber\",\n",
    "\"Calcium\",\n",
    "\"Iron\",\n",
    "\"Vitamin A\",\n",
    "]\n",
    "\n",
    "ls_index_map = {}\n",
    "for i,nutrient in enumerate(ls_nutrient_list):\n",
    "    ls_index_map[nutrient] = i\n",
    "print ls_index_map"
   ]
  },
  {
   "cell_type": "code",
   "execution_count": null,
   "metadata": {
    "collapsed": false
   },
   "outputs": [],
   "source": [
    "# Same type of dicts for constraints\n",
    "\n",
    "# \"Less than\" constraints\n",
    "constraint_lt_nutrient_list = [\n",
    "    \"Cals from fat\",\n",
    "    \"Cals from saturated fat\",\n",
    "    \"Cholesterol\",\n",
    "    \"Sodium\"\n",
    "]\n",
    "n_constraint_lt_nutrients = len(constraint_lt_nutrient_list)\n",
    "constraint_lt_index_map = {}\n",
    "for i,nutrient in enumerate(constraint_lt_nutrient_list):\n",
    "    constraint_lt_index_map[nutrient] = i\n",
    "print constraint_lt_index_map\n",
    "\n",
    "# \"Greater than\" constraints\n",
    "constraint_gt_nutrient_list = [\n",
    "    \"Cals from fat\",\n",
    "    \"Vitamin C\"\n",
    "]\n",
    "n_constraint_gt_nutrients = len(constraint_gt_nutrient_list)\n",
    "constraint_gt_index_map = {}\n",
    "for i,nutrient in enumerate(constraint_gt_nutrient_list):\n",
    "    constraint_gt_index_map[nutrient] = i\n",
    "print constraint_gt_index_map"
   ]
  },
  {
   "cell_type": "code",
   "execution_count": null,
   "metadata": {
    "collapsed": false
   },
   "outputs": [],
   "source": [
    "# Here I create a map from the names I use to the names used by the Nutritionix API\n",
    "nf_map = {\n",
    "\"Calories\":\"nf_calories\",\n",
    "\"Protein\":\"nf_protein\",\n",
    "\"Carbohydrates\":\"nf_total_carbohydrate\",\n",
    "\"Fiber\":\"nf_dietary_fiber\",\n",
    "\"Cals from fat\":\"nf_calories_from_fat\",\n",
    "\"Cals from saturated fat\":\"nf_saturated_fat\",      # This is a special case! nf_saturated_fat is in grams\n",
    "\"Cholesterol\":\"nf_cholesterol\",\n",
    "\"Calcium\":\"nf_calcium_dv\",\n",
    "\"Iron\":\"nf_iron_dv\",\n",
    "\"Sodium\":\"nf_sodium\",\n",
    "\"Vitamin A\":\"nf_vitamin_a_dv\",\n",
    "\"Vitamin C\":\"nf_vitamin_c_dv\",\n",
    "    }"
   ]
  },
  {
   "cell_type": "code",
   "execution_count": null,
   "metadata": {
    "collapsed": false
   },
   "outputs": [],
   "source": [
    "# target vector\n",
    "calories     = 2500.\n",
    "\n",
    "requirements = np.zeros([len(ls_nutrient_list)])\n",
    "requirements[ls_index_map['Calories']] = calories                 # calories\n",
    "requirements[ls_index_map['Protein']] = 56.                       # grams\n",
    "requirements[ls_index_map['Carbohydrates']] = 130.                # grams\n",
    "requirements[ls_index_map['Fiber']] = 34.                         # grams\n",
    "requirements[ls_index_map['Calcium']] = 100.                      # Percent DV\n",
    "requirements[ls_index_map['Iron']] = 100.                         # Percent DV\n",
    "requirements[ls_index_map['Vitamin A']] = 100.                    # Percent DV"
   ]
  },
  {
   "cell_type": "code",
   "execution_count": null,
   "metadata": {
    "collapsed": false
   },
   "outputs": [],
   "source": [
    "# Constraints vectors\n",
    "constraints_lt = np.zeros([len(constraint_lt_nutrient_list)])\n",
    "constraints_lt[constraint_lt_index_map['Cals from fat']] = calories*.35\n",
    "constraints_lt[constraint_lt_index_map['Cals from saturated fat']] = calories*.1\n",
    "constraints_lt[constraint_lt_index_map['Cholesterol']] = 300\n",
    "constraints_lt[constraint_lt_index_map['Sodium']] = 2300\n",
    "\n",
    "constraints_gt = np.zeros([len(constraint_gt_nutrient_list)])\n",
    "constraints_gt[constraint_gt_index_map['Cals from fat']] = calories*.20\n",
    "constraints_gt[constraint_gt_index_map['Vitamin C']] = 100"
   ]
  },
  {
   "cell_type": "code",
   "execution_count": null,
   "metadata": {
    "collapsed": true
   },
   "outputs": [],
   "source": [
    "# Let's grab some foods from our dictionary\n",
    "#food_list = [\"spinach\", \"quinoa\",\"tomato\",\"balsamic vinaigrette\",\"brown rice\",\"blueberries\",\"pizza\",\"banana\"]\n",
    "food_list = [\"spinach\",\"quinoa\",\"tomato\",\"balsamic vinaigrette\",\"brown rice\",\"blueberries\",\n",
    "         \"fried rice\", \"pizza\", \"naan\", \"fried chicken\", \"maggi noodles\", \"chicken tikka masala\",\n",
    "         \"nasi lemak\", \"white bread\", \"salmon\", \"french fries\", \"banana\"\n",
    "        ] "
   ]
  },
  {
   "cell_type": "code",
   "execution_count": null,
   "metadata": {
    "collapsed": false,
    "scrolled": true
   },
   "outputs": [],
   "source": [
    "# This function picks a nutrient out of the nutrient dictionary\n",
    "# Nutritionix returns NaN for some values. These will be returned as zero.\n",
    "def pick_nutrient(nutrient_dict, food, field):\n",
    "    out = nutrient_dict[food]['hits'][0]['fields'][field]\n",
    "    \n",
    "    if field=='nf_saturated_fat':\n",
    "\n",
    "        saturated_fat_grams = out\n",
    "        total_fat_grams = pick_nutrient(nutrient_dict, food, 'nf_total_fat')\n",
    "        calories = pick_nutrient(nutrient_dict, food, 'nf_calories')\n",
    "        out = saturated_fat_grams/total_fat_grams * calories\n",
    "\n",
    "    if out:\n",
    "        return out\n",
    "    else:\n",
    "        return 0."
   ]
  },
  {
   "cell_type": "code",
   "execution_count": null,
   "metadata": {
    "collapsed": true
   },
   "outputs": [],
   "source": [
    "# This function builds the \"food matrix\"\n",
    "def build_food_matrix(foods, nutrient_list, nutrient_dict, index_map, nf_map):\n",
    "    matrix = np.matrix(np.zeros([len(nutrient_list),len(foods)]))\n",
    "    for jfood,food in enumerate(foods):\n",
    "        for nutrient in nutrient_list:\n",
    "            matrix[index_map[nutrient],jfood] = pick_nutrient(nutrient_dict,food,nf_map[nutrient])\n",
    "    return matrix"
   ]
  },
  {
   "cell_type": "code",
   "execution_count": null,
   "metadata": {
    "collapsed": false
   },
   "outputs": [],
   "source": [
    "# Matrix for least-squares minimization\n",
    "food_matrix_ls = build_food_matrix(food_list, \n",
    "                                   ls_nutrient_list, \n",
    "                                   nutrient_dict, \n",
    "                                   ls_index_map, \n",
    "                                   nf_map)\n",
    "\n",
    "# Matrix for \"Less than\" constraints\n",
    "food_matrix_constraint_lt = build_food_matrix(food_list, \n",
    "                                   constraint_lt_nutrient_list, \n",
    "                                   nutrient_dict, \n",
    "                                   constraint_lt_index_map, \n",
    "                                   nf_map)\n",
    "\n",
    "# Matrix for \"Greater than\" constraints\n",
    "food_matrix_constraint_gt = build_food_matrix(food_list, \n",
    "                                   constraint_gt_nutrient_list, \n",
    "                                   nutrient_dict, \n",
    "                                   constraint_gt_index_map, \n",
    "                                   nf_map)\n",
    "\n",
    "# Set to True to print the nutrients in food list\n",
    "if (False):\n",
    "    for i,food in enumerate(food_list):\n",
    "        print food\n",
    "        for nutrient in ls_nutrient_list:\n",
    "            print nutrient, food_matrix_ls[ls_index_map[nutrient],i]\n",
    "        print"
   ]
  },
  {
   "cell_type": "code",
   "execution_count": null,
   "metadata": {
    "collapsed": false
   },
   "outputs": [],
   "source": [
    "# This block of code is merely a sanity check\n",
    "# This is a _very_ useful thing to do in general! We want to make sure that our numbers are reasonable\n",
    "# It's very easy to make a mistake. \n",
    "# For example if Nutritionix specified something in mg but USDA specified in grams, we might catch it here.\n",
    "\n",
    "ones_vector = np.matrix(np.ones([len(food_list),1]))\n",
    "one_of_each = food_matrix_ls*ones_vector              # Assume we're having 1 serving of each food item\n",
    "\n",
    "print \"Least-squares nutrients\"\n",
    "for i, nutrient in enumerate(ls_nutrient_list):\n",
    "    print nutrient, float(one_of_each[i][0]), \"/\", requirements[i]\n",
    "    \n",
    "print\n",
    "print '\"Less than\" constraints:'\n",
    "one_of_each_lt = food_matrix_constraint_lt*ones_vector\n",
    "for i, nutrient in enumerate(constraint_lt_nutrient_list):\n",
    "    print nutrient, float(one_of_each_lt[i][0]), \"/\", constraints_lt[i],\"---\", constraints_lt[i]-float(one_of_each_lt[i][0])\n",
    "    \n",
    "print\n",
    "print '\"Greater than\" constraints:'\n",
    "one_of_each_gt = food_matrix_constraint_gt*ones_vector\n",
    "for i, nutrient in enumerate(constraint_gt_nutrient_list):\n",
    "    print nutrient, float(one_of_each_gt[i][0]), \"/\", constraints_gt[i],\"---\", float(one_of_each_gt[i][0])-constraints_gt[i]"
   ]
  },
  {
   "cell_type": "code",
   "execution_count": null,
   "metadata": {
    "collapsed": false
   },
   "outputs": [],
   "source": [
    "# Objective function for optimization\n",
    "\n",
    "def obj0(x, food_matrix, requirements):\n",
    "    x = np.matrix(x).reshape(len(x),1)\n",
    "    return np.linalg.norm(food_matrix*x - requirements)\n",
    "obj = lambda x:obj0(x,food_matrix_ls,requirements)"
   ]
  },
  {
   "cell_type": "code",
   "execution_count": null,
   "metadata": {
    "collapsed": false,
    "scrolled": true
   },
   "outputs": [],
   "source": [
    "# Constraint function\n",
    "\n",
    "def constraints0(x, food_matrix_constraint_lt, constraints_lt, food_matrix_constraint_gt, constraints_gt):\n",
    "    # In final results, the return value of this function must be all >=0\n",
    "    \n",
    "    x = np.matrix(x).reshape(len(x),1)\n",
    "    constraints_lt = np.matrix(constraints_lt).reshape(len(constraints_lt),1)\n",
    "    constraints_gt = np.matrix(constraints_gt).reshape(len(constraints_gt),1)\n",
    "    \n",
    "    retval_lt = (constraints_lt-food_matrix_constraint_lt*x)\n",
    "    retval_gt = (food_matrix_constraint_gt*x-constraints_gt)\n",
    "\n",
    "    retval = retval_lt.tolist()\n",
    "    retval.extend(retval_gt.tolist())\n",
    "    \n",
    "    return np.array(retval).reshape(len(retval))\n",
    "\n",
    "constraints = lambda x : constraints0(x,food_matrix_constraint_lt, constraints_lt, food_matrix_constraint_gt, constraints_gt)"
   ]
  },
  {
   "cell_type": "code",
   "execution_count": null,
   "metadata": {
    "collapsed": false
   },
   "outputs": [],
   "source": [
    "# Another sanity check (for datatypes)\n",
    "print obj(ones_vector)\n",
    "print constraints(ones_vector)"
   ]
  },
  {
   "cell_type": "code",
   "execution_count": null,
   "metadata": {
    "collapsed": false
   },
   "outputs": [],
   "source": [
    "# Bounds for the design variable (number of servings of each food item)\n",
    "bounds = [(0,10)]*len(food_list)\n",
    "print bounds"
   ]
  },
  {
   "cell_type": "code",
   "execution_count": null,
   "metadata": {
    "collapsed": false,
    "scrolled": false
   },
   "outputs": [],
   "source": [
    "# Run!\n",
    "optimization_output = fmin_slsqp(obj,                   # Objective function\n",
    "                                 ones_vector,           # Initial guess\n",
    "                                 f_ieqcons=constraints, # Constraints function\n",
    "                                 bounds=bounds,\n",
    "                                 iprint = 0\n",
    "                                )"
   ]
  },
  {
   "cell_type": "code",
   "execution_count": null,
   "metadata": {
    "collapsed": false
   },
   "outputs": [],
   "source": [
    "print optimization_output"
   ]
  },
  {
   "cell_type": "code",
   "execution_count": null,
   "metadata": {
    "collapsed": true
   },
   "outputs": [],
   "source": [
    "import matplotlib.pylab as plt\n",
    "import seaborn as sns\n",
    "%matplotlib inline"
   ]
  },
  {
   "cell_type": "code",
   "execution_count": null,
   "metadata": {
    "collapsed": false,
    "scrolled": false
   },
   "outputs": [],
   "source": [
    "locs = np.array(range(len(food_list)))\n",
    "\n",
    "plt.bar(locs-.2,optimization_output,width=0.4)\n",
    "plt.xticks(locs, food_list, rotation=90)\n",
    "plt.ylabel(\"Number of servings\")\n",
    "\"\""
   ]
  },
  {
   "cell_type": "code",
   "execution_count": null,
   "metadata": {
    "collapsed": false
   },
   "outputs": [],
   "source": [
    "locs = np.array(range(len(ls_nutrient_list)))\n",
    "\n",
    "x = np.matrix(optimization_output).reshape([len(food_list),1])\n",
    "b = food_matrix_ls*x\n",
    "\n",
    "b_percentage = np.array(b).reshape((7,)) / requirements * 100.\n",
    "\n",
    "plt.bar(locs-.2,b_percentage,width=0.4)\n",
    "plt.plot([-1,len(locs)],[100.,100],'k-')\n",
    "plt.xticks(locs, ls_nutrient_list, rotation=45)\n",
    "plt.ylabel('Nutrition achieved at optimum servings (of % DV)')\n",
    "\"\""
   ]
  },
  {
   "cell_type": "code",
   "execution_count": null,
   "metadata": {
    "collapsed": false
   },
   "outputs": [],
   "source": [
    "locs = np.array(range(len(constraint_lt_nutrient_list)))\n",
    "\n",
    "x = np.matrix(optimization_output).reshape([len(food_list),1])\n",
    "b = food_matrix_constraint_lt*x\n",
    "\n",
    "plt.bar(locs-.2,b,width=0.4)\n",
    "plt.plot(locs,constraints_lt,'rv')\n",
    "plt.xticks(locs, constraint_lt_nutrient_list, rotation=45)\n",
    "plt.ylabel('\"Less than\" constraints')\n",
    "\"\""
   ]
  },
  {
   "cell_type": "code",
   "execution_count": null,
   "metadata": {
    "collapsed": false
   },
   "outputs": [],
   "source": [
    "locs = np.array(range(len(constraint_gt_nutrient_list)))\n",
    "\n",
    "x = np.matrix(optimization_output).reshape([len(food_list),1])\n",
    "b = food_matrix_constraint_gt*x\n",
    "\n",
    "plt.bar(locs-.2,b,width=0.4)\n",
    "plt.plot(locs,constraints_gt,'r^')\n",
    "plt.xticks(locs, constraint_gt_nutrient_list, rotation=45)\n",
    "plt.ylabel('\"Greater than\" constraints')\n",
    "\"\""
   ]
  },
  {
   "cell_type": "markdown",
   "metadata": {},
   "source": [
    "### Attribution\n",
    "Powered by [Nutritionix API](http://www.nutritionix.com/api)"
   ]
  }
 ],
 "metadata": {
  "kernelspec": {
   "display_name": "Python 2",
   "language": "python",
   "name": "python2"
  },
  "language_info": {
   "codemirror_mode": {
    "name": "ipython",
    "version": 2
   },
   "file_extension": ".py",
   "mimetype": "text/x-python",
   "name": "python",
   "nbconvert_exporter": "python",
   "pygments_lexer": "ipython2",
   "version": "2.7.10"
  }
 },
 "nbformat": 4,
 "nbformat_minor": 0
}
