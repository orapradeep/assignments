{
 "cells": [
  {
   "cell_type": "code",
   "execution_count": 1,
   "metadata": {
    "collapsed": true
   },
   "outputs": [],
   "source": [
    "%matplotlib inline\n",
    "import matplotlib\n",
    "import seaborn as sns\n",
    "matplotlib.rcParams['savefig.dpi'] = 2 * matplotlib.rcParams['savefig.dpi']"
   ]
  },
  {
   "cell_type": "code",
   "execution_count": 2,
   "metadata": {
    "collapsed": true
   },
   "outputs": [],
   "source": [
    "# In this notebook we'll use Python's time module to measure how long algorithms take to run\n",
    "import time"
   ]
  },
  {
   "cell_type": "markdown",
   "metadata": {},
   "source": [
    "# Computational Complexity\n",
    "\n",
    "Computational complexity deals with how long an algorithm takes to run. The complexity of an algorithm is reported using \"Big O\" notation. (Note: Computational complexity has nothing to do with how complicated an algorithm is for a human to understand. Often the easiest-to-understand algorithms are slow.)\n",
    "\n",
    "Some examples ([more](\n",
    "http://stackoverflow.com/questions/1592649/examples-of-algorithms-which-has-o1-on-log-n-and-olog-n-complexities)):\n",
    "\n",
    "$\\mathcal{O}(1)$ - Accessing a list element\n",
    "\n",
    "$\\mathcal{O}(n)$ - Traversing an array/list\n",
    "\n",
    "$\\mathcal{O}(n \\log(n))$ - List sort using `sort()` or `sorted()`\n",
    "\n",
    "$\\mathcal{O}(n^2)$ - Traversing a list twice with a nested `for` loop\n",
    "\n",
    "The larger the data contained in the list, the bigger the difference in runtime will be for algorithms with different complexities. For this reason, especially when you are dealing with a large dataset, you should look for algorithms which minimize your computational complexity.\n",
    "\n",
    "## Example - Problem statement\n",
    "Let's illustrate this point with an example. Suppose we wish to write a function `two_sum()` which takes two arguments: a list of numbers called `nums` and a target number called `target`. The function should return two numbers in `num` which sum to `target`.\n",
    "\n",
    "For example, given the data `nums = [5,8,3,7,9,15,2,12]` and `target = 22`, the function should return 7 and 15.\n",
    "\n",
    "### First solution - $\\mathcal{O}(n^2)$\n",
    "Let's start with the most straightforward implementation:"
   ]
  },
  {
   "cell_type": "code",
   "execution_count": 3,
   "metadata": {
    "collapsed": true
   },
   "outputs": [],
   "source": [
    "def two_sum_n2(nums,target):\n",
    "    for num1 in nums:\n",
    "        for num2 in nums:\n",
    "            if num1+num2==target:\n",
    "                return num1,num2\n",
    "    # If we got here, the pair does not exist\n",
    "    return None"
   ]
  },
  {
   "cell_type": "code",
   "execution_count": 4,
   "metadata": {
    "collapsed": false
   },
   "outputs": [
    {
     "name": "stdout",
     "output_type": "stream",
     "text": [
      "(7, 15)\n"
     ]
    }
   ],
   "source": [
    "# Let's test our first implementation\n",
    "nums = [5,8,3,7,9,15,2,12] \n",
    "target = 22\n",
    "\n",
    "print two_sum_n2(nums,target)"
   ]
  },
  {
   "cell_type": "markdown",
   "metadata": {},
   "source": [
    "This works fine for a small list, but it is $\\mathcal{O}(n^2)$. For a large list this method would be *very* slow.\n",
    "\n",
    "### Second solution - $\\mathcal{O}(n \\log(n))$\n",
    "Looking at this list of build-in Python operations, we see that the `sort()` function operates in $\\mathcal{O}(n \\log(n))$ time. This suggests that if we can come up with an algorithm which loops over the list only once after sorting, we have a much faster algorithm. Let's implement this:"
   ]
  },
  {
   "cell_type": "code",
   "execution_count": 5,
   "metadata": {
    "collapsed": true
   },
   "outputs": [],
   "source": [
    "def two_sum_nlogn(nums, target):\n",
    "    \n",
    "    nums.sort()   # This operation is O(n log(n)). This is the slowest part of the algorithm.\n",
    "    left = 0\n",
    "    right = len(nums) - 1\n",
    "    \n",
    "    # This loop over the list is O(n). \n",
    "    # Can you figure out how it works?\n",
    "    # There is no formula for minimizing complexity! Sometimes we must be clever.\n",
    "    while left < right:\n",
    "        csum = nums[left] + nums[right]\n",
    "        if csum == target:\n",
    "            return (nums[left], nums[right])\n",
    "        elif csum > target:\n",
    "            right = right - 1\n",
    "        else:\n",
    "            left = left + 1\n",
    "    return None"
   ]
  },
  {
   "cell_type": "code",
   "execution_count": 6,
   "metadata": {
    "collapsed": false,
    "scrolled": true
   },
   "outputs": [
    {
     "name": "stdout",
     "output_type": "stream",
     "text": [
      "(7, 15)\n"
     ]
    }
   ],
   "source": [
    "print two_sum_nlogn(nums,target)"
   ]
  },
  {
   "cell_type": "markdown",
   "metadata": {},
   "source": [
    "Again we get the correct answer, and we have reduced our complexity. The slowest part of our function (the `sort()` call) has complexity $\\mathcal{O}(n \\log(n))$, so we say this algorithm has complexity $\\mathcal{O}(n \\log(n))$.\n",
    "\n",
    "As we will see shortly, there is considerable speed up from reducing $\\mathcal{O}(n^2)$ to $\\mathcal{O}(n \\log(n))$. As it turns out, though, for this problem we can do better!\n",
    "\n",
    "In order to do so, we must know the complexity of operations in Python. From [this](https://wiki.python.org/moin/TimeComplexity) page in the docs, we learn that whereas a list lookup is $\\mathcal{O}(n)$, a *dictionary* lookup is $\\mathcal{O}(1)$. Here's how we can use that to our advantage:"
   ]
  },
  {
   "cell_type": "code",
   "execution_count": 7,
   "metadata": {
    "collapsed": true
   },
   "outputs": [],
   "source": [
    "def two_sum_n(nums, target):\n",
    "    \n",
    "    d = {}\n",
    "    \n",
    "    # One loop through the items in nums -> This is order n\n",
    "    for i,x in enumerate(nums):\n",
    "        if target - x in d:\n",
    "            return (nums[d[target - x]], x)\n",
    "        d[x] = i\n",
    "    return None"
   ]
  },
  {
   "cell_type": "code",
   "execution_count": 8,
   "metadata": {
    "collapsed": false
   },
   "outputs": [
    {
     "name": "stdout",
     "output_type": "stream",
     "text": [
      "(7, 15)\n"
     ]
    }
   ],
   "source": [
    "print two_sum_n(nums,target)"
   ]
  },
  {
   "cell_type": "markdown",
   "metadata": {},
   "source": [
    "The fact that dictionary lookups are $\\mathcal{O}(1)$ is one of the most useful aspects of dictionaries. \n",
    "\n",
    "Let's now test the speed of each of these algorithms on a large test case."
   ]
  },
  {
   "cell_type": "code",
   "execution_count": 22,
   "metadata": {
    "collapsed": true
   },
   "outputs": [],
   "source": [
    "import numpy as np"
   ]
  },
  {
   "cell_type": "code",
   "execution_count": 28,
   "metadata": {
    "collapsed": false
   },
   "outputs": [],
   "source": [
    "n = 10000 # The larger n is, the more dramatic the difference in computational time will be\n",
    "\n",
    "# biglist will contain mostly 1s.\n",
    "biglist = np.random.rand(n)\n",
    "\n",
    "# Somewhere in the middle, we have a 2 and 3.\n",
    "biglist[n-2]=2\n",
    "biglist[n-1]=3\n",
    "\n",
    "# Our algorithm should find 2 and 3 to make 5\n",
    "target = 5"
   ]
  },
  {
   "cell_type": "code",
   "execution_count": 29,
   "metadata": {
    "collapsed": false
   },
   "outputs": [
    {
     "name": "stdout",
     "output_type": "stream",
     "text": [
      "O(n^2) algorithm\n",
      "Result:  (2.0, 3.0)\n",
      "Time elapsed:  30.1533930302 seconds\n"
     ]
    }
   ],
   "source": [
    "print \"O(n^2) algorithm\"\n",
    "t = time.time()\n",
    "print \"Result: \", two_sum_n2(biglist,target)\n",
    "time_elapsed = time.time()-t\n",
    "print \"Time elapsed: \", time_elapsed, \"seconds\""
   ]
  },
  {
   "cell_type": "code",
   "execution_count": 30,
   "metadata": {
    "collapsed": false
   },
   "outputs": [
    {
     "name": "stdout",
     "output_type": "stream",
     "text": [
      "O(n log(n)) algorithm\n",
      "Result:  (2.0, 3.0)\n",
      "Time elapsed:  0.0110900402069 seconds\n"
     ]
    }
   ],
   "source": [
    "print \"O(n log(n)) algorithm\"\n",
    "t = time.time()\n",
    "print \"Result: \", two_sum_nlogn(biglist,target)\n",
    "time_elapsed = time.time()-t\n",
    "print \"Time elapsed: \", time_elapsed, \"seconds\""
   ]
  },
  {
   "cell_type": "code",
   "execution_count": 31,
   "metadata": {
    "collapsed": false
   },
   "outputs": [
    {
     "name": "stdout",
     "output_type": "stream",
     "text": [
      "O(n) algorithm\n",
      "Result:  (2.0, 3.0)\n",
      "Time elapsed:  0.00973105430603 seconds\n"
     ]
    }
   ],
   "source": [
    "print \"O(n) algorithm\"\n",
    "t = time.time()\n",
    "print \"Result: \", two_sum_n(biglist,target)\n",
    "time_elapsed = time.time()-t\n",
    "print \"Time elapsed: \", time_elapsed, \"seconds\""
   ]
  },
  {
   "cell_type": "code",
   "execution_count": null,
   "metadata": {
    "collapsed": true
   },
   "outputs": [],
   "source": []
  }
 ],
 "metadata": {
  "kernelspec": {
   "display_name": "Python 2",
   "language": "python",
   "name": "python2"
  },
  "language_info": {
   "codemirror_mode": {
    "name": "ipython",
    "version": 2
   },
   "file_extension": ".py",
   "mimetype": "text/x-python",
   "name": "python",
   "nbconvert_exporter": "python",
   "pygments_lexer": "ipython2",
   "version": "2.7.10"
  }
 },
 "nbformat": 4,
 "nbformat_minor": 0
}
