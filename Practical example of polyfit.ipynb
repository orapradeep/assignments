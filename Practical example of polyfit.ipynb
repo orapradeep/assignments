{
 "cells": [
  {
   "cell_type": "code",
   "execution_count": null,
   "metadata": {
    "collapsed": true
   },
   "outputs": [],
   "source": [
    "%matplotlib inline\n",
    "import matplotlib\n",
    "import seaborn as sns\n",
    "matplotlib.rcParams['savefig.dpi'] = 2 * matplotlib.rcParams['savefig.dpi']"
   ]
  },
  {
   "cell_type": "code",
   "execution_count": null,
   "metadata": {
    "collapsed": false
   },
   "outputs": [],
   "source": [
    "import numpy as np\n",
    "import matplotlib.pyplot as plt\n",
    "from scipy.optimize import minimize"
   ]
  },
  {
   "cell_type": "markdown",
   "metadata": {},
   "source": [
    "## Introduction\n",
    "\n",
    "Recall from the previous lesson on best fit line:\n",
    "\n",
    "1. Given some $x_i$ and $y_i$, we can use a *best fit line* to approximate values of $y$ at unmeasured locations $x$. The line has an equation of the form $y = mx + b$\n",
    "2. By using a higher-order polynomial instead of a line, we can approximate data that follows a curve.\n",
    "\n",
    "This module explores a practical examples of this technique.\n",
    "\n",
    "### Problem statement\n",
    "([inspiration](http://classroom.synonym.com/everyday-examples-situations-apply-quadratic-equations-10200.html))\n",
    "\n",
    "Suppose your company sells a product at price $p$. You have been put in charge of determining the best price. If you set the price too low, such as $p=0$, your company will clearly earn no revenue. Additionally, if the price is too high, nobody will buy your product and again your revenue is zero. How can we find the best price?\n",
    "\n",
    "### Your experiment\n",
    "In order to determine the best price, you run an experiment. You suspect that the best price is between 40 and 75. At each of your 7 retail outlets, you set a different price."
   ]
  },
  {
   "cell_type": "code",
   "execution_count": null,
   "metadata": {
    "collapsed": false
   },
   "outputs": [],
   "source": [
    "n = 7   # Number of stores\n",
    "\n",
    "# At each store, you choose a different price.\n",
    "# The prices are evenly spaced from 40 to 75\n",
    "p = np.round(np.linspace(40,75,n),decimals=2)\n",
    "print p"
   ]
  },
  {
   "cell_type": "markdown",
   "metadata": {},
   "source": [
    "### Results of your experiment\n",
    "Each store sells the product at its prescribed price. At the end of the month, the stores report how many items they sold:"
   ]
  },
  {
   "cell_type": "code",
   "execution_count": null,
   "metadata": {
    "collapsed": false
   },
   "outputs": [],
   "source": [
    "# Number of sales of product\n",
    "sales = np.array([59,54,47,43,37,31,25])\n",
    "\n",
    "# Revenue gained from sales\n",
    "r = p*sales"
   ]
  },
  {
   "cell_type": "markdown",
   "metadata": {},
   "source": [
    "You make a pretty table to give to your boss:"
   ]
  },
  {
   "cell_type": "code",
   "execution_count": null,
   "metadata": {
    "collapsed": false
   },
   "outputs": [],
   "source": [
    "print \"%15s %15s  %15s\" %(\"Store ID\",\"Product price\", \"1-month revenue\")\n",
    "for j in range(n):\n",
    "    print \"%15d %15.2f  %15.2f\"%(j+1,p[j],r[j])"
   ]
  },
  {
   "cell_type": "markdown",
   "metadata": {},
   "source": [
    "Your boss looks at the list and says \"Great work! We'll set the price at 45.83 for all stores!\"\n",
    "\n",
    "As a data scientist, though, you know better. In the real world, measurements fluctuate. Some stores do better than average and others do worse just by random chance. What can we do?\n",
    "\n",
    "Let's visualize the data:"
   ]
  },
  {
   "cell_type": "code",
   "execution_count": null,
   "metadata": {
    "collapsed": false,
    "scrolled": false
   },
   "outputs": [],
   "source": [
    "# Draw the plot\n",
    "plt.plot(p,r,'s')\n",
    "\n",
    "# Label the axes and title\n",
    "plt.xlabel(\"Product Price\")\n",
    "plt.ylabel(\"1-month revenue\")\n",
    "plt.title(\"Results of experiment\")\n",
    "\n",
    "# Set the display size\n",
    "plt.xlim([35,80])\n",
    "plt.ylim([1800,2600])"
   ]
  },
  {
   "cell_type": "markdown",
   "metadata": {},
   "source": [
    "We know from economics that price/revenue curves can be modelled by a parabola (order-2 polynomial.) Let's fit the data using `polyfit()`:"
   ]
  },
  {
   "cell_type": "code",
   "execution_count": null,
   "metadata": {
    "collapsed": false
   },
   "outputs": [],
   "source": [
    "# Get the polynomial coefficients for an order-2 polynomial\n",
    "a = np.polyfit(p,r,2)\n",
    "\n",
    "# Define a fit function\n",
    "fit_func = np.poly1d(a)\n",
    "\n",
    "# Define a range for plotting\n",
    "pfit = np.linspace(40,75,100)\n",
    "\n",
    "# Evaluate fit\n",
    "rfit = fit_func(pfit)"
   ]
  },
  {
   "cell_type": "code",
   "execution_count": null,
   "metadata": {
    "collapsed": false
   },
   "outputs": [],
   "source": [
    "# Plot the fit along with the original data\n",
    "plt.plot(p,r,'s')\n",
    "plt.plot(pfit,rfit,'k-')\n",
    "\n",
    "plt.xlabel(\"Product Price\")\n",
    "plt.ylabel(\"1-month revenue\")\n",
    "plt.title(\"Results of experiment\")\n",
    "plt.legend([\"Measurements\",\"Fit\"])\n",
    "\n",
    "plt.xlim([35,80])\n",
    "plt.ylim([1800,2600])"
   ]
  },
  {
   "cell_type": "markdown",
   "metadata": {},
   "source": [
    "Using the fit, you deduce that the naive optimal price your boss suggested was likely a fluke! The optimal product price is closer to 50.\n",
    "\n",
    "We can next find the optimal price using `scipy.optimize.minimize()`. \n",
    "\n",
    "(Note: There is no `maximize()` in `scipy`. To find a maximum, we compute the negative revenue and call `minimize()`.)"
   ]
  },
  {
   "cell_type": "code",
   "execution_count": null,
   "metadata": {
    "collapsed": false
   },
   "outputs": [],
   "source": [
    "opt = minimize(-fit_func,50) # Q: What is the type of opt?\n",
    "print opt"
   ]
  },
  {
   "cell_type": "code",
   "execution_count": null,
   "metadata": {
    "collapsed": false
   },
   "outputs": [],
   "source": [
    "# The opt object contains our optimal price. Let's print it out:\n",
    "print \"Optimal price: \", np.round(opt['x'][0],2)\n",
    "print \"Revenue at optimal price: \", np.round(-opt['fun'],2)"
   ]
  },
  {
   "cell_type": "markdown",
   "metadata": {
    "collapsed": true
   },
   "source": [
    "### Final thoughts\n",
    "\n",
    "The analysis here gives a result that is better than just naively choosing the observed price $p$ that gives the maximum revenue $r$. The improvement is due to the fact that we have used a statistical technique (linear regression) to approximate the entire distribution. This procedure smooths out some of the noise which is inherent in measurement.\n",
    "\n",
    "In practice, there could be many other considerations which affect the price in different stores. An obvious example is that some stores may be situated in more populated areas. Can you think of a way to control for this? Can you think of other factors which would affect the results?"
   ]
  },
  {
   "cell_type": "code",
   "execution_count": null,
   "metadata": {
    "collapsed": true
   },
   "outputs": [],
   "source": []
  }
 ],
 "metadata": {
  "kernelspec": {
   "display_name": "Python 2",
   "language": "python",
   "name": "python2"
  },
  "language_info": {
   "codemirror_mode": {
    "name": "ipython",
    "version": 2
   },
   "file_extension": ".py",
   "mimetype": "text/x-python",
   "name": "python",
   "nbconvert_exporter": "python",
   "pygments_lexer": "ipython2",
   "version": "2.7.10"
  }
 },
 "nbformat": 4,
 "nbformat_minor": 0
}
